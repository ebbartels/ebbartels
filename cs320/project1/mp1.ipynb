{
 "cells": [
  {
   "cell_type": "code",
   "execution_count": 1,
   "id": "e18fa2ce-5678-4e0a-a78e-b7bb27f9a6ea",
   "metadata": {},
   "outputs": [],
   "source": [
    "# project: p1\n",
    "# submitter: ebbartels\n",
    "# partner: none\n",
    "# hours: 15\n"
   ]
  },
  {
   "cell_type": "code",
   "execution_count": 2,
   "id": "deda5826-ddb5-47c6-9120-f628b599d268",
   "metadata": {},
   "outputs": [],
   "source": [
    "import copy\n",
    "import json\n",
    "import os\n",
    "import pandas as pd\n",
    "import matplotlib.pylab  as plt\n",
    "import subprocess\n",
    "import random\n",
    "import numpy as np\n",
    "import time"
   ]
  },
  {
   "cell_type": "code",
   "execution_count": 3,
   "id": "623eaf27-0e50-4872-8dd3-45b8de1fdea5",
   "metadata": {},
   "outputs": [
    {
     "data": {
      "text/plain": [
       "float"
      ]
     },
     "execution_count": 3,
     "metadata": {},
     "output_type": "execute_result"
    }
   ],
   "source": [
    "#Q1\n",
    "type(8/3)"
   ]
  },
  {
   "cell_type": "code",
   "execution_count": 4,
   "id": "bec1cb88-4739-4fea-b4e3-f58f66779779",
   "metadata": {},
   "outputs": [
    {
     "data": {
      "text/plain": [
       "True"
      ]
     },
     "execution_count": 4,
     "metadata": {},
     "output_type": "execute_result"
    }
   ],
   "source": [
    "#Q2\n",
    "\n",
    "x = 4\n",
    "maximum = 15\n",
    "minimum = 5\n",
    "error = (minimum > x or x > maximum) # False if x is inside the minimum-to-maximum range\n",
    "error\n"
   ]
  },
  {
   "cell_type": "code",
   "execution_count": 5,
   "id": "456c96f6-2836-4362-bbf5-63b9db3667f2",
   "metadata": {},
   "outputs": [
    {
     "data": {
      "text/plain": [
       "True"
      ]
     },
     "execution_count": 5,
     "metadata": {},
     "output_type": "execute_result"
    }
   ],
   "source": [
    "#Q3\n",
    "\n",
    "word = \"QUOTIDIAN\"\n",
    "suffix_match = 'ian' == word[-3:].lower() # .endswith(...) method not allowed for this question! (practice slicing)\n",
    "suffix_match\n"
   ]
  },
  {
   "cell_type": "code",
   "execution_count": 6,
   "id": "6ee5a3bf-2f80-4541-b3ad-872d9c557f3c",
   "metadata": {},
   "outputs": [],
   "source": [
    "def check_sum(x=0, y=0, sum=0):\n",
    "    if x + y == sum:\n",
    "        return True\n",
    "    else:\n",
    "        return False"
   ]
  },
  {
   "cell_type": "code",
   "execution_count": 7,
   "id": "e4ca518f-7c22-44b8-ae27-b1fb5a114d07",
   "metadata": {},
   "outputs": [
    {
     "data": {
      "text/plain": [
       "False"
      ]
     },
     "execution_count": 7,
     "metadata": {},
     "output_type": "execute_result"
    }
   ],
   "source": [
    "#Q4\n",
    "\n",
    "check_sum(0.1, 0.2, 0.3)\n"
   ]
  },
  {
   "cell_type": "code",
   "execution_count": 8,
   "id": "f2d36648-b821-4db7-be22-6e304f3e3bbd",
   "metadata": {},
   "outputs": [
    {
     "data": {
      "text/plain": [
       "True"
      ]
     },
     "execution_count": 8,
     "metadata": {},
     "output_type": "execute_result"
    }
   ],
   "source": [
    "#Q5 \n",
    "check_sum(1,-1)"
   ]
  },
  {
   "cell_type": "code",
   "execution_count": 9,
   "id": "d828e6de-557c-40ea-8e07-8d0a0ac16570",
   "metadata": {},
   "outputs": [
    {
     "data": {
      "text/plain": [
       "'even'"
      ]
     },
     "execution_count": 9,
     "metadata": {},
     "output_type": "execute_result"
    }
   ],
   "source": [
    "#Q6\n",
    "\n",
    "x = 4\n",
    "if x%2 ==1:\n",
    "    status = \"odd\"\n",
    "elif x%2 == 0:\n",
    "    status = \"even\"\n",
    "else:\n",
    "    status = \"non-integer\"\n",
    "status\n"
   ]
  },
  {
   "cell_type": "code",
   "execution_count": 10,
   "id": "64bf3a73-d26e-461f-abe9-60c1034598ba",
   "metadata": {},
   "outputs": [
    {
     "name": "stdout",
     "output_type": "stream",
     "text": [
      "3\n",
      "4\n",
      "1\n",
      "6\n"
     ]
    }
   ],
   "source": [
    "nums = [3, 4, 1, 6]\n",
    "for x in nums:\n",
    "    print(x)\n"
   ]
  },
  {
   "cell_type": "code",
   "execution_count": 11,
   "id": "bffaa914-41f4-4447-b94d-3e36a03b01b0",
   "metadata": {},
   "outputs": [],
   "source": [
    "def neg_sum(nums):\n",
    "    total = 0\n",
    "    for num in nums:\n",
    "        if num > -1:\n",
    "            continue\n",
    "        elif total < -20:\n",
    "            continue\n",
    "        else:\n",
    "            total += num\n",
    "    return total"
   ]
  },
  {
   "cell_type": "code",
   "execution_count": 12,
   "id": "68da1b85-b2c1-4f4c-b04b-20f170c2e5b2",
   "metadata": {},
   "outputs": [
    {
     "data": {
      "text/plain": [
       "0"
      ]
     },
     "execution_count": 12,
     "metadata": {},
     "output_type": "execute_result"
    }
   ],
   "source": [
    "#Q7\n",
    "\n",
    "neg_sum(nums)"
   ]
  },
  {
   "cell_type": "code",
   "execution_count": 13,
   "id": "ac253445-7d0f-4410-ba78-7446abcfb33a",
   "metadata": {},
   "outputs": [
    {
     "data": {
      "text/plain": [
       "-22"
      ]
     },
     "execution_count": 13,
     "metadata": {},
     "output_type": "execute_result"
    }
   ],
   "source": [
    "#Q8\n",
    "\n",
    "neg_sum([-5, 1, -11, -6, 15, -1, 8, 2])"
   ]
  },
  {
   "cell_type": "code",
   "execution_count": 14,
   "id": "2a1969ea-5147-4fec-8d9c-51c9095028bc",
   "metadata": {},
   "outputs": [],
   "source": [
    "header = [\"A\", \"B\", \"C\"]\n",
    "\n",
    "coord1 = {\"x\": 8, \"y\": 5}\n",
    "coord2 = {\"x\": 9, \"y\": 2, \"z\" : 4}\n",
    "coord3 = {\"x\": 3, \"y\": 1, \"z\" : 7}\n",
    "\n",
    "rows = [\n",
    "    [1, 6, 7, 8, coord1],\n",
    "    [3, 4, 9, coord2],\n",
    "    [5, 2, coord3],\n",
    "]\n"
   ]
  },
  {
   "cell_type": "code",
   "execution_count": 15,
   "id": "feea155c-d31f-41a9-b91b-4f3c3341c052",
   "metadata": {},
   "outputs": [
    {
     "data": {
      "text/plain": [
       "True"
      ]
     },
     "execution_count": 15,
     "metadata": {},
     "output_type": "execute_result"
    }
   ],
   "source": [
    "{\"A\":1, \"B\":2} == {\"B\":2, \"A\":1}"
   ]
  },
  {
   "cell_type": "code",
   "execution_count": 16,
   "id": "2e193a89-8672-461f-864e-adca8299f7ca",
   "metadata": {},
   "outputs": [
    {
     "data": {
      "text/plain": [
       "[[1, 6, 7, 8, {'x': 8, 'y': 5}],\n",
       " [3, 4, 9, {'x': 9, 'y': 2, 'z': 4}],\n",
       " [5, 2, {'x': 3, 'y': 1, 'z': 7, 'w': 6}]]"
      ]
     },
     "execution_count": 16,
     "metadata": {},
     "output_type": "execute_result"
    }
   ],
   "source": [
    "#Q9\n",
    "\n",
    "coord3['w'] = 6\n",
    "rows"
   ]
  },
  {
   "cell_type": "code",
   "execution_count": 17,
   "id": "d3ae49e3-3a93-43d9-9a39-4c8c9d269df0",
   "metadata": {},
   "outputs": [
    {
     "data": {
      "text/plain": [
       "8"
      ]
     },
     "execution_count": 17,
     "metadata": {},
     "output_type": "execute_result"
    }
   ],
   "source": [
    "#Q10\n",
    "\n",
    "rows[0][-1][\"x\"]"
   ]
  },
  {
   "cell_type": "code",
   "execution_count": 18,
   "id": "dd4ac768-5699-4359-b0f9-044142d83a08",
   "metadata": {},
   "outputs": [
    {
     "data": {
      "text/plain": [
       "[[1, 6, 7, 8, {'x': 8, 'y': 5}],\n",
       " [3, 404, 9, {'x': 9, 'y': 2, 'z': 4}],\n",
       " [5, 2, {'x': 3, 'y': 1, 'z': 7, 'w': 6}]]"
      ]
     },
     "execution_count": 18,
     "metadata": {},
     "output_type": "execute_result"
    }
   ],
   "source": [
    "#Q11\n",
    "\n",
    "\n",
    "v2 = copy.copy(rows)\n",
    "v2[0] = 404    # first change\n",
    "v2[1][1] = 404\n",
    "\n",
    "rows"
   ]
  },
  {
   "cell_type": "code",
   "execution_count": 19,
   "id": "ef0f353e-10d5-4d7b-8e7b-fb41b723f11e",
   "metadata": {},
   "outputs": [
    {
     "data": {
      "text/plain": [
       "412"
      ]
     },
     "execution_count": 19,
     "metadata": {},
     "output_type": "execute_result"
    }
   ],
   "source": [
    "#Q12\n",
    "\n",
    "idx = header.index('B')\n",
    "total = 0\n",
    "for row in rows:\n",
    "    total += row[idx]\n",
    "total"
   ]
  },
  {
   "cell_type": "code",
   "execution_count": 20,
   "id": "86f180a2-a2e3-4360-bbe8-5f6b513d7d29",
   "metadata": {},
   "outputs": [
    {
     "data": {
      "text/plain": [
       "[[5, 2, {'x': 3, 'y': 1, 'z': 7, 'w': 6}],\n",
       " [1, 6, 7, 8, {'x': 8, 'y': 5}],\n",
       " [3, 404, 9, {'x': 9, 'y': 2, 'z': 4}]]"
      ]
     },
     "execution_count": 20,
     "metadata": {},
     "output_type": "execute_result"
    }
   ],
   "source": [
    "#Q13\n",
    "\n",
    "def get_column_b(row):\n",
    "    return row[header.index(\"B\")]\n",
    "\n",
    "rows.sort(key=get_column_b, reverse=False)\n",
    "rows\n"
   ]
  },
  {
   "cell_type": "code",
   "execution_count": 21,
   "id": "a5594359-6de3-4c05-939b-8badb2c91d26",
   "metadata": {},
   "outputs": [
    {
     "data": {
      "text/plain": [
       "1349.3512340667"
      ]
     },
     "execution_count": 21,
     "metadata": {},
     "output_type": "execute_result"
    }
   ],
   "source": [
    "#Q14\n",
    "\n",
    "f = open(\"usd.json\")\n",
    "data = json.load(f)\n",
    "f.close()\n",
    "dollars = 1000 * data['cad']['rate']\n",
    "dollars\n"
   ]
  },
  {
   "cell_type": "code",
   "execution_count": 22,
   "id": "cfcd444a-4a71-41b6-85b8-cee2be42cfd7",
   "metadata": {},
   "outputs": [],
   "source": [
    "def divide(x,y):\n",
    "    try:\n",
    "        return x/y\n",
    "    except ZeroDivisionError:\n",
    "        return float(\"nan\")"
   ]
  },
  {
   "cell_type": "code",
   "execution_count": 23,
   "id": "d01c6ddb-b811-4e8f-a58c-30490f81ef34",
   "metadata": {},
   "outputs": [
    {
     "data": {
      "text/plain": [
       "2.5"
      ]
     },
     "execution_count": 23,
     "metadata": {},
     "output_type": "execute_result"
    }
   ],
   "source": [
    "#Q15\n",
    "\n",
    "divide(5,2)"
   ]
  },
  {
   "cell_type": "code",
   "execution_count": 24,
   "id": "68ba893c-9dae-4694-88e4-42c3b7e2e3eb",
   "metadata": {},
   "outputs": [
    {
     "data": {
      "text/plain": [
       "nan"
      ]
     },
     "execution_count": 24,
     "metadata": {},
     "output_type": "execute_result"
    }
   ],
   "source": [
    "#Q16\n",
    "\n",
    "divide(0,0)"
   ]
  },
  {
   "cell_type": "code",
   "execution_count": 25,
   "id": "676c0627-c5df-499f-81ae-f72346a4efc8",
   "metadata": {},
   "outputs": [],
   "source": [
    "years = []\n",
    "files = []\n",
    "for file in os.listdir('home-computers'):\n",
    "    if file.endswith('.csv'):\n",
    "        files.append(file)\n",
    "        years.append(int(file.split('.')[0][-4:]))\n",
    "    \n",
    "years.sort()\n",
    "files.sort()\n",
    "\n",
    "census = {}\n",
    "\n",
    "for i in range(len(files)):\n",
    "    year_i = years[i]\n",
    "    file_i = files[i]\n",
    "    path_i = os.path.join('home-computers', file_i)\n",
    "    df_i = pd.read_csv(path_i, header= 0)\n",
    "    df_i.set_axis(df_i.iloc[0], axis=1, inplace=True)\n",
    "    df_i = df_i.set_index('Geographic Area Name')[1:]\n",
    "    census[year_i] = df_i\n"
   ]
  },
  {
   "cell_type": "code",
   "execution_count": 26,
   "id": "ee22a171-8d39-4c7d-84a3-fd82b837992d",
   "metadata": {},
   "outputs": [
    {
     "data": {
      "text/plain": [
       "[2017, 2018, 2019, 2020, 2021]"
      ]
     },
     "execution_count": 26,
     "metadata": {},
     "output_type": "execute_result"
    }
   ],
   "source": [
    "#Q17\n",
    "\n",
    "years"
   ]
  },
  {
   "cell_type": "code",
   "execution_count": 27,
   "id": "43ee1cbd-7672-4708-8926-26b9c6983053",
   "metadata": {},
   "outputs": [
    {
     "data": {
      "text/plain": [
       "2401818"
      ]
     },
     "execution_count": 27,
     "metadata": {},
     "output_type": "execute_result"
    }
   ],
   "source": [
    "#Q18\n",
    "\n",
    "int(census[2021][\"Estimate!!Total\"].loc['Wisconsin'])\n"
   ]
  },
  {
   "cell_type": "code",
   "execution_count": 28,
   "id": "423bcf12-57d4-4056-bf8a-3249dc652452",
   "metadata": {},
   "outputs": [
    {
     "data": {
      "text/plain": [
       "8902093"
      ]
     },
     "execution_count": 28,
     "metadata": {},
     "output_type": "execute_result"
    }
   ],
   "source": [
    "#Q19\n",
    "\n",
    "census[2021]['Estimate!!Total!!No Computer'].astype(int).sum()"
   ]
  },
  {
   "cell_type": "code",
   "execution_count": 29,
   "id": "8914d6fe-f464-4ebd-b7f5-d42b874ee4db",
   "metadata": {},
   "outputs": [
    {
     "data": {
      "text/plain": [
       "0.07836701790752577"
      ]
     },
     "execution_count": 29,
     "metadata": {},
     "output_type": "execute_result"
    }
   ],
   "source": [
    "#Q20\n",
    "\n",
    "census[2021][\"No Computer Error Fraction\"] =  census[2021][\"Margin of Error!!Total!!No Computer\"].astype(int) / census[2021]['Estimate!!Total!!No Computer'].astype(int)\n",
    "\n",
    "census[2021]['No Computer Error Fraction'].max()"
   ]
  },
  {
   "cell_type": "code",
   "execution_count": 30,
   "id": "a3bf175f-1f66-4d7f-b368-1e351b1d8f30",
   "metadata": {},
   "outputs": [
    {
     "data": {
      "text/plain": [
       "{'Illinois': 7.351100500886871,\n",
       " 'Indiana': 8.300995843439395,\n",
       " 'Iowa': 8.302263591069158,\n",
       " 'Michigan': 7.579772219831928,\n",
       " 'Minnesota': 6.1777398950248985,\n",
       " 'Wisconsin': 8.029750797104526}"
      ]
     },
     "execution_count": 30,
     "metadata": {},
     "output_type": "execute_result"
    }
   ],
   "source": [
    "#Q21\n",
    "\n",
    "state_list = ['Illinois', 'Indiana', 'Iowa', 'Michigan', 'Minnesota', 'Wisconsin']\n",
    "no_computer_percent = {}\n",
    "wis_states = census[2021].loc[state_list]\n",
    "wis_states['No Computer Fraction'] = wis_states[\"Estimate!!Total!!No Computer\"].astype(int) / wis_states[\"Estimate!!Total\"].astype(int)\n",
    "\n",
    "for i in range(len(state_list)):\n",
    "    no_computer_percent[state_list[i]] = wis_states['No Computer Fraction'].iloc[i]*100\n",
    "    \n",
    "no_computer_percent\n"
   ]
  },
  {
   "cell_type": "code",
   "execution_count": 31,
   "id": "61ea2e42-6953-4808-803f-2e25c1d6d17e",
   "metadata": {},
   "outputs": [
    {
     "data": {
      "text/plain": [
       "<AxesSubplot:xlabel='Geographic Area Name', ylabel='% of Household w/o Computer'>"
      ]
     },
     "execution_count": 31,
     "metadata": {},
     "output_type": "execute_result"
    },
    {
     "data": {
      "image/png": "[encoded data removed]",
      "text/plain": [
       "<Figure size 640x480 with 1 Axes>"
      ]
     },
     "metadata": {},
     "output_type": "display_data"
    }
   ],
   "source": [
    "#Q22\n",
    "\n",
    "wis_states['No Computer Fraction'] = wis_states['No Computer Fraction']*100\n",
    "ax = wis_states['No Computer Fraction'].plot.bar(y = '% of Household w/o Computers')\n",
    "\n",
    "ax.set_ylabel('% of Household w/o Computer')\n",
    "\n",
    "ax"
   ]
  },
  {
   "cell_type": "code",
   "execution_count": 32,
   "id": "f958a6aa-3d19-4b68-8a2d-67540955a3af",
   "metadata": {},
   "outputs": [
    {
     "data": {
      "text/plain": [
       "Text(0, 0.5, 'WI Households without Computers (Thousands)')"
      ]
     },
     "execution_count": 32,
     "metadata": {},
     "output_type": "execute_result"
    },
    {
     "data": {
      "image/png": "[encoded data removed]",
      "text/plain": [
       "<Figure size 640x480 with 1 Axes>"
      ]
     },
     "metadata": {},
     "output_type": "display_data"
    }
   ],
   "source": [
    "#Q23  \n",
    "wisconsin_no_computer = {}\n",
    "for year in census:\n",
    "    wisconsin_no_computer[year] = census[year]['Estimate!!Total!!No Computer'].astype(int).loc['Wisconsin']/1000\n",
    "wisconsin_no_computer\n",
    "x_axis = list(wisconsin_no_computer.keys())\n",
    "y_axis = list(wisconsin_no_computer.values())\n",
    "\n",
    "ax = plt.plot(x_axis, y_axis)\n",
    "plt.xlabel('year')\n",
    "plt.ylabel('WI Households without Computers (Thousands)')"
   ]
  },
  {
   "cell_type": "code",
   "execution_count": 33,
   "id": "ef8d8ce9-fc44-4f8b-8817-d5e8a8c7f710",
   "metadata": {},
   "outputs": [
    {
     "name": "stderr",
     "output_type": "stream",
     "text": [
      "/tmp/ipykernel_201086/3353859416.py:4: SettingWithCopyWarning: \n",
      "A value is trying to be set on a copy of a slice from a DataFrame.\n",
      "Try using .loc[row_indexer,col_indexer] = value instead\n",
      "\n",
      "See the caveats in the documentation: https://pandas.pydata.org/pandas-docs/stable/user_guide/indexing.html#returning-a-view-versus-a-copy\n",
      "  phones_tablets[\"Estimate!!Total!!Has one or more types of computing devices!!Smartphone\"] = phones_tablets[\"Estimate!!Total!!Has one or more types of computing devices!!Smartphone\"].astype(int)/1e6\n",
      "/tmp/ipykernel_201086/3353859416.py:5: SettingWithCopyWarning: \n",
      "A value is trying to be set on a copy of a slice from a DataFrame.\n",
      "Try using .loc[row_indexer,col_indexer] = value instead\n",
      "\n",
      "See the caveats in the documentation: https://pandas.pydata.org/pandas-docs/stable/user_guide/indexing.html#returning-a-view-versus-a-copy\n",
      "  phones_tablets[\"Estimate!!Total!!Has one or more types of computing devices!!Tablet or other portable wireless computer\"] = phones_tablets[\"Estimate!!Total!!Has one or more types of computing devices!!Tablet or other portable wireless computer\"].astype(int)/1e6\n"
     ]
    },
    {
     "data": {
      "text/plain": [
       "<AxesSubplot:xlabel='Smartphones (millions)', ylabel='Tablets (millions)'>"
      ]
     },
     "execution_count": 33,
     "metadata": {},
     "output_type": "execute_result"
    },
    {
     "data": {
      "image/png": "[encoded data removed]",
      "text/plain": [
       "<Figure size 640x480 with 1 Axes>"
      ]
     },
     "metadata": {},
     "output_type": "display_data"
    }
   ],
   "source": [
    "#Q24\n",
    "\n",
    "phones_tablets = census[2021][[\"Estimate!!Total!!Has one or more types of computing devices!!Smartphone\", \"Estimate!!Total!!Has one or more types of computing devices!!Tablet or other portable wireless computer\"]]\n",
    "phones_tablets[\"Estimate!!Total!!Has one or more types of computing devices!!Smartphone\"] = phones_tablets[\"Estimate!!Total!!Has one or more types of computing devices!!Smartphone\"].astype(int)/1e6\n",
    "phones_tablets[\"Estimate!!Total!!Has one or more types of computing devices!!Tablet or other portable wireless computer\"] = phones_tablets[\"Estimate!!Total!!Has one or more types of computing devices!!Tablet or other portable wireless computer\"].astype(int)/1e6\n",
    "\n",
    "ax = phones_tablets.plot.scatter(x = \"Estimate!!Total!!Has one or more types of computing devices!!Smartphone\", y = \"Estimate!!Total!!Has one or more types of computing devices!!Tablet or other portable wireless computer\")\n",
    "\n",
    "ax.set_xlabel('Smartphones (millions)')\n",
    "ax.set_ylabel('Tablets (millions)')\n",
    "\n",
    "ax"
   ]
  },
  {
   "cell_type": "code",
   "execution_count": 34,
   "id": "de09d75f-81d4-41a9-8130-04fe0bd7baa5",
   "metadata": {},
   "outputs": [
    {
     "data": {
      "text/plain": [
       "'commit 660994efc761efdfd49ca442b73f6712dc77b6cf'"
      ]
     },
     "execution_count": 34,
     "metadata": {},
     "output_type": "execute_result"
    }
   ],
   "source": [
    "#Q25\n",
    "\n",
    "x = subprocess.check_output(f'git log', shell = True,cwd = 'flask', text = True)\n",
    "\n",
    "#git log\n",
    "\n",
    "logs = x.split(\"\\n\")\n",
    "logs[0]\n"
   ]
  },
  {
   "cell_type": "code",
   "execution_count": 35,
   "id": "cf672695-29c4-4ee6-b465-cf081cf68a37",
   "metadata": {},
   "outputs": [
    {
     "data": {
      "text/plain": [
       "['a9d4ea81da28ee9c894bf9d45adc4cfa9d52fddc',\n",
       " '727c701686c18c4a27ca523eb0c5862d497be24e',\n",
       " '4edec48b74dbb9d571e927b69b24c30ec0624975',\n",
       " '625eba4bb403296a8bbc1e72cc9cf4a5126f6c02',\n",
       " '4aa76212d1be9b17a57249549c2a73fb10b6cda8',\n",
       " '3b36bef2e6165bb4dad73d17f23ee1879e99f497',\n",
       " '44b42e0fbd93d86e0f4e929bda8e5fb63e81035d',\n",
       " '4ec7d2a0d8eac4f915dc0d38a886cd57045bb0c4',\n",
       " 'b15ad394279fc3b7f998fa56857f334a7c0156f6',\n",
       " '33850c0ebd23ae615e6823993d441f46d80b1ff0']"
      ]
     },
     "execution_count": 35,
     "metadata": {},
     "output_type": "execute_result"
    }
   ],
   "source": [
    "#Q26\n",
    "\n",
    "commits = []\n",
    "for line in logs:\n",
    "    if line.startswith('commit'):\n",
    "        commits.append(line)\n",
    "        \n",
    "first_10 = commits[-10:]\n",
    "\n",
    "first_10_numbers = []\n",
    "for commit in first_10:\n",
    "    first_10_numbers.append(commit.split(' ')[-1])\n",
    "\n",
    "first_10_numbers"
   ]
  },
  {
   "cell_type": "code",
   "execution_count": 36,
   "id": "b942b8b7-e86a-464a-871d-62a60c853f7a",
   "metadata": {},
   "outputs": [
    {
     "name": "stderr",
     "output_type": "stream",
     "text": [
      "Note: switching to 'f878919753a909e45b2d5448aa175f4f9129ff24'.\n",
      "\n",
      "You are in 'detached HEAD' state. You can look around, make experimental\n",
      "changes and commit them, and you can discard any commits you make in this\n",
      "state without impacting any branches by switching back to a branch.\n",
      "\n",
      "If you want to create a new branch to retain commits you create, you may\n",
      "do so (now or later) by using -c with the switch command. Example:\n",
      "\n",
      "  git switch -c <new-branch-name>\n",
      "\n",
      "Or undo this operation with:\n",
      "\n",
      "  git switch -\n",
      "\n",
      "Turn off this advice by setting config variable advice.detachedHead to false\n",
      "\n",
      "HEAD is now at f8789197 With -> with in headline\n"
     ]
    },
    {
     "data": {
      "text/plain": [
       "\"\\n                          // Flask //\\n\\n         because sometimes a pocket knife is not enough\\n\\n\\n    ~ What is Flask?\\n\\n      Flask is a microframework for Python based on Werkzeug\\n      and Jinja2.  It's intended for small scale applications\\n      and was development with best intentions in mind.\\n\\n    ~ Is it ready?\\n\\n      A preview release is out now, and I'm hoping for some\\n      input about what you want from a microframework and\\n      how it should look like.  Consider the API to slightly\\n      improve over time.\\n\\n    ~ What do I need?\\n\\n      Jinja 2.4 and Werkzeug 0.6.1.  `easy_install` will\\n      install them for you if you do `easy_install Flask==dev`.\\n      I encourage you to use a virtualenv.  Check the docs for\\n      complete installation and usage instructions.\\n\\n    ~ Where are the docs?\\n\\n      Go to http://flask.pocoo.org/ for a prebuild version of\\n      the current documentation.  Otherwise build them yourself\\n      from the sphinx sources in the docs folder.\\n\""
      ]
     },
     "execution_count": 36,
     "metadata": {},
     "output_type": "execute_result"
    }
   ],
   "source": [
    "#Q27\n",
    "\n",
    "commit_100_num = commits[-100].split(' ')[-1]\n",
    "\n",
    "try:\n",
    "    subprocess.check_output(f'git checkout {commit_100_num}', shell = True, cwd = 'flask')\n",
    "except:\n",
    "    subprocess.CalledProcessError\n",
    "    \n",
    "readme = open('flask/README', \"r\")\n",
    "txt = readme.read()\n",
    "readme.close()\n",
    "txt"
   ]
  },
  {
   "cell_type": "code",
   "execution_count": 37,
   "id": "701b50c1-d77c-4ad9-8fce-15267dee1e60",
   "metadata": {},
   "outputs": [
    {
     "name": "stderr",
     "output_type": "stream",
     "text": [
      "Previous HEAD position was f8789197 With -> with in headline\n",
      "Switched to branch 'main'\n"
     ]
    },
    {
     "data": {
      "text/plain": [
       "b\"Your branch is up to date with 'origin/main'.\\n\""
      ]
     },
     "execution_count": 37,
     "metadata": {},
     "output_type": "execute_result"
    }
   ],
   "source": [
    "subprocess.check_output(f'git checkout main', shell = True, cwd = 'flask')"
   ]
  },
  {
   "cell_type": "code",
   "execution_count": 38,
   "id": "05fd4a12-5fa4-4720-97ef-16ada1d3a749",
   "metadata": {},
   "outputs": [
    {
     "data": {
      "text/plain": [
       "{'pallets': 204,\n",
       " 'pgjones': 14,\n",
       " 'greyli': 42,\n",
       " 'ThiefMaster': 11,\n",
       " 'davidism': 45,\n",
       " 'untitaker': 20,\n",
       " 'ThomasWaldmann': 13,\n",
       " 'SimonSapin': 11}"
      ]
     },
     "execution_count": 38,
     "metadata": {},
     "output_type": "execute_result"
    }
   ],
   "source": [
    "#Q28\n",
    "merge_dict = {}\n",
    "for line in logs:\n",
    "    if 'Merge pull request' in line:\n",
    "        username = str(line).split(' ')[-1].split('/')[0]\n",
    "        if username in merge_dict.keys():\n",
    "            merge_dict[username] += 1\n",
    "        else:\n",
    "            merge_dict[username] = 1\n",
    "filter_merge_dict = {key: value for key, value in merge_dict.items() if value >= 10}\n",
    "filter_merge_dict"
   ]
  },
  {
   "cell_type": "code",
   "execution_count": 39,
   "id": "bcf0e61b-342c-4783-9140-5f5d7cc457e6",
   "metadata": {},
   "outputs": [
    {
     "data": {
      "text/plain": [
       "'ERROR: unknown command \"instal\" - maybe you meant \"install\"\\n'"
      ]
     },
     "execution_count": 39,
     "metadata": {},
     "output_type": "execute_result"
    }
   ],
   "source": [
    "#Q29\n",
    "\n",
    "try:\n",
    "    msg = str(subprocess.check_output([\"pip3\", \"instal\"], stderr=subprocess.STDOUT))\n",
    "except subprocess.CalledProcessError as e:\n",
    "    msg = str(e.output, encoding = \"utf-8\")\n",
    "msg"
   ]
  },
  {
   "cell_type": "code",
   "execution_count": 40,
   "id": "c5c5a5f1-0cf9-4cde-a9a2-3b52a31d905e",
   "metadata": {},
   "outputs": [
    {
     "data": {
      "text/plain": [
       "<AxesSubplot:xlabel='Rows', ylabel='Milliseconds'>"
      ]
     },
     "execution_count": 40,
     "metadata": {},
     "output_type": "execute_result"
    },
    {
     "data": {
      "image/png": "[encoded data removed]",
      "text/plain": [
       "<Figure size 640x480 with 1 Axes>"
      ]
     },
     "metadata": {},
     "output_type": "display_data"
    }
   ],
   "source": [
    "#Q30\n",
    "\n",
    "def rand_df(rows):\n",
    "    return pd.DataFrame(np.random.randint(10, size=(rows, 5)),\n",
    "                        columns=[\"A\", \"B\", \"C\", \"D\", \"E\"],\n",
    "                        index=[f\"r{i}\" for i in range(1, rows+1)])\n",
    "\n",
    "times_df = pd.DataFrame(dtype=float)\n",
    "\n",
    "for i in range(1000, 5000, 100):\n",
    "    df = rand_df(i)\n",
    "    t0 = time.time()\n",
    "    for row in df.iterrows():\n",
    "        pass\n",
    "    t1 = time.time()\n",
    "\n",
    "    t01 = time.time()\n",
    "    for row in df.itertuples():\n",
    "        pass\n",
    "    t11 = time.time()\n",
    "    \n",
    "    times_df.at[i, \"iterrows\"] = (t1 -t0)*1000\n",
    "    times_df.at[i, \"itertuples\"] = (t11 - t01)*1000\n",
    "                 \n",
    "ax = times_df.plot.line()\n",
    "ax.set_xlabel('Rows')\n",
    "ax.set_ylabel('Milliseconds')\n",
    "ax"
   ]
  },
  {
   "cell_type": "code",
   "execution_count": 41,
   "id": "fa3a95af-3146-4ca2-b414-5b8679a31c99",
   "metadata": {},
   "outputs": [
    {
     "data": {
      "text/plain": [
       "<AxesSubplot:xlabel='Rows', ylabel='Milliseconds'>"
      ]
     },
     "execution_count": 41,
     "metadata": {},
     "output_type": "execute_result"
    },
    {
     "data": {
      "image/png": "[encoded data removed]",
      "text/plain": [
       "<Figure size 640x480 with 1 Axes>"
      ]
     },
     "metadata": {},
     "output_type": "display_data"
    }
   ],
   "source": [
    "#Q31\n",
    "\n",
    "\n",
    "times_df = pd.DataFrame(dtype=float)\n",
    "\n",
    "for i in range(1000, 5000, 100):\n",
    "    df = rand_df(i)\n",
    "    t0 = time.time()\n",
    "    total = 0\n",
    "    for idx in df.index:\n",
    "        for col in df.columns:\n",
    "            total += df.loc[idx, col]\n",
    "    t1 = time.time()\n",
    "\n",
    "    t01 = time.time()\n",
    "    total = 0\n",
    "    for idx in df.index:\n",
    "        for col in df.columns:\n",
    "            total += df.at[idx, col]\n",
    "    t11 = time.time()\n",
    "    \n",
    "    times_df.at[i, \"loc\"] = (t1 -t0)*1000\n",
    "    times_df.at[i, \"at\"] = (t11 - t01)*1000\n",
    "                 \n",
    "ax = times_df.plot.line()\n",
    "ax.set_xlabel('Rows')\n",
    "ax.set_ylabel('Milliseconds')\n",
    "ax"
   ]
  },
  {
   "cell_type": "code",
   "execution_count": 42,
   "id": "18cb1553-e491-48f4-bdaa-7c3e6b2ddfd9",
   "metadata": {},
   "outputs": [
    {
     "data": {
      "text/plain": [
       "<AxesSubplot:xlabel='Rows', ylabel='Milliseconds'>"
      ]
     },
     "execution_count": 42,
     "metadata": {},
     "output_type": "execute_result"
    },
    {
     "data": {
      "image/png": "[encoded data removed]",
      "text/plain": [
       "<Figure size 640x480 with 1 Axes>"
      ]
     },
     "metadata": {},
     "output_type": "display_data"
    }
   ],
   "source": [
    "#Q32\n",
    "\n",
    "def laugh(x):\n",
    "    return \"qwerty\" * x\n",
    "\n",
    "times_df = pd.DataFrame(dtype=float)\n",
    "\n",
    "for i in range(0, 20000, 100):\n",
    "\n",
    "    df = rand_df(i)\n",
    "    t0 = time.time()\n",
    "\n",
    "    result = df[\"A\"].apply(laugh).tolist()\n",
    "    t1 = time.time()\n",
    "\n",
    "    t01 = time.time()\n",
    "    result = []\n",
    "    for val in df[\"A\"]:\n",
    "        result.append(laugh(val))\n",
    "    t11 = time.time()     \n",
    "    \n",
    "    times_df.at[i, \"apply\"] = (t1 -t0)*1000\n",
    "    times_df.at[i, \"append\"] = (t11 - t01)*1000\n",
    "\n",
    "ax = times_df.plot.line()\n",
    "ax.set_xlabel('Rows')\n",
    "ax.set_ylabel('Milliseconds')\n",
    "ax"
   ]
  }
 ],
 "metadata": {
  "kernelspec": {
   "display_name": "Python 3 (ipykernel)",
   "language": "python",
   "name": "python3"
  },
  "language_info": {
   "codemirror_mode": {
    "name": "ipython",
    "version": 3
   },
   "file_extension": ".py",
   "mimetype": "text/x-python",
   "name": "python",
   "nbconvert_exporter": "python",
   "pygments_lexer": "ipython3",
   "version": "3.10.12"
  }
 },
 "nbformat": 4,
 "nbformat_minor": 5
}
