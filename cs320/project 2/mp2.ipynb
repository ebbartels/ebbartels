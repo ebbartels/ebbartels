{
 "cells": [
  {
   "cell_type": "code",
   "execution_count": 1,
   "id": "53c0ffb3-fda2-445a-8905-f1205de95137",
   "metadata": {},
   "outputs": [],
   "source": [
    "import loans\n",
    "import search\n",
    "import time \n",
    "import pandas as pd\n",
    "import matplotlib.pyplot as plt\n",
    "%load_ext autoreload\n",
    "%autoreload 2\n"
   ]
  },
  {
   "cell_type": "code",
   "execution_count": 2,
   "id": "c2d5bd1a-0106-41b1-bcaa-367ac6b7fd60",
   "metadata": {},
   "outputs": [],
   "source": [
    "# project: p2\n",
    "# submitter: ebbartels\n",
    "# partner: none\n",
    "# hours: 15\n"
   ]
  },
  {
   "cell_type": "code",
   "execution_count": 3,
   "id": "af1b63a6-6778-4112-ad5e-0b2631347177",
   "metadata": {},
   "outputs": [
    {
     "data": {
      "text/plain": [
       "{'American Indian or Alaska Native', 'Asian', 'Black or African American'}"
      ]
     },
     "execution_count": 3,
     "metadata": {},
     "output_type": "execute_result"
    }
   ],
   "source": [
    "applicant = loans.Applicant(\"20-30\", [\"1\", \"2\", \"3\"])\n",
    "applicant.race\n"
   ]
  },
  {
   "cell_type": "code",
   "execution_count": 4,
   "id": "b5c52015-9591-48af-bd10-fd4db6b7cee4",
   "metadata": {},
   "outputs": [
    {
     "data": {
      "text/plain": [
       "Applicant('20-30', ['American Indian or Alaska Native', 'Asian', 'Black or African American'])"
      ]
     },
     "execution_count": 4,
     "metadata": {},
     "output_type": "execute_result"
    }
   ],
   "source": [
    "applicant"
   ]
  },
  {
   "cell_type": "code",
   "execution_count": 5,
   "id": "dec44254-40cd-4fd7-b5e1-62b1e041a7d9",
   "metadata": {},
   "outputs": [
    {
     "data": {
      "text/plain": [
       "20"
      ]
     },
     "execution_count": 5,
     "metadata": {},
     "output_type": "execute_result"
    }
   ],
   "source": [
    "applicant.lower_age()"
   ]
  },
  {
   "cell_type": "code",
   "execution_count": 6,
   "id": "676c3a62-032b-41c9-802e-7ac1c2af0d39",
   "metadata": {},
   "outputs": [
    {
     "data": {
      "text/plain": [
       "[Applicant('20-30', ['American Indian or Alaska Native', 'Black or African American']),\n",
       " Applicant('<25', ['White']),\n",
       " Applicant('35-44', ['Chinese']),\n",
       " Applicant('>75', ['Other Pacific Islander', 'Samoan'])]"
      ]
     },
     "execution_count": 6,
     "metadata": {},
     "output_type": "execute_result"
    }
   ],
   "source": [
    "sorted([\n",
    "    loans.Applicant(\">75\", [\"43\", \"44\"]),\n",
    "    loans.Applicant(\"20-30\", [\"1\", \"3\"]),\n",
    "    loans.Applicant(\"35-44\", [\"22\"]),\n",
    "    loans.Applicant(\"<25\", [\"5\"]),\n",
    "])\n"
   ]
  },
  {
   "cell_type": "code",
   "execution_count": 7,
   "id": "47bfe341-f24a-4443-90ba-d6dbc54e1f97",
   "metadata": {},
   "outputs": [],
   "source": [
    "values = {'activity_year': '2021', 'lei': '549300Q76VHK6FGPX546', 'derived_msa-md': '24580', 'state_code': 'WI','county_code': '55009', 'census_tract': '55009020702', 'conforming_loan_limit': 'C', 'derived_loan_product_type': 'Conventional:First Lien', 'derived_dwelling_category': 'Single Family (1-4 Units):Site-Built', 'derived_ethnicity': 'Not Hispanic or Latino', 'derived_race': 'White', 'derived_sex': 'Joint', 'action_taken': '1', 'purchaser_type': '1', 'preapproval': '2', 'loan_type': '1', 'loan_purpose': '31', 'lien_status': '1', 'reverse_mortgage': '2', 'open-end_line_of_credit': '2', 'business_or_commercial_purpose': '2', 'loan_amount': '325000.0', 'loan_to_value_ratio': '73.409', 'interest_rate': '2.5', 'rate_spread': '0.304', 'hoepa_status': '2', 'total_loan_costs': '3932.75', 'total_points_and_fees': 'NA', 'origination_charges': '3117.5', 'discount_points': '', 'lender_credits': '', 'loan_term': '240', 'prepayment_penalty_term': 'NA', 'intro_rate_period': 'NA', 'negative_amortization': '2', 'interest_only_payment': '2', 'balloon_payment': '2', 'other_nonamortizing_features': '2', 'property_value': '445000', 'construction_method': '1', 'occupancy_type': '1', 'manufactured_home_secured_property_type': '3', 'manufactured_home_land_property_interest': '5', 'total_units': '1', 'multifamily_affordable_units': 'NA', 'income': '264', 'debt_to_income_ratio': '20%-<30%', 'applicant_credit_score_type': '2', 'co-applicant_credit_score_type': '9', 'applicant_ethnicity-1': '2', 'applicant_ethnicity-2': '', 'applicant_ethnicity-3': '', 'applicant_ethnicity-4': '', 'applicant_ethnicity-5': '', 'co-applicant_ethnicity-1': '2', 'co-applicant_ethnicity-2': '', 'co-applicant_ethnicity-3': '', 'co-applicant_ethnicity-4': '', 'co-applicant_ethnicity-5': '', 'applicant_ethnicity_observed': '2', 'co-applicant_ethnicity_observed': '2', 'applicant_race-1': '5', 'applicant_race-2': '', 'applicant_race-3': '', 'applicant_race-4': '', 'applicant_race-5': '', 'co-applicant_race-1': '5', 'co-applicant_race-2': '', 'co-applicant_race-3': '', 'co-applicant_race-4': '', 'co-applicant_race-5': '', 'applicant_race_observed': '2', 'co-applicant_race_observed': '2', 'applicant_sex': '1', 'co-applicant_sex': '2', 'applicant_sex_observed': '2', 'co-applicant_sex_observed': '2', 'applicant_age': '35-44', 'co-applicant_age': '35-44', 'applicant_age_above_62': 'No', 'co-applicant_age_above_62': 'No', 'submission_of_application': '1', 'initially_payable_to_institution': '1', 'aus-1': '1', 'aus-2': '', 'aus-3': '', 'aus-4': '', 'aus-5': '', 'denial_reason-1': '10', 'denial_reason-2': '', 'denial_reason-3': '', 'denial_reason-4': '', 'tract_population': '6839', 'tract_minority_population_percent': '8.85999999999999943', 'ffiec_msa_md_median_family_income': '80100', 'tract_to_msa_income_percentage': '150', 'tract_owner_occupied_units': '1701', 'tract_one_to_four_family_homes': '2056', 'tract_median_age_of_housing_units': '15'}"
   ]
  },
  {
   "cell_type": "code",
   "execution_count": 8,
   "id": "46a1efbe-f801-4cc0-8933-ae3f4eb466fc",
   "metadata": {},
   "outputs": [],
   "source": [
    "loan = loans.Loan(values)"
   ]
  },
  {
   "cell_type": "code",
   "execution_count": 9,
   "id": "f5e1290d-eefa-4efb-9990-e75a13eed151",
   "metadata": {},
   "outputs": [
    {
     "data": {
      "text/plain": [
       "2.5"
      ]
     },
     "execution_count": 9,
     "metadata": {},
     "output_type": "execute_result"
    }
   ],
   "source": [
    "(loan.interest_rate)"
   ]
  },
  {
   "cell_type": "code",
   "execution_count": 10,
   "id": "783d7b12-0a45-48f8-aa5a-d2aa5fbf249a",
   "metadata": {},
   "outputs": [
    {
     "name": "stdout",
     "output_type": "stream",
     "text": [
      "<Loan: 2.5% on $445000.0 with 2 applicant(s)>\n"
     ]
    }
   ],
   "source": [
    "print(loan)"
   ]
  },
  {
   "cell_type": "code",
   "execution_count": 11,
   "id": "347bd0b2-76ae-4c92-bd38-ea133882b933",
   "metadata": {},
   "outputs": [
    {
     "data": {
      "text/plain": [
       "<Loan: 2.5% on $445000.0 with 2 applicant(s)>"
      ]
     },
     "execution_count": 11,
     "metadata": {},
     "output_type": "execute_result"
    }
   ],
   "source": [
    "loan"
   ]
  },
  {
   "cell_type": "code",
   "execution_count": 12,
   "id": "71307f8d-30e3-4e24-8f15-dc8b512ebb8b",
   "metadata": {},
   "outputs": [
    {
     "name": "stdout",
     "output_type": "stream",
     "text": [
      "325000.0\n",
      "303125.0\n",
      "280703.125\n",
      "257720.703125\n",
      "234163.720703125\n",
      "210017.81372070312\n",
      "185268.2590637207\n",
      "159899.96554031371\n",
      "133897.46467882156\n",
      "107244.90129579211\n",
      "79926.02382818691\n",
      "51924.174423891585\n",
      "23222.278784488873\n"
     ]
    }
   ],
   "source": [
    "for amt in loan.yearly_amounts(30000):\n",
    "    print(amt)\n"
   ]
  },
  {
   "cell_type": "code",
   "execution_count": 13,
   "id": "55a1b3b3-57a1-4226-a9cc-75aba3787895",
   "metadata": {},
   "outputs": [
    {
     "data": {
      "text/plain": [
       "'254900CN1DD55MJDFH69'"
      ]
     },
     "execution_count": 13,
     "metadata": {},
     "output_type": "execute_result"
    }
   ],
   "source": [
    "uwcu = loans.Bank(\"University of Wisconsin Credit Union\")\n",
    "\n",
    "uwcu.lei"
   ]
  },
  {
   "cell_type": "code",
   "execution_count": 14,
   "id": "70bd0bd9-fa70-4924-87e4-d44753da6af2",
   "metadata": {},
   "outputs": [
    {
     "data": {
      "text/plain": [
       "'University of Wisconsin Credit Union'"
      ]
     },
     "execution_count": 14,
     "metadata": {},
     "output_type": "execute_result"
    }
   ],
   "source": [
    "uwcu.name"
   ]
  },
  {
   "cell_type": "code",
   "execution_count": 15,
   "id": "e3091ebd-a976-4598-88d6-45908ca802c4",
   "metadata": {},
   "outputs": [],
   "source": [
    "uwcu_loans = uwcu.load_from_zip(\"./wi.zip\")\n"
   ]
  },
  {
   "cell_type": "code",
   "execution_count": 16,
   "id": "9690c207-1f25-489d-9182-e7f965d4475f",
   "metadata": {},
   "outputs": [
    {
     "name": "stdout",
     "output_type": "stream",
     "text": [
      "21153\n",
      "<Loan: 2.99% on $185000.0 with 2 applicant(s)>\n"
     ]
    }
   ],
   "source": [
    "print(len(uwcu))\n",
    "print(uwcu[-1])"
   ]
  },
  {
   "cell_type": "code",
   "execution_count": 17,
   "id": "fdd9052d-7238-4b11-a369-594b9d401fb2",
   "metadata": {},
   "outputs": [
    {
     "name": "stdout",
     "output_type": "stream",
     "text": [
      "A : [9, 5]\n",
      "B : [22]\n",
      "C : [33]\n"
     ]
    }
   ],
   "source": [
    "tree = search.BST()\n",
    "tree.add(\"A\", 9)\n",
    "tree.add(\"A\", 5)\n",
    "tree.add(\"B\", 22)\n",
    "tree.add(\"C\", 33)\n",
    "tree.dump()"
   ]
  },
  {
   "cell_type": "code",
   "execution_count": 18,
   "id": "a42d8bf0-72d4-4502-97c7-eecf3545225c",
   "metadata": {},
   "outputs": [],
   "source": [
    "t = search.BST()\n",
    "t.add(\"B\", 3)\n",
    "assert len(t.root) == 1\n",
    "t.add(\"A\", 2)\n",
    "assert len(t.root) == 2\n",
    "t.add(\"C\", 1)\n",
    "assert len(t.root) == 3\n",
    "t.add(\"C\", 4)\n",
    "assert len(t.root) == 4"
   ]
  },
  {
   "cell_type": "code",
   "execution_count": 19,
   "id": "850ec2aa-1b82-4add-99e8-2d3676546713",
   "metadata": {},
   "outputs": [
    {
     "name": "stdout",
     "output_type": "stream",
     "text": [
      "[2]\n",
      "[1, 4]\n",
      "[]\n"
     ]
    }
   ],
   "source": [
    "print(t.root.lookup(\"A\"))\n",
    "print(t.root.lookup(\"C\"))\n",
    "print(t.root.lookup(\"Z\"))"
   ]
  },
  {
   "cell_type": "code",
   "execution_count": 20,
   "id": "202c0f55-fe07-46f7-90ea-0e51c076a249",
   "metadata": {},
   "outputs": [
    {
     "data": {
      "text/plain": [
       "2.957772277227724"
      ]
     },
     "execution_count": 20,
     "metadata": {},
     "output_type": "execute_result"
    }
   ],
   "source": [
    "#Q1 \n",
    "\n",
    "csb = loans.Bank(\"Charles Schwab Bank, SSB\")\n",
    "csb.load_from_zip(\"./wi.zip\")\n",
    "csb.average_interest_rate()\n",
    "# wrong fix later"
   ]
  },
  {
   "cell_type": "code",
   "execution_count": 21,
   "id": "c41b0a6b-4da7-4c22-b47e-8d348ab31686",
   "metadata": {},
   "outputs": [
    {
     "data": {
      "text/plain": [
       "1.7227722772277227"
      ]
     },
     "execution_count": 21,
     "metadata": {},
     "output_type": "execute_result"
    }
   ],
   "source": [
    "#Q2\n",
    "\n",
    "csb.num_applicants()"
   ]
  },
  {
   "cell_type": "code",
   "execution_count": 22,
   "id": "03819fd8-0eca-4a4c-957f-d56fa4153956",
   "metadata": {},
   "outputs": [
    {
     "data": {
      "text/plain": [
       "{'25-34': 5, '35-44': 25, '45-54': 36, '55-64': 55, '65-74': 41, '>74': 12}"
      ]
     },
     "execution_count": 22,
     "metadata": {},
     "output_type": "execute_result"
    }
   ],
   "source": [
    "#Q3\n",
    "\n",
    "csb.ages_dict()"
   ]
  },
  {
   "cell_type": "code",
   "execution_count": 23,
   "id": "ade57268-0d0a-40dd-8d45-fd35aa8f8ad6",
   "metadata": {},
   "outputs": [
    {
     "data": {
      "text/plain": [
       "1"
      ]
     },
     "execution_count": 23,
     "metadata": {},
     "output_type": "execute_result"
    }
   ],
   "source": [
    "#Q4\n",
    "\n",
    "csb_tree = search.BST()\n",
    "for loan_dict in csb.loans:\n",
    "    csb_tree.add(loan_dict.interest_rate, loan_dict)\n",
    "\n",
    "len(csb_tree.root.lookup(-1))"
   ]
  },
  {
   "cell_type": "code",
   "execution_count": 24,
   "id": "1739e34d-4a7f-4ea7-a17b-aaea50832212",
   "metadata": {},
   "outputs": [
    {
     "data": {
      "text/plain": [
       "9"
      ]
     },
     "execution_count": 24,
     "metadata": {},
     "output_type": "execute_result"
    }
   ],
   "source": [
    "#Q5\n",
    "\n",
    "csb_tree.root.get_height()"
   ]
  },
  {
   "cell_type": "code",
   "execution_count": 25,
   "id": "9bfe4f55-fedd-4e50-ada3-1e828c8d980b",
   "metadata": {},
   "outputs": [
    {
     "data": {
      "text/plain": [
       "Text(0, 0.5, 'Total Elapsed Milliseconds')"
      ]
     },
     "execution_count": 25,
     "metadata": {},
     "output_type": "execute_result"
    },
    {
     "data": {
      "image/png": "[encoded data removed]",
      "text/plain": [
       "<Figure size 640x480 with 1 Axes>"
      ]
     },
     "metadata": {},
     "output_type": "display_data"
    }
   ],
   "source": [
    "#Q6\n",
    "\n",
    "uwcu_tree = search.BST()\n",
    "times_list = []\n",
    "t0 = time.time()\n",
    "total = 0\n",
    "\n",
    "for loan_dict in uwcu.loans:\n",
    "    uwcu_tree.add(loan_dict.interest_rate, loan_dict)\n",
    "    total +=1\n",
    "    t1 = time.time()\n",
    "    times_list.append((t1-t0)*1000)\n",
    "     \n",
    "ax = plt.plot(times_list)\n",
    "plt.xlabel(\"BST Adds\")\n",
    "plt.ylabel(\"Total Elapsed Milliseconds\")"
   ]
  },
  {
   "cell_type": "code",
   "execution_count": 26,
   "id": "f61a6858-7e4d-410d-b5c8-11172a06c546",
   "metadata": {},
   "outputs": [
    {
     "data": {
      "text/plain": [
       "Text(0, 0.5, 'Total Elapsed Milliseconds')"
      ]
     },
     "execution_count": 26,
     "metadata": {},
     "output_type": "execute_result"
    },
    {
     "data": {
      "image/png": "[encoded data removed]",
      "text/plain": [
       "<Figure size 640x480 with 1 Axes>"
      ]
     },
     "metadata": {},
     "output_type": "display_data"
    }
   ],
   "source": [
    "#Q7\n",
    "\n",
    "times_dict = {}\n",
    "\n",
    "t0 = time.time()\n",
    "missing_intrest_rates = 0\n",
    "for loan_dict in uwcu.loans:\n",
    "    if loan_dict.interest_rate == -1:\n",
    "        missing_intrest_rates += 1\n",
    "t1 = time.time()\n",
    "\n",
    "t01 = time.time()\n",
    "len(uwcu_tree.root.lookup(-1))\n",
    "t11 = time.time()\n",
    "\n",
    "times_dict[\"Loop\"] = (t1 -t0)*1000\n",
    "times_dict[\"BST\"] = (t11 - t01)*1000\n",
    "\n",
    "plt.bar(times_dict.keys(), times_dict.values())\n",
    "plt.ylabel(\"Total Elapsed Milliseconds\")"
   ]
  },
  {
   "cell_type": "code",
   "execution_count": 27,
   "id": "0c836044-a962-4295-b2c3-9d6bf985b184",
   "metadata": {},
   "outputs": [
    {
     "data": {
      "text/plain": [
       "Text(0, 0.5, 'Number of People')"
      ]
     },
     "execution_count": 27,
     "metadata": {},
     "output_type": "execute_result"
    },
    {
     "data": {
      "image/png": "[encoded data removed]",
      "text/plain": [
       "<Figure size 640x480 with 1 Axes>"
      ]
     },
     "metadata": {},
     "output_type": "display_data"
    }
   ],
   "source": [
    "#Q8\n",
    "\n",
    "race_dict = {}\n",
    "for loan_dict in uwcu.loans:\n",
    "    for applicant in loan_dict.applicants:\n",
    "        number_of_races = len(applicant.race)\n",
    "        if number_of_races in race_dict.keys():\n",
    "            race_dict[number_of_races] += 1\n",
    "        else:\n",
    "            race_dict[number_of_races] = 1\n",
    "\n",
    "plt.bar(race_dict.keys(), race_dict.values())\n",
    "plt.xlabel(\"Number of Races\")\n",
    "plt.ylabel(\"Number of People\")       "
   ]
  },
  {
   "cell_type": "code",
   "execution_count": 28,
   "id": "fd827260-f012-4a81-930b-d7fe1a401544",
   "metadata": {},
   "outputs": [
    {
     "data": {
      "text/plain": [
       "9"
      ]
     },
     "execution_count": 28,
     "metadata": {},
     "output_type": "execute_result"
    }
   ],
   "source": [
    "#Q9\n",
    "\n",
    "uwcu_tree.root.num_nonleaf_nodes()"
   ]
  },
  {
   "cell_type": "code",
   "execution_count": 29,
   "id": "ca1db332-b70f-4660-9867-6fe181f11e96",
   "metadata": {},
   "outputs": [
    {
     "data": {
      "text/plain": [
       "5.0"
      ]
     },
     "execution_count": 29,
     "metadata": {},
     "output_type": "execute_result"
    }
   ],
   "source": [
    "#Q10\n",
    "\n",
    "uwcu_tree.root.return_top_n_rates(4)[-1]"
   ]
  }
 ],
 "metadata": {
  "kernelspec": {
   "display_name": "Python 3 (ipykernel)",
   "language": "python",
   "name": "python3"
  },
  "language_info": {
   "codemirror_mode": {
    "name": "ipython",
    "version": 3
   },
   "file_extension": ".py",
   "mimetype": "text/x-python",
   "name": "python",
   "nbconvert_exporter": "python",
   "pygments_lexer": "ipython3",
   "version": "3.10.12"
  }
 },
 "nbformat": 4,
 "nbformat_minor": 5
}
