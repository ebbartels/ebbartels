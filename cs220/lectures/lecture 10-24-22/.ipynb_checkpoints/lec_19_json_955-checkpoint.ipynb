{
 "cells": [
  {
   "cell_type": "markdown",
   "id": "1d888215",
   "metadata": {},
   "source": [
    "# JSON"
   ]
  },
  {
   "cell_type": "markdown",
   "id": "181486b6",
   "metadata": {},
   "source": [
    "# Announcements - Friday, October 21\n",
    "\n",
    "* Download ALL files from Canvas for today's lecture\n",
    "* Quiz 5 due tonight at 11:59:00 pm\n",
    "* Read [Sweigart Ch 16](https://automatetheboringstuff.com/2e/chapter16/)\n",
    "* [Zoom Link](https://uwmadison.zoom.us/j/9741859842?pwd=OURuZnZuL0lhYlJkNVJHR1pLeUQwUT09)\n",
    "  * Projector Only\n",
    "  * No Audio\n",
    "  * The class is not livestreamed "
   ]
  },
  {
   "cell_type": "markdown",
   "id": "7ccf358c",
   "metadata": {},
   "source": [
    "### Learning Objectives:\n",
    "- Interpret JSON formatted data and recognize differences between JSON and Python\n",
    "- Deserialize data from JSON for use in Python programs (read)\n",
    "- Serialize data into JSON for long term storage (write) "
   ]
  },
  {
   "cell_type": "code",
   "execution_count": 1,
   "id": "5990f3d6",
   "metadata": {},
   "outputs": [],
   "source": [
    "import csv\n",
    "\n",
    "# TODO: import json module\n",
    "import json"
   ]
  },
  {
   "cell_type": "code",
   "execution_count": 2,
   "id": "5662ace1",
   "metadata": {},
   "outputs": [],
   "source": [
    "# Deserialize\n",
    "def read_json(path):\n",
    "    with open(path, encoding = \"utf-8\") as f: # f is a varaible \n",
    "        return json.load(f)                 # f represents data in the JSON file (dict, list, etc)\n",
    "    \n",
    "# Serialize\n",
    "def write_json(path, data):\n",
    "    with open(path, 'w', encoding = \"utf-8\") as f:\n",
    "        json.dump(data, f, indent = 2)"
   ]
  },
  {
   "cell_type": "markdown",
   "id": "a35312c9",
   "metadata": {},
   "source": [
    "### Example 1: Sum of numbers (simple JSON)"
   ]
  },
  {
   "cell_type": "code",
   "execution_count": 3,
   "id": "d241dc5c",
   "metadata": {},
   "outputs": [
    {
     "ename": "FileNotFoundError",
     "evalue": "[Errno 2] No such file or directory: 'numsA.json'",
     "output_type": "error",
     "traceback": [
      "\u001b[1;31m---------------------------------------------------------------------------\u001b[0m",
      "\u001b[1;31mFileNotFoundError\u001b[0m                         Traceback (most recent call last)",
      "Input \u001b[1;32mIn [3]\u001b[0m, in \u001b[0;36m<cell line: 7>\u001b[1;34m()\u001b[0m\n\u001b[0;32m      1\u001b[0m \u001b[38;5;66;03m# TODO 1: Create a new \"numsA.json\".\u001b[39;00m\n\u001b[0;32m      2\u001b[0m \u001b[38;5;66;03m#         Add the list [1, 2, 3, 4] to \"numsA.json\" file.\u001b[39;00m\n\u001b[0;32m      3\u001b[0m \u001b[38;5;66;03m#         Use jupyter notebook to create and edit the new file\u001b[39;00m\n\u001b[0;32m      4\u001b[0m \n\u001b[0;32m      5\u001b[0m \u001b[38;5;66;03m# TODO 2: Use input built-in function go get JSON file name from user\u001b[39;00m\n\u001b[0;32m      6\u001b[0m \u001b[38;5;66;03m#         Read the JSON file using read_json; capture return value into a variable\u001b[39;00m\n\u001b[1;32m----> 7\u001b[0m nums_list \u001b[38;5;241m=\u001b[39m \u001b[43mread_json\u001b[49m\u001b[43m(\u001b[49m\u001b[38;5;124;43m\"\u001b[39;49m\u001b[38;5;124;43mnumsA.json\u001b[39;49m\u001b[38;5;124;43m\"\u001b[39;49m\u001b[43m)\u001b[49m\n\u001b[0;32m      8\u001b[0m \u001b[38;5;28mprint\u001b[39m(nums_list)\n\u001b[0;32m      9\u001b[0m \u001b[38;5;66;03m# TODO 3: Print type of data returned by function that reads JSON file.\u001b[39;00m\n",
      "Input \u001b[1;32mIn [2]\u001b[0m, in \u001b[0;36mread_json\u001b[1;34m(path)\u001b[0m\n\u001b[0;32m      2\u001b[0m \u001b[38;5;28;01mdef\u001b[39;00m \u001b[38;5;21mread_json\u001b[39m(path):\n\u001b[1;32m----> 3\u001b[0m     \u001b[38;5;28;01mwith\u001b[39;00m \u001b[38;5;28;43mopen\u001b[39;49m\u001b[43m(\u001b[49m\u001b[43mpath\u001b[49m\u001b[43m,\u001b[49m\u001b[43m \u001b[49m\u001b[43mencoding\u001b[49m\u001b[43m \u001b[49m\u001b[38;5;241;43m=\u001b[39;49m\u001b[43m \u001b[49m\u001b[38;5;124;43m\"\u001b[39;49m\u001b[38;5;124;43mutf-8\u001b[39;49m\u001b[38;5;124;43m\"\u001b[39;49m\u001b[43m)\u001b[49m \u001b[38;5;28;01mas\u001b[39;00m f: \u001b[38;5;66;03m# f is a varaible \u001b[39;00m\n\u001b[0;32m      4\u001b[0m         \u001b[38;5;28;01mreturn\u001b[39;00m json\u001b[38;5;241m.\u001b[39mload(f)\n",
      "\u001b[1;31mFileNotFoundError\u001b[0m: [Errno 2] No such file or directory: 'numsA.json'"
     ]
    }
   ],
   "source": [
    "# TODO 1: Create a new \"numsA.json\".\n",
    "#         Add the list [1, 2, 3, 4] to \"numsA.json\" file.\n",
    "#         Use jupyter notebook to create and edit the new file\n",
    "\n",
    "# TODO 2: Use input built-in function go get JSON file name from user\n",
    "#         Read the JSON file using read_json; capture return value into a variable\n",
    "nums_list = read_json(\"numsA.json\")\n",
    "print(nums_list)\n",
    "# TODO 3: Print type of data returned by function that reads JSON file.\n",
    "print(type(nums_list))\n",
    "\n",
    "# TODO 4: Using Python built-in function sum(...), calculate total of numbers in numsA.json, print the total.\n",
    "\n",
    "# TODO 5: Create a new JSON file \"numsB.json\" and try out the following data:\n",
    "#         [-1, 10, 4,]  # extra comma error\n",
    "#         Does that work?\n",
    "#         Change the data to [-1, 10, 4] and try to run the program by providing input as numsB.json\n",
    "\n",
    "# TODO 6: Create a new JSON file \"simple.json\" and try out the following data.\n",
    "#         What kind of error do you get with this?\n",
    "#         Fix the error by commenting the line of code that causes the error!\n",
    "#         3.14\n",
    "#         True     # json uses lower case true and false\n",
    "#         true     \n",
    "#         'hello'  # double quote error\n",
    "#         \"hello\"\n"
   ]
  },
  {
   "cell_type": "markdown",
   "id": "e830f23f",
   "metadata": {},
   "source": [
    "### Example 2: Score Tracker"
   ]
  },
  {
   "cell_type": "code",
   "execution_count": 13,
   "id": "10e00558",
   "metadata": {},
   "outputs": [
    {
     "name": "stdout",
     "output_type": "stream",
     "text": [
      "Enter player name and score: Patrick 105\n",
      "Patrick 105\n"
     ]
    }
   ],
   "source": [
    "player_details = input(\"Enter player name and score: \")\n",
    "# TODO 1: extract player name and score into variables\n",
    "name = player_details.split(' ')[0]\n",
    "score = int(player_details.split(' ')[1])\n",
    "print(name,score)\n",
    "\n",
    "\n",
    "# TODO 2: Define an empty \"scores\" dictionary to keep track of players' scores.\n",
    "#         KEY: player name VALUE: player scores list\n",
    "\n",
    "#scores = {}\n",
    "scores = read_json('score_history.json')\n",
    "\n",
    "# TODO 3: Check if player name is a key in the scores dictionary.\n",
    "#         If not, create a new key for player name and value as empty list.\n",
    "\n",
    "if name not in scores:\n",
    "    scores[name] = []\n",
    "\n",
    "\n",
    "# TODO 4: Add player's score to the player's list in scores dictionary\n",
    "\n",
    "scores[name].append(score)\n",
    "#print(scores)\n",
    "\n",
    "# TODO 5: Create a \"score_history.json\" file and popluate that file with empty dictionary {}\n",
    "\n",
    "write_json('score_history.json',scores)\n",
    "\n",
    "# TODO 6: Read \"score_history.json\" to populate initial \"scores\" dict, instead of the empty dict created in TODO 2.\n",
    "\n",
    "# TODO 7: Calculate average score for that player\n",
    "# print(\"Average score for {} is {}.\"???)\n",
    "\n",
    "# TODO 8: At the end of the program, write the updated scores from dict into the \"score_history.json\" file\n"
   ]
  },
  {
   "cell_type": "markdown",
   "id": "b920d6e0",
   "metadata": {},
   "source": [
    "### Example 3: Kiva.com Micro-lending site\n",
    "Many Web Sites have APIs that allow you to get their data."
   ]
  },
  {
   "cell_type": "code",
   "execution_count": null,
   "id": "dc891f5a",
   "metadata": {},
   "outputs": [],
   "source": [
    "# TODO: read \"kiva.json\"\n",
    "\n",
    "# TODO: explore the type of the data structure returned by read_json\n"
   ]
  },
  {
   "cell_type": "markdown",
   "id": "e29310b6",
   "metadata": {},
   "source": [
    "How to explore an unknown JSON?\n",
    "- If you run into a `dict`, try `.keys()` method to look at the keys of the dictionary, then use lookup process to explore further\n",
    "- If you run into a `list`, iterate over the list and print each item"
   ]
  },
  {
   "cell_type": "code",
   "execution_count": null,
   "id": "31fe630f",
   "metadata": {},
   "outputs": [],
   "source": [
    "\n",
    "\n",
    "# TODO: lookup the value corresponding to the key data\n",
    "\n",
    "# TODO: you know what to do next ... explore type again\n"
   ]
  },
  {
   "cell_type": "code",
   "execution_count": null,
   "id": "e09b064f",
   "metadata": {},
   "outputs": [],
   "source": []
  },
  {
   "cell_type": "code",
   "execution_count": null,
   "id": "b6cb9c28",
   "metadata": {},
   "outputs": [],
   "source": [
    "# TODO: iterate over loans_list and print every borrower's name, loan amount and country details\n",
    "\n",
    "???\n",
    "    \n",
    "    print(\"Borrower name:\", borrower_name)\n",
    "\n",
    "    print(\"Loan amount: $\", loan_amount, sep = \"\")\n",
    "\n",
    "    print(\"Country details:\", country_details)\n",
    "    print(\"------------------------------------------------------------------------------------------------\")"
   ]
  },
  {
   "cell_type": "markdown",
   "id": "26b4c70c",
   "metadata": {},
   "source": [
    "### Let's write student information dataset into various JSON files"
   ]
  },
  {
   "cell_type": "code",
   "execution_count": null,
   "id": "c120d0eb",
   "metadata": {},
   "outputs": [],
   "source": [
    "# inspired by https://automatetheboringstuff.com/2e/chapter16/\n",
    "def process_csv(filename):\n",
    "    exampleFile = open(filename, encoding=\"utf-8\")  \n",
    "    exampleReader = csv.reader(exampleFile) \n",
    "    exampleData = list(exampleReader)        \n",
    "    exampleFile.close()  \n",
    "    return exampleData\n",
    "\n",
    "survey_data = process_csv('cs220_survey_data.csv')\n",
    "cs220_header = survey_data[0]\n",
    "cs220_data = survey_data[1:]"
   ]
  },
  {
   "cell_type": "code",
   "execution_count": null,
   "id": "47cb92e9",
   "metadata": {},
   "outputs": [],
   "source": [
    "def cell(row_idx, col_name):\n",
    "    \"\"\"\n",
    "    Returns the data value (cell) corresponding to the row index and \n",
    "    the column name of a CSV file.\n",
    "    \"\"\"\n",
    "    col_idx = cs220_header.index(col_name) \n",
    "    val = cs220_data[row_idx][col_idx]  \n",
    "    \n",
    "    # handle missing values, by returning None\n",
    "    if val == '':\n",
    "        return None\n",
    "    \n",
    "    # handle type conversions\n",
    "    if col_name in [\"Age\",]:\n",
    "        return int(val)\n",
    "    \n",
    "    return val"
   ]
  },
  {
   "cell_type": "code",
   "execution_count": null,
   "id": "9a84cfb8",
   "metadata": {},
   "outputs": [],
   "source": [
    "def bucketize(bucket_column):\n",
    "    \"\"\"\n",
    "    generates and returns bucketized data based on bucket_column\n",
    "    \"\"\"\n",
    "    # Key: unique bucketize column value; Value: list of lists (rows having that unique column value)\n",
    "    buckets = dict()\n",
    "    for row_idx in range(len(cs220_data)):\n",
    "        row = cs220_data[row_idx]\n",
    "        col_value = cell(row_idx, bucket_column)\n",
    "        if col_value not in buckets:\n",
    "            # create a new bucket when there is no existing bucket\n",
    "            buckets[col_value] = []\n",
    "        buckets[col_value].append(row)\n",
    "        \n",
    "    return buckets\n",
    "\n",
    "# TODO: create lecture based buckets and store result into lecture_buckets\n",
    "\n",
    "# TODO: What is the type of lec_buckets? A ______ of _________\n",
    "\n",
    "# TODO: write lec_buckets into a JSON file called \"lecture_cs220_data.json\"\n",
    "\n",
    "# TODO: create major based buckets and store result into major_buckets\n",
    "\n",
    "# TODO: write major_buckets into a JSON file called \"major_cs220_data.json\"\n"
   ]
  },
  {
   "cell_type": "code",
   "execution_count": null,
   "id": "f36a584a",
   "metadata": {},
   "outputs": [],
   "source": [
    "def transform(header, data):\n",
    "    \"\"\"\n",
    "    Transform data into a list of dictionaries\n",
    "    \"\"\"\n",
    "    transformed_data = [] #should be defined outside the for loop, because it stores the entire data\n",
    "    for row in data:\n",
    "        #should be defined inside the for loop, because it represents one row as a dictionary\n",
    "        row_dict = {} # Key: header; Value: data\n",
    "        for idx in range(len(row)):\n",
    "            row_dict[header[idx]] = row[idx]\n",
    "        transformed_data.append(row_dict)\n",
    "    return transformed_data\n",
    "    \n",
    "transformed_data = transform(cs220_header, cs220_data)\n",
    "\n",
    "# TODO: What is the type of transformed_data? A ______ of _________\n",
    "\n",
    "# TODO: write transformed_data into a JSON file called \"cs220_survey_data.json\"\n"
   ]
  },
  {
   "cell_type": "markdown",
   "id": "5279cdab",
   "metadata": {},
   "source": [
    "### Self-practice: explore real-world JSON\n",
    "\n",
    "### Weather for UW-Madison campus"
   ]
  },
  {
   "cell_type": "code",
   "execution_count": null,
   "id": "7a4efc8c",
   "metadata": {},
   "outputs": [],
   "source": [
    "# TODO: read \"weather.json\"\n",
    "\n",
    "# TODO: explore the type of the data structure returned by read_json\n",
    "\n",
    "# display the data from \"weather.json\"\n"
   ]
  },
  {
   "cell_type": "code",
   "execution_count": null,
   "id": "c1b98641",
   "metadata": {},
   "outputs": [],
   "source": [
    "# TODO: display the keys of the weather.json dict\n",
    "\n",
    "# TODO: lookup the value corresponding to the 'properties'\n",
    "\n",
    "# TODO: you know what to do next ... explore type again\n"
   ]
  },
  {
   "cell_type": "code",
   "execution_count": null,
   "id": "ca457052",
   "metadata": {},
   "outputs": [],
   "source": [
    "# TODO: display the keys of the properties dict\n",
    "\n",
    "# TODO: lookup the value corresponding to the 'periods'\n",
    "\n",
    "# TODO: you know what to do next ... explore type again\n"
   ]
  },
  {
   "cell_type": "code",
   "execution_count": null,
   "id": "34f6dfa4",
   "metadata": {},
   "outputs": [],
   "source": [
    "# TODO: extract periods list into a variable\n",
    "\n",
    "# TODO: iterate over loans_list and print every periods's startTime, endTime, temperature, and temperatureUnit\n",
    "for period_dict in periods_list:\n",
    "\n",
    "    print(\"Start time:\", start_time)\n",
    "\n",
    "    print(\"End time:\", end_time)\n",
    "\n",
    "    \n",
    "    print(\"Temperature: {} degree {}\".format(temperature, temperature_unit))\n",
    "    print(\"------------------------------------------------------------------------------------------------\")"
   ]
  }
 ],
 "metadata": {
  "kernelspec": {
   "display_name": "Python 3 (ipykernel)",
   "language": "python",
   "name": "python3"
  },
  "language_info": {
   "codemirror_mode": {
    "name": "ipython",
    "version": 3
   },
   "file_extension": ".py",
   "mimetype": "text/x-python",
   "name": "python",
   "nbconvert_exporter": "python",
   "pygments_lexer": "ipython3",
   "version": "3.9.12"
  }
 },
 "nbformat": 4,
 "nbformat_minor": 5
}
