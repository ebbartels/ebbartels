{
 "cells": [
  {
   "cell_type": "markdown",
   "id": "72348536",
   "metadata": {},
   "source": [
    "# List Practice\n",
    "***"
   ]
  },
  {
   "cell_type": "markdown",
   "id": "714bf161",
   "metadata": {},
   "source": [
    "# Data Structure Methods\n",
    "* [String Methods](https://www.w3schools.com/python/python_strings_methods.asp)\n",
    "* [List Methods](https://www.w3schools.com/python/python_ref_list.asp)\n",
    "* [Set Methods](https://www.w3schools.com/python/python_ref_set.asp)"
   ]
  },
  {
   "cell_type": "code",
   "execution_count": 1,
   "id": "d21a94b5",
   "metadata": {},
   "outputs": [],
   "source": [
    "import csv"
   ]
  },
  {
   "cell_type": "markdown",
   "id": "89621c98",
   "metadata": {},
   "source": [
    "### Student Information Survey data"
   ]
  },
  {
   "cell_type": "code",
   "execution_count": 2,
   "id": "d5404f1d",
   "metadata": {},
   "outputs": [],
   "source": [
    "# inspired by https://automatetheboringstuff.com/2e/chapter16/\n",
    "def process_csv(filename):\n",
    "    example_file = open(filename, encoding=\"utf-8\")\n",
    "    example_reader = csv.reader(example_file)\n",
    "    example_data = list(example_reader)\n",
    "    example_file.close()\n",
    "    return example_data"
   ]
  },
  {
   "cell_type": "code",
   "execution_count": 3,
   "id": "d3c252b4",
   "metadata": {},
   "outputs": [],
   "source": [
    "# Preprocess the CSV\n",
    "csv_data = process_csv(\"cs220_survey_data.csv\")\n",
    "header = csv_data[0]\n",
    "data = csv_data[1:]\n",
    "\n",
    "def cell(row_idx, col_name):\n",
    "    \"\"\"\n",
    "    Returns the data value (cell) corresponding to the row index and \n",
    "    the column name of a CSV file.\n",
    "    \"\"\"\n",
    "    col_idx = header.index(col_name) \n",
    "    value = data[row_idx][col_idx]\n",
    "    if value == \"\":\n",
    "        return None\n",
    "    \n",
    "    if col_name in [\"Age\", \"Zip Code\"]:\n",
    "        return int(value)\n",
    "    if col_name in ['Latitude', 'Longitude']:\n",
    "        return float(value)\n",
    "    return value"
   ]
  },
  {
   "cell_type": "markdown",
   "id": "5d298a4c",
   "metadata": {},
   "source": [
    "### What is the Lecture of the 4th student?"
   ]
  },
  {
   "cell_type": "code",
   "execution_count": 4,
   "id": "3617b3de",
   "metadata": {},
   "outputs": [
    {
     "data": {
      "text/plain": [
       "'LEC005'"
      ]
     },
     "execution_count": 4,
     "metadata": {},
     "output_type": "execute_result"
    }
   ],
   "source": [
    "cell(3,'Lecture')"
   ]
  },
  {
   "cell_type": "markdown",
   "id": "059de363",
   "metadata": {},
   "source": [
    "### What **unique** `age` values are included in the dataset?"
   ]
  },
  {
   "cell_type": "code",
   "execution_count": 6,
   "id": "45909f22",
   "metadata": {},
   "outputs": [
    {
     "name": "stdout",
     "output_type": "stream",
     "text": [
      "[19, 20, 19, 18, 18, 18]\n",
      "{18, 19, 20}\n"
     ]
    },
    {
     "data": {
      "text/plain": [
       "[18, 19, 20]"
      ]
     },
     "execution_count": 6,
     "metadata": {},
     "output_type": "execute_result"
    }
   ],
   "source": [
    "ages=[19,20,19,18,18,18]\n",
    "print(ages)\n",
    "ages_set=set(ages)\n",
    "print(ages_set)\n",
    "ages_list=list(ages_set)\n",
    "ages_list"
   ]
  },
  {
   "cell_type": "markdown",
   "id": "94548bf4",
   "metadata": {},
   "source": [
    "### `sort` method versus `sorted` function\n",
    "\n",
    "- `sort` (and other list methods) have an impact on the original list\n",
    "- `sorted` function returns a new list with expected ordering\n",
    "- default sorting order is ascending / alphanumeric\n",
    "- `reverse` parameter is applicable for both `sort` method and `sorted` function:\n",
    "    - enables you to specify descending order by passing argument as `True`"
   ]
  },
  {
   "cell_type": "code",
   "execution_count": 7,
   "id": "c1e555f9",
   "metadata": {},
   "outputs": [],
   "source": [
    "num_list = [10, 4, 25, 2, -10] "
   ]
  },
  {
   "cell_type": "markdown",
   "id": "323d478b",
   "metadata": {},
   "source": [
    "## Sort\n",
    "-mutates list\n",
    "## Sorted\n",
    "-creates new list"
   ]
  },
  {
   "cell_type": "code",
   "execution_count": 12,
   "id": "152297bb",
   "metadata": {},
   "outputs": [
    {
     "name": "stdout",
     "output_type": "stream",
     "text": [
      "[25, 10, 4, 2, -10]\n",
      "None\n"
     ]
    }
   ],
   "source": [
    "# TODO: Invoke sort method\n",
    "num_list = [10, 4, 25, 2, -10] \n",
    "rv = num_list.sort()\n",
    "rv_reverse = num_list.sort(reverse=True)\n",
    "print(num_list)\n",
    "\n",
    "# What does the sort method return? \n",
    "# TODO: Capture return value into a variable rv and print the return value.\n",
    "print(rv)"
   ]
  },
  {
   "cell_type": "markdown",
   "id": "3c0d5e7d",
   "metadata": {},
   "source": [
    "`sort` method returns `None` because it sorts the values in the original list"
   ]
  },
  {
   "cell_type": "code",
   "execution_count": 13,
   "id": "c06d8976",
   "metadata": {},
   "outputs": [
    {
     "name": "stdout",
     "output_type": "stream",
     "text": [
      "[-10, 2, 4, 10, 25]\n",
      "[10, 4, 25, 2, -10]\n"
     ]
    }
   ],
   "source": [
    "# TODO: invoke sorted function and pass num_list as argument\n",
    "# TODO: capture return value into sorted_num_list\n",
    "num_list = [10, 4, 25, 2, -10] \n",
    "sorted_num_list = sorted(num_list)\n",
    "reverse_sorted = sorted(num_list, reverse= True)\n",
    "\n",
    "# What does the sorted function return? \n",
    "# It returns a brand new list with the values in sorted order\n",
    "print(sorted_num_list)\n",
    "print(num_list)"
   ]
  },
  {
   "cell_type": "markdown",
   "id": "ded0304c",
   "metadata": {},
   "source": [
    "TODO: go back to `sort` method call and `sorted` function call and pass keyword argument `reverse = True`."
   ]
  },
  {
   "cell_type": "markdown",
   "id": "35894ef5",
   "metadata": {},
   "source": [
    "Can you call `sort` method on a set?"
   ]
  },
  {
   "cell_type": "code",
   "execution_count": 14,
   "id": "fc08879e",
   "metadata": {},
   "outputs": [
    {
     "ename": "AttributeError",
     "evalue": "'set' object has no attribute 'sort'",
     "output_type": "error",
     "traceback": [
      "\u001b[1;31m---------------------------------------------------------------------------\u001b[0m",
      "\u001b[1;31mAttributeError\u001b[0m                            Traceback (most recent call last)",
      "Input \u001b[1;32mIn [14]\u001b[0m, in \u001b[0;36m<cell line: 3>\u001b[1;34m()\u001b[0m\n\u001b[0;32m      1\u001b[0m num_list \u001b[38;5;241m=\u001b[39m [\u001b[38;5;241m10\u001b[39m, \u001b[38;5;241m4\u001b[39m, \u001b[38;5;241m25\u001b[39m, \u001b[38;5;241m2\u001b[39m, \u001b[38;5;241m-\u001b[39m\u001b[38;5;241m10\u001b[39m] \n\u001b[0;32m      2\u001b[0m num_set \u001b[38;5;241m=\u001b[39m \u001b[38;5;28mset\u001b[39m(num_list)\n\u001b[1;32m----> 3\u001b[0m \u001b[43mnum_set\u001b[49m\u001b[38;5;241;43m.\u001b[39;49m\u001b[43msort\u001b[49m()\n",
      "\u001b[1;31mAttributeError\u001b[0m: 'set' object has no attribute 'sort'"
     ]
    }
   ],
   "source": [
    "num_list = [10, 4, 25, 2, -10] \n",
    "num_set = set(num_list)\n",
    "num_set.sort() \n",
    "# doesn't work: no method named sort associated with type set\n",
    "# you cannot sort a set because of the lack of ordering"
   ]
  },
  {
   "cell_type": "markdown",
   "id": "99161c42",
   "metadata": {},
   "source": [
    "Can you pass a `set` as argument to `sorted` function? Python is intelligent :)"
   ]
  },
  {
   "cell_type": "code",
   "execution_count": 15,
   "id": "2549df29",
   "metadata": {},
   "outputs": [
    {
     "data": {
      "text/plain": [
       "[-10, 2, 4, 10, 25]"
      ]
     },
     "execution_count": 15,
     "metadata": {},
     "output_type": "execute_result"
    }
   ],
   "source": [
    "# works because Python converts the set into a list and then sorts the list\n",
    "sorted(num_set) "
   ]
  },
  {
   "cell_type": "markdown",
   "id": "5c7f3489",
   "metadata": {},
   "source": [
    "### Function: `find_majors(phrase)`"
   ]
  },
  {
   "cell_type": "code",
   "execution_count": 18,
   "id": "b6adbfe0",
   "metadata": {},
   "outputs": [],
   "source": [
    "def find_majors(phrase):\n",
    "    \"\"\"\n",
    "    find_majors(phrase) returns a list of all the names of majors that contain the \n",
    "    substring (case insensitive match) `phrase`.\n",
    "    \"\"\"\n",
    "    # TODO: initialize the target list here\n",
    "    majors = []\n",
    "    \n",
    "    # TODO: iterate over row indices\n",
    "    for row_idx in range(len(data)):\n",
    "        major = cell(row_idx, \"Major\")\n",
    "        \n",
    "        # TODO: write the actual logic here\n",
    "        if phrase.lower() in major.lower():\n",
    "            majors.append(major)\n",
    "    \n",
    "    return majors\n",
    "\n",
    "\n"
   ]
  },
  {
   "cell_type": "markdown",
   "id": "1b7f671f",
   "metadata": {},
   "source": [
    "### Find all  `major` that contain **either** `\"Computer\"` **or** `\"Science\"`.\n",
    "\n",
    "Your output **must** be a *list*. The order **does not** matter, but if a `major` contains **both** `\"Computer\"` and `\"Science\"`, then the the major must be included **only once** in your list."
   ]
  },
  {
   "cell_type": "code",
   "execution_count": 19,
   "id": "ed895a3b",
   "metadata": {},
   "outputs": [
    {
     "name": "stdout",
     "output_type": "stream",
     "text": [
      "['Data Science', 'Science: Other|Biophysics PhD', 'Science: Biology/Life', 'Science: Other|Atmospheric and oceanic science', 'Environmental science', 'Science: Other|Geoscience', 'Political Science', 'Life Sciences Communication', 'Computer Science', 'Science: Other|Politcal Science', 'Science: Other|Environmetal Science', 'Engineering: Other|Material Science Engineering', 'Science: Other|Psychology', 'Science: Other|Environmental Science', 'Science: Other|Atmospheric and Oceanic Sciences', 'Science: Other|animal sciences', 'Science: Chemistry', 'Science: Other|Personal Finance', 'Science: Other|Animal and Dairy Science', 'Engineering: Other|Computer engineering', 'Atmospheric Sciences', 'Science: Other|Atmospheric and Oceanic Sciences (AOS)', 'Engineering: Other|Computer Engineering', 'Engineering: Other|Engineering: Computer', 'Science: Other', 'Information science', 'Science: Physics', 'Computer Science and Statistics', 'Science: Other|Environmental science', 'Mathematics, Data Science', 'Science: Other|Political Science', 'Science: Other|Science: Genetics and Genomics', 'Geoscience', 'Communication Sciences and Disorder', 'Science: Other|Atmospheric & Oceanic Sciences']\n"
     ]
    }
   ],
   "source": [
    "computer_majors = find_majors('Computer')\n",
    "science_majors = find_majors('Science')\n",
    "\n",
    "# version 1\n",
    "computer_and_science_majors = science_majors+computer_majors\n",
    "\n",
    "# version 2\n",
    "computer_and_science_majors=computer_majors\n",
    "computer_and_science_majors.extend(science_majors)\n",
    "\n",
    "# version 3\n",
    "unique_computer_and_science_majors = set(computer_majors)\n",
    "unique_computer_and_science_majors.union(set(science_majors))\n",
    "\n",
    "# verion 4 changes computer majors\n",
    "computer_and_science_majors = computer_majors.extend(science_majors)\n",
    "\n",
    "\n",
    "# TODO: Now find just the unique values\n",
    "computer_and_science_majors = set(computer_and_science_majors)\n",
    "unique_computer_and_science_majors = list(computer_and_science_majors)\n",
    "print(unique_computer_and_science_majors)"
   ]
  },
  {
   "cell_type": "markdown",
   "id": "64fd0945",
   "metadata": {},
   "source": [
    "### Order the `major` that contain **either** `\"Computer\"` **or** `\"Science\"` using ascending order."
   ]
  },
  {
   "cell_type": "code",
   "execution_count": null,
   "id": "efcdf514",
   "metadata": {},
   "outputs": [],
   "source": [
    "# VERSION 1: sort\n",
    "sorted_computer_and_science_majors"
   ]
  },
  {
   "cell_type": "code",
   "execution_count": null,
   "id": "c28e77ce",
   "metadata": {},
   "outputs": [],
   "source": [
    "# VERSION 2: sorted\n",
    "computer_and_science_majors"
   ]
  },
  {
   "cell_type": "markdown",
   "id": "e354b781",
   "metadata": {},
   "source": [
    "### Order the `major` that contain **either** `\"Computer\"` **or** `\"Science\"` using descending order."
   ]
  },
  {
   "cell_type": "code",
   "execution_count": null,
   "id": "ca887135",
   "metadata": {},
   "outputs": [],
   "source": [
    "# VERSION 1\n",
    "# Be very careful: if you use sorted, make sure your return value \n",
    "# variable matches with the variable for that project question\n",
    "reverse_sorted_computer_and_science_majors = sorted(computer_and_science_majors, reverse = ???)\n",
    "reverse_sorted_computer_and_science_majors"
   ]
  },
  {
   "cell_type": "code",
   "execution_count": null,
   "id": "b6c61532",
   "metadata": {},
   "outputs": [],
   "source": [
    "# VERSION 2\n",
    "computer_and_science_majors.sort(reverse = ???)\n",
    "computer_and_science_majors"
   ]
  },
  {
   "cell_type": "markdown",
   "id": "2862160c",
   "metadata": {},
   "source": [
    "### For `major` containing `\"other\"`, extract the details that come after `\"|\"`."
   ]
  },
  {
   "cell_type": "code",
   "execution_count": 21,
   "id": "600fae6c",
   "metadata": {},
   "outputs": [
    {
     "data": {
      "text/plain": [
       "['Engineering: Computer',\n",
       " 'Political Science',\n",
       " 'Real Estate',\n",
       " 'Engineering Physics: Scientific Computing',\n",
       " 'Accounting',\n",
       " 'business analytics',\n",
       " 'animal sciences',\n",
       " 'Science: Genetics and Genomics',\n",
       " 'Business: Accounting',\n",
       " 'Computer Engineering',\n",
       " 'Computer engineering',\n",
       " 'Material Science Engineering',\n",
       " 'Environmental Science',\n",
       " 'Chemical Engineering',\n",
       " 'Biophysics PhD',\n",
       " 'Technology Strategy/ Product Management',\n",
       " 'Marketing',\n",
       " 'Consumer Behavior and Marketplace Studies',\n",
       " 'Psychology',\n",
       " 'Civil and Environmental Engineering',\n",
       " 'MHR',\n",
       " 'Personal Finance',\n",
       " 'Real Estate',\n",
       " 'Environmental Science',\n",
       " 'Psychology',\n",
       " 'accounting',\n",
       " 'Environmetal Science',\n",
       " 'Atmospheric and Oceanic Sciences (AOS)',\n",
       " 'Business Analytics',\n",
       " 'Politcal Science',\n",
       " 'Geoscience',\n",
       " 'Marketing',\n",
       " 'Atmospheric and oceanic science',\n",
       " 'Environmental Science',\n",
       " 'Marketing',\n",
       " 'Engineering Mechanics',\n",
       " 'Environmental science',\n",
       " 'Atmospheric and Oceanic Sciences',\n",
       " 'Civil- Intelligent Transportation System',\n",
       " 'Animal and Dairy Science',\n",
       " 'Atmospheric & Oceanic Sciences',\n",
       " 'Accounting',\n",
       " 'Environmental Science']"
      ]
     },
     "execution_count": 21,
     "metadata": {},
     "output_type": "execute_result"
    }
   ],
   "source": [
    "other_majors = find_majors(\"other\")\n",
    "other_major_details = []\n",
    "\n",
    "for other in other_majors:\n",
    "    if '|' in other:\n",
    "        other_split = other.split('|')\n",
    "        other_major_details.append(other_split[1])\n",
    "        \n",
    "    \n",
    "    # TODO: complete the rest of the logic\n",
    "        \n",
    "other_major_details"
   ]
  },
  {
   "cell_type": "markdown",
   "id": "31a381fe",
   "metadata": {},
   "source": [
    "## Self-practice"
   ]
  },
  {
   "cell_type": "markdown",
   "id": "8ac26620",
   "metadata": {},
   "source": [
    "### How many students are both a procrastinator and a pet owner?"
   ]
  },
  {
   "cell_type": "markdown",
   "id": "172141ea",
   "metadata": {},
   "source": [
    "### What percentage of 18-year-olds have their major declared as \"Other\"?"
   ]
  },
  {
   "cell_type": "markdown",
   "id": "d9a7a2b1",
   "metadata": {},
   "source": [
    "### How old is the oldest basil/spinach-loving Business major?"
   ]
  }
 ],
 "metadata": {
  "kernelspec": {
   "display_name": "Python 3 (ipykernel)",
   "language": "python",
   "name": "python3"
  },
  "language_info": {
   "codemirror_mode": {
    "name": "ipython",
    "version": 3
   },
   "file_extension": ".py",
   "mimetype": "text/x-python",
   "name": "python",
   "nbconvert_exporter": "python",
   "pygments_lexer": "ipython3",
   "version": "3.9.12"
  }
 },
 "nbformat": 4,
 "nbformat_minor": 5
}
