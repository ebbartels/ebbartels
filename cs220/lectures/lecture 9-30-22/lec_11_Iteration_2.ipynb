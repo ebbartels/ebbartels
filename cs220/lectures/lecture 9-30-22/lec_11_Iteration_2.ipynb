{
 "cells": [
  {
   "cell_type": "markdown",
   "id": "1fd5544f",
   "metadata": {},
   "source": [
    "# Iteration 2\n",
    "\n",
    "## Readings: \n",
    "- Chapter 2 of Sweigart book\n",
    "- Chapter 6.4 of Python for Everybody"
   ]
  },
  {
   "cell_type": "code",
   "execution_count": 1,
   "id": "e15b9d08",
   "metadata": {},
   "outputs": [],
   "source": [
    "import math"
   ]
  },
  {
   "cell_type": "markdown",
   "id": "ebce36a5",
   "metadata": {},
   "source": [
    "## Learning Objectives\n",
    "\n",
    "- Read and trace through Python code containing nested loops.\n",
    "- Read and trace through Python code using `break` or `continue` in a `while` loop\n",
    "- Determine the effect of break and continue in nested loops"
   ]
  },
  {
   "cell_type": "markdown",
   "id": "8f91daea",
   "metadata": {},
   "source": [
    "## `break` example\n",
    "- `break` enables to terminate execution of a while loop\n",
    "- typically used with a conditional; that is you break when condition evaluates to `True`"
   ]
  },
  {
   "cell_type": "code",
   "execution_count": 2,
   "id": "5ec2099a",
   "metadata": {},
   "outputs": [],
   "source": [
    "def is_prime(num):\n",
    "    \"\"\" returns True if x is prime, false otherwise. \n",
    "    Assumes x is positive\"\"\"\n",
    "    \n",
    "    # try all divisors from 2 to sqrt(num) to check if num is prime\n",
    "    divisor = 2\n",
    "    while divisor <= math.sqrt(num):\n",
    "        # check if num is divisible by divisor\n",
    "        if num % divisor == 0:\n",
    "            return False\n",
    "        divisor += 1\n",
    "        \n",
    "    return True"
   ]
  },
  {
   "cell_type": "code",
   "execution_count": 3,
   "id": "18f5a22c",
   "metadata": {},
   "outputs": [
    {
     "name": "stdout",
     "output_type": "stream",
     "text": [
      "True\n",
      "True\n",
      "True\n",
      "True\n",
      "False\n",
      "True\n",
      "False\n"
     ]
    }
   ],
   "source": [
    "print(is_prime(1))\n",
    "print(is_prime(2))\n",
    "print(is_prime(3))\n",
    "print(is_prime(7))\n",
    "print(is_prime(16))\n",
    "print(is_prime(23))\n",
    "print(is_prime(1000000))"
   ]
  },
  {
   "cell_type": "code",
   "execution_count": 4,
   "id": "daca8575",
   "metadata": {},
   "outputs": [],
   "source": [
    "def has_prime(start, end):\n",
    "    found_prime = False\n",
    "    num = start\n",
    "    while num <= end:\n",
    "        if is_prime(num):\n",
    "            print(num)\n",
    "            found_prime = True\n",
    "            # As soon as you find the first prime, your work \n",
    "            # here is done, hence the break out of the loop!\n",
    "            break\n",
    "        num += 1\n",
    "    return found_prime"
   ]
  },
  {
   "cell_type": "code",
   "execution_count": 5,
   "id": "0f7bd5ca",
   "metadata": {},
   "outputs": [
    {
     "data": {
      "text/plain": [
       "False"
      ]
     },
     "execution_count": 5,
     "metadata": {},
     "output_type": "execute_result"
    }
   ],
   "source": [
    "has_prime(14, 16)"
   ]
  },
  {
   "cell_type": "code",
   "execution_count": 6,
   "id": "4fd676f3",
   "metadata": {},
   "outputs": [
    {
     "name": "stdout",
     "output_type": "stream",
     "text": [
      "1000003\n"
     ]
    },
    {
     "data": {
      "text/plain": [
       "True"
      ]
     },
     "execution_count": 6,
     "metadata": {},
     "output_type": "execute_result"
    }
   ],
   "source": [
    "has_prime(1000000, 1001000)"
   ]
  },
  {
   "cell_type": "markdown",
   "id": "dfc74fed",
   "metadata": {},
   "source": [
    "## `continue` example\n",
    "- `continue` enables to move on to the next iteration of the while loop\n",
    "- typically used with a conditional; that is you continue when condition evaluates to `True`"
   ]
  },
  {
   "cell_type": "code",
   "execution_count": 7,
   "id": "e90b47b5",
   "metadata": {},
   "outputs": [
    {
     "name": "stdout",
     "output_type": "stream",
     "text": [
      "Enter an age [0-100]: 10\n",
      "Average age of user so far is:  10.0\n",
      "Enter an age [0-100]: 20\n",
      "Average age of user so far is:  15.0\n",
      "Enter an age [0-100]: 102\n",
      "Bad input!\n",
      "Enter an age [0-100]: q\n"
     ]
    }
   ],
   "source": [
    "total = 0 # sum\n",
    "count = 0\n",
    "\n",
    "while True:\n",
    "    #Handle \"q\" input for quitting\n",
    "    age = input(\"Enter an age [0-100]: \")\n",
    "    if age == \"q\":\n",
    "        break\n",
    "\n",
    "    age = float(age)\n",
    "\n",
    "    if age < 0 or age > 100:\n",
    "        print(\"Bad input!\")\n",
    "        continue\n",
    "\n",
    "    total += age\n",
    "    count += 1\n",
    "\n",
    "    print(\"Average age of user so far is: \", total / count)"
   ]
  },
  {
   "cell_type": "markdown",
   "id": "8b037e4f",
   "metadata": {},
   "source": [
    "### After lecture"
   ]
  },
  {
   "cell_type": "markdown",
   "id": "bf87a5ac",
   "metadata": {},
   "source": [
    "How many times is the *while loop condition line* executed?"
   ]
  },
  {
   "cell_type": "code",
   "execution_count": null,
   "id": "cb6bb684",
   "metadata": {},
   "outputs": [],
   "source": [
    "n = 7\n",
    "while n >= 5:\n",
    "    print(n)\n",
    "    n -= 1\n",
    "    \n",
    "# Answer is 4. \n",
    "# Loop condition line always gets executed number of \n",
    "# iterations + 1 times."
   ]
  },
  {
   "cell_type": "markdown",
   "id": "4def9307",
   "metadata": {},
   "source": [
    "Refactor the below function."
   ]
  },
  {
   "cell_type": "code",
   "execution_count": 8,
   "id": "9421ad49",
   "metadata": {},
   "outputs": [
    {
     "name": "stdout",
     "output_type": "stream",
     "text": [
      "False\n",
      "True\n",
      "False\n",
      "True\n",
      "False\n"
     ]
    }
   ],
   "source": [
    "def is_between(a, b, c):\n",
    "    \"\"\"Return True if b is between a and c (exclusive), \n",
    "    False otherwise\"\"\"\n",
    "    if a < c:\n",
    "        if a < b and b < c:\n",
    "            return True\n",
    "        else:\n",
    "            return False\n",
    "    elif c <= a:\n",
    "        if c < b and b < a:\n",
    "            return True\n",
    "        else:\n",
    "            return False\n",
    "    else:\n",
    "        return False\n",
    "    \n",
    "print(is_between(1, 3, 2))   # False\n",
    "print(is_between(5, 11, 20)) # True\n",
    "print(is_between(20, 3, 5))  # False\n",
    "print(is_between(50, 11, 9)) # True\n",
    "print(is_between(4, 4, 4))   # False"
   ]
  },
  {
   "cell_type": "code",
   "execution_count": 9,
   "id": "21951d05",
   "metadata": {},
   "outputs": [
    {
     "name": "stdout",
     "output_type": "stream",
     "text": [
      "False\n",
      "True\n",
      "False\n",
      "True\n",
      "False\n"
     ]
    }
   ],
   "source": [
    "def is_between_v2(a, b, c):\n",
    "    return a < b < c or c < b < a\n",
    "\n",
    "print(is_between_v2(1, 3, 2))   # False\n",
    "print(is_between_v2(5, 11, 20)) # True\n",
    "print(is_between_v2(20, 3, 5))  # False\n",
    "print(is_between_v2(50, 11, 9)) # True\n",
    "print(is_between_v2(4, 4, 4))   # False"
   ]
  },
  {
   "cell_type": "markdown",
   "id": "0f71dc12",
   "metadata": {},
   "source": [
    "Trace the output without using Python Tutor"
   ]
  },
  {
   "cell_type": "code",
   "execution_count": null,
   "id": "b942d01f",
   "metadata": {},
   "outputs": [],
   "source": [
    "x = 1\n",
    "while x < 5:\n",
    "    y = 1\n",
    "    while y < 10:\n",
    "        print (x * y, \"\\t\", end=\"\")\n",
    "        y += 1\n",
    "    print()\n",
    "    x += 1"
   ]
  },
  {
   "cell_type": "code",
   "execution_count": 1,
   "id": "7743e03b",
   "metadata": {},
   "outputs": [
    {
     "name": "stdout",
     "output_type": "stream",
     "text": [
      "# # # # # # # # # \n",
      " # # # # # # # # # \n",
      "# # # # # # # # # \n",
      " # # # # # # # # # \n"
     ]
    }
   ],
   "source": [
    "width = 9\n",
    "height = 4\n",
    "symbol = '#'\n",
    "row = 0\n",
    "while row < height:\n",
    "    col = 0\n",
    "    if row % 2 == 1:\n",
    "        print(\" \", end=\"\")\n",
    "    while col < width:\n",
    "        print(symbol + ' ', end=\"\")\n",
    "        col += 1\n",
    "    # displays just a newline\n",
    "    print() # recall default value for end parameter is \"\\n\"\n",
    "    row += 1"
   ]
  }
 ],
 "metadata": {
  "kernelspec": {
   "display_name": "Python 3 (ipykernel)",
   "language": "python",
   "name": "python3"
  },
  "language_info": {
   "codemirror_mode": {
    "name": "ipython",
    "version": 3
   },
   "file_extension": ".py",
   "mimetype": "text/x-python",
   "name": "python",
   "nbconvert_exporter": "python",
   "pygments_lexer": "ipython3",
   "version": "3.9.12"
  }
 },
 "nbformat": 4,
 "nbformat_minor": 5
}
