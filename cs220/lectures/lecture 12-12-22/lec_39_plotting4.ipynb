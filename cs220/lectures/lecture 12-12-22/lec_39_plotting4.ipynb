{
 "cells": [
  {
   "cell_type": "code",
   "execution_count": 1,
   "metadata": {},
   "outputs": [],
   "source": [
    "# import statements\n",
    "import sqlite3\n",
    "import os\n",
    "\n",
    "import pandas as pd\n",
    "from pandas import DataFrame, Series\n",
    "\n",
    "import matplotlib\n",
    "from matplotlib import pyplot as plt\n",
    "matplotlib.rcParams[\"font.size\"] = 16\n",
    "\n",
    "import math\n",
    "\n",
    "import requests"
   ]
  },
  {
   "cell_type": "markdown",
   "metadata": {},
   "source": [
    "## Bar plots using DataFrames"
   ]
  },
  {
   "cell_type": "markdown",
   "metadata": {},
   "source": [
    "Bar Plot Example w/ Fire Hydrants\n",
    "\n",
    "- General review of pandas\n",
    "- Some new bar plot options"
   ]
  },
  {
   "cell_type": "code",
   "execution_count": 2,
   "metadata": {},
   "outputs": [
    {
     "data": {
      "text/html": [
       "<div>\n",
       "<style scoped>\n",
       "    .dataframe tbody tr th:only-of-type {\n",
       "        vertical-align: middle;\n",
       "    }\n",
       "\n",
       "    .dataframe tbody tr th {\n",
       "        vertical-align: top;\n",
       "    }\n",
       "\n",
       "    .dataframe thead th {\n",
       "        text-align: right;\n",
       "    }\n",
       "</style>\n",
       "<table border=\"1\" class=\"dataframe\">\n",
       "  <thead>\n",
       "    <tr style=\"text-align: right;\">\n",
       "      <th></th>\n",
       "      <th>X</th>\n",
       "      <th>Y</th>\n",
       "      <th>OBJECTID</th>\n",
       "      <th>CreatedBy</th>\n",
       "      <th>CreatedDate</th>\n",
       "      <th>LastEditor</th>\n",
       "      <th>LastUpdate</th>\n",
       "      <th>FacilityID</th>\n",
       "      <th>DataSource</th>\n",
       "      <th>ProjectNumber</th>\n",
       "      <th>...</th>\n",
       "      <th>Elevation</th>\n",
       "      <th>Manufacturer</th>\n",
       "      <th>Style</th>\n",
       "      <th>year_manufactured</th>\n",
       "      <th>BarrelDiameter</th>\n",
       "      <th>SeatDiameter</th>\n",
       "      <th>Comments</th>\n",
       "      <th>nozzle_color</th>\n",
       "      <th>MaintainedBy</th>\n",
       "      <th>InstallType</th>\n",
       "    </tr>\n",
       "  </thead>\n",
       "  <tbody>\n",
       "    <tr>\n",
       "      <th>10104</th>\n",
       "      <td>-89.439367</td>\n",
       "      <td>43.040481</td>\n",
       "      <td>286329</td>\n",
       "      <td>WUJAG</td>\n",
       "      <td>2018-08-13T18:03:33.000Z</td>\n",
       "      <td>WUJAG</td>\n",
       "      <td>2018-08-13T18:04:02.000Z</td>\n",
       "      <td>HYDR-3964-4053</td>\n",
       "      <td>TC</td>\n",
       "      <td>1-1830-19</td>\n",
       "      <td>...</td>\n",
       "      <td>NaN</td>\n",
       "      <td>WATEROUS</td>\n",
       "      <td>NaN</td>\n",
       "      <td>2018.0</td>\n",
       "      <td>5.0</td>\n",
       "      <td>NaN</td>\n",
       "      <td>NaN</td>\n",
       "      <td>NaN</td>\n",
       "      <td>MADISON WATER UTILITY</td>\n",
       "      <td>NaN</td>\n",
       "    </tr>\n",
       "    <tr>\n",
       "      <th>10105</th>\n",
       "      <td>-89.426303</td>\n",
       "      <td>43.067854</td>\n",
       "      <td>286330</td>\n",
       "      <td>WUJAG</td>\n",
       "      <td>2018-08-13T18:14:14.000Z</td>\n",
       "      <td>WUJAG</td>\n",
       "      <td>2018-08-13T18:17:45.000Z</td>\n",
       "      <td>HYDR-4253-4054</td>\n",
       "      <td>TC</td>\n",
       "      <td>1-1830-19</td>\n",
       "      <td>...</td>\n",
       "      <td>NaN</td>\n",
       "      <td>WATEROUS</td>\n",
       "      <td>NaN</td>\n",
       "      <td>2017.0</td>\n",
       "      <td>5.0</td>\n",
       "      <td>NaN</td>\n",
       "      <td>NaN</td>\n",
       "      <td>NaN</td>\n",
       "      <td>MADISON WATER UTILITY</td>\n",
       "      <td>NaN</td>\n",
       "    </tr>\n",
       "    <tr>\n",
       "      <th>10106</th>\n",
       "      <td>-89.445461</td>\n",
       "      <td>43.053305</td>\n",
       "      <td>286729</td>\n",
       "      <td>WUJAG</td>\n",
       "      <td>2018-08-15T16:37:18.000Z</td>\n",
       "      <td>WUJAG</td>\n",
       "      <td>2018-08-15T16:39:24.000Z</td>\n",
       "      <td>HYDR-3859-4055</td>\n",
       "      <td>TC</td>\n",
       "      <td>1-1830-19</td>\n",
       "      <td>...</td>\n",
       "      <td>NaN</td>\n",
       "      <td>WATEROUS</td>\n",
       "      <td>NaN</td>\n",
       "      <td>2000.0</td>\n",
       "      <td>5.0</td>\n",
       "      <td>NaN</td>\n",
       "      <td>NaN</td>\n",
       "      <td>NaN</td>\n",
       "      <td>MADISON WATER UTILITY</td>\n",
       "      <td>NaN</td>\n",
       "    </tr>\n",
       "    <tr>\n",
       "      <th>10107</th>\n",
       "      <td>-89.388849</td>\n",
       "      <td>43.068576</td>\n",
       "      <td>286730</td>\n",
       "      <td>WUJAG</td>\n",
       "      <td>2018-08-15T16:51:54.000Z</td>\n",
       "      <td>WUJAG</td>\n",
       "      <td>2018-08-15T16:59:15.000Z</td>\n",
       "      <td>HYDR-5052-4056</td>\n",
       "      <td>TC</td>\n",
       "      <td>1-1830-19</td>\n",
       "      <td>...</td>\n",
       "      <td>NaN</td>\n",
       "      <td>WATEROUS</td>\n",
       "      <td>NaN</td>\n",
       "      <td>2017.0</td>\n",
       "      <td>5.0</td>\n",
       "      <td>NaN</td>\n",
       "      <td>NaN</td>\n",
       "      <td>NaN</td>\n",
       "      <td>MADISON WATER UTILITY</td>\n",
       "      <td>NaN</td>\n",
       "    </tr>\n",
       "    <tr>\n",
       "      <th>10108</th>\n",
       "      <td>-89.518896</td>\n",
       "      <td>43.062062</td>\n",
       "      <td>287129</td>\n",
       "      <td>WUJAG</td>\n",
       "      <td>2018-08-20T18:54:01.000Z</td>\n",
       "      <td>WUJAG</td>\n",
       "      <td>2018-08-20T19:27:16.000Z</td>\n",
       "      <td>-2355-4057</td>\n",
       "      <td>FASB</td>\n",
       "      <td>NaN</td>\n",
       "      <td>...</td>\n",
       "      <td>NaN</td>\n",
       "      <td>NaN</td>\n",
       "      <td>NaN</td>\n",
       "      <td>NaN</td>\n",
       "      <td>NaN</td>\n",
       "      <td>NaN</td>\n",
       "      <td>NaN</td>\n",
       "      <td>NaN</td>\n",
       "      <td>PRIVATE</td>\n",
       "      <td>NaN</td>\n",
       "    </tr>\n",
       "  </tbody>\n",
       "</table>\n",
       "<p>5 rows × 25 columns</p>\n",
       "</div>"
      ],
      "text/plain": [
       "               X          Y  OBJECTID CreatedBy               CreatedDate  \\\n",
       "10104 -89.439367  43.040481    286329     WUJAG  2018-08-13T18:03:33.000Z   \n",
       "10105 -89.426303  43.067854    286330     WUJAG  2018-08-13T18:14:14.000Z   \n",
       "10106 -89.445461  43.053305    286729     WUJAG  2018-08-15T16:37:18.000Z   \n",
       "10107 -89.388849  43.068576    286730     WUJAG  2018-08-15T16:51:54.000Z   \n",
       "10108 -89.518896  43.062062    287129     WUJAG  2018-08-20T18:54:01.000Z   \n",
       "\n",
       "      LastEditor                LastUpdate      FacilityID DataSource  \\\n",
       "10104      WUJAG  2018-08-13T18:04:02.000Z  HYDR-3964-4053         TC   \n",
       "10105      WUJAG  2018-08-13T18:17:45.000Z  HYDR-4253-4054         TC   \n",
       "10106      WUJAG  2018-08-15T16:39:24.000Z  HYDR-3859-4055         TC   \n",
       "10107      WUJAG  2018-08-15T16:59:15.000Z  HYDR-5052-4056         TC   \n",
       "10108      WUJAG  2018-08-20T19:27:16.000Z      -2355-4057       FASB   \n",
       "\n",
       "      ProjectNumber  ... Elevation Manufacturer Style  year_manufactured  \\\n",
       "10104     1-1830-19  ...       NaN     WATEROUS   NaN             2018.0   \n",
       "10105     1-1830-19  ...       NaN     WATEROUS   NaN             2017.0   \n",
       "10106     1-1830-19  ...       NaN     WATEROUS   NaN             2000.0   \n",
       "10107     1-1830-19  ...       NaN     WATEROUS   NaN             2017.0   \n",
       "10108           NaN  ...       NaN          NaN   NaN                NaN   \n",
       "\n",
       "      BarrelDiameter  SeatDiameter Comments nozzle_color  \\\n",
       "10104            5.0           NaN      NaN          NaN   \n",
       "10105            5.0           NaN      NaN          NaN   \n",
       "10106            5.0           NaN      NaN          NaN   \n",
       "10107            5.0           NaN      NaN          NaN   \n",
       "10108            NaN           NaN      NaN          NaN   \n",
       "\n",
       "                MaintainedBy  InstallType  \n",
       "10104  MADISON WATER UTILITY          NaN  \n",
       "10105  MADISON WATER UTILITY          NaN  \n",
       "10106  MADISON WATER UTILITY          NaN  \n",
       "10107  MADISON WATER UTILITY          NaN  \n",
       "10108                PRIVATE          NaN  \n",
       "\n",
       "[5 rows x 25 columns]"
      ]
     },
     "execution_count": 2,
     "metadata": {},
     "output_type": "execute_result"
    }
   ],
   "source": [
    "# TODO: read \"Fire_Hydrants.csv\" into a DataFrame\n",
    "hdf = pd.read_csv(\"Fire_Hydrants.csv\")\n",
    "hdf.tail()"
   ]
  },
  {
   "cell_type": "code",
   "execution_count": 3,
   "metadata": {},
   "outputs": [
    {
     "data": {
      "text/plain": [
       "Index(['X', 'Y', 'OBJECTID', 'CreatedBy', 'CreatedDate', 'LastEditor',\n",
       "       'LastUpdate', 'FacilityID', 'DataSource', 'ProjectNumber',\n",
       "       'InstallDate', 'LifecycleStatus', 'Location', 'SymbolRotation',\n",
       "       'HydrantType', 'Elevation', 'Manufacturer', 'Style',\n",
       "       'year_manufactured', 'BarrelDiameter', 'SeatDiameter', 'Comments',\n",
       "       'nozzle_color', 'MaintainedBy', 'InstallType'],\n",
       "      dtype='object')"
      ]
     },
     "execution_count": 3,
     "metadata": {},
     "output_type": "execute_result"
    }
   ],
   "source": [
    "# Extract just the column names\n",
    "hdf.columns"
   ]
  },
  {
   "cell_type": "markdown",
   "metadata": {},
   "source": [
    "### Let's create a *bar plot* to visualize *colors* of fire hydrants."
   ]
  },
  {
   "cell_type": "code",
   "execution_count": 4,
   "metadata": {},
   "outputs": [
    {
     "data": {
      "text/plain": [
       "blue      5810\n",
       "Blue      1148\n",
       "Green      320\n",
       "Orange      74\n",
       "BLUE        45\n",
       "green        9\n",
       "Red          9\n",
       "orange       4\n",
       "GREEN        1\n",
       "white        1\n",
       "C            1\n",
       "ORANGE       1\n",
       "Name: nozzle_color, dtype: int64"
      ]
     },
     "execution_count": 4,
     "metadata": {},
     "output_type": "execute_result"
    }
   ],
   "source": [
    "# Make a series called counts_series which stores the value counts of the \"nozzle_color\"\n",
    "color_counts = hdf[\"nozzle_color\"].value_counts()\n",
    "color_counts # what is wrong with this data?"
   ]
  },
  {
   "cell_type": "code",
   "execution_count": 5,
   "metadata": {},
   "outputs": [
    {
     "data": {
      "text/plain": [
       "BLUE      7003\n",
       "GREEN      330\n",
       "ORANGE      79\n",
       "RED          9\n",
       "WHITE        1\n",
       "C            1\n",
       "Name: nozzle_color, dtype: int64"
      ]
     },
     "execution_count": 5,
     "metadata": {},
     "output_type": "execute_result"
    }
   ],
   "source": [
    "# TODO: Clean the data ......use str.upper()\n",
    "\n",
    "color_counts = hdf[\"nozzle_color\"].str.upper().value_counts()\n",
    "color_counts"
   ]
  },
  {
   "cell_type": "code",
   "execution_count": 6,
   "metadata": {},
   "outputs": [
    {
     "data": {
      "text/plain": [
       "Text(0.5, 0, 'Fire hydrant count')"
      ]
     },
     "execution_count": 6,
     "metadata": {},
     "output_type": "execute_result"
    },
    {
     "data": {
      "image/png": "[encoded data removed]",
      "text/plain": [
       "<Figure size 432x288 with 1 Axes>"
      ]
     },
     "metadata": {
      "needs_background": "light"
     },
     "output_type": "display_data"
    }
   ],
   "source": [
    "# Make a horizontal bar plot of counts of colors and have the colors match\n",
    "# use color list: [\"b\", \"g\", \"darkorange\", \"r\", \"c\", \"0.5\"]\n",
    "ax = color_counts.plot.barh(color = [\"b\", \"g\", \"darkorange\", \"r\", \"c\", \"0.5\"])\n",
    "ax.set_xlabel(\"Fire hydrant count\")"
   ]
  },
  {
   "cell_type": "markdown",
   "metadata": {},
   "source": [
    "### Let's create a *bar plot* to visualize *style* of fire hydrants."
   ]
  },
  {
   "cell_type": "code",
   "execution_count": 7,
   "metadata": {},
   "outputs": [
    {
     "data": {
      "text/plain": [
       "PACER                      3620\n",
       "M-3                        1251\n",
       "MUELLER                    1243\n",
       "WB-59                       664\n",
       "K-11                        351\n",
       "K-81                        162\n",
       "W-59                        151\n",
       "CLOW 2500                   123\n",
       "CLOW MEDALLION               70\n",
       "CLOW                         50\n",
       "CENTURIAN                    35\n",
       "EDDY                         27\n",
       "MUELLER 90                   13\n",
       "MUELLER 86                   13\n",
       "MUELLER SUPER CENTURIAN      12\n",
       "MUELLER 92                   12\n",
       "MUELLER 93                   11\n",
       "MUELLER 91                    9\n",
       "MUELLER 89                    9\n",
       "MUELLER CENTURIAN             9\n",
       "MUELLER 85                    8\n",
       "MUELLER 87                    7\n",
       "MUELLER 84                    6\n",
       "M-2                           6\n",
       "SUPER CENTURIAN               6\n",
       "M-1                           5\n",
       "MUELLER 83                    4\n",
       "MEDALLION                     4\n",
       "PACER 1996                    3\n",
       "SUPER CENTURION               3\n",
       "K-10                          3\n",
       "PACER 90                      3\n",
       "MUELLER 80                    2\n",
       "MUELLER 79                    2\n",
       "MUELLER CENTENIAL             2\n",
       "MUELLER 82                    2\n",
       "PACERR                        1\n",
       "2013                          1\n",
       "CENTERIAN                     1\n",
       "WATEROUS                      1\n",
       "MUELLER 88                    1\n",
       "WB-67                         1\n",
       "KENNEDY                       1\n",
       "MUELLER CENTURION             1\n",
       "MUELLER 94                    1\n",
       "MUELLER 2004                  1\n",
       "MUELLER 2006                  1\n",
       "MUELLER 81                    1\n",
       "GOLDEN                        1\n",
       "Name: Style, dtype: int64"
      ]
     },
     "execution_count": 7,
     "metadata": {},
     "output_type": "execute_result"
    }
   ],
   "source": [
    "# Do the same thing as we did for the colors but this time for the \"Style\"\n",
    "style_counts = hdf[\"Style\"].str.upper().value_counts()\n",
    "style_counts"
   ]
  },
  {
   "cell_type": "code",
   "execution_count": 8,
   "metadata": {},
   "outputs": [
    {
     "data": {
      "text/plain": [
       "<AxesSubplot:>"
      ]
     },
     "execution_count": 8,
     "metadata": {},
     "output_type": "execute_result"
    },
    {
     "data": {
      "image/png": "[encoded data removed]",
      "text/plain": [
       "<Figure size 432x288 with 1 Axes>"
      ]
     },
     "metadata": {
      "needs_background": "light"
     },
     "output_type": "display_data"
    }
   ],
   "source": [
    "style_counts.plot.bar()"
   ]
  },
  {
   "cell_type": "code",
   "execution_count": 9,
   "metadata": {},
   "outputs": [],
   "source": [
    "# Grab the top 12 \n",
    "top12 = style_counts.iloc[:12]\n",
    "\n",
    "# and them add an index to our Series for the sum of all the \"other\" for \n",
    "top12[\"other\"] = style_counts.iloc[12:].sum()"
   ]
  },
  {
   "cell_type": "code",
   "execution_count": 10,
   "metadata": {},
   "outputs": [
    {
     "data": {
      "text/plain": [
       "Text(0.5, 0, 'Hydrant Type')"
      ]
     },
     "execution_count": 10,
     "metadata": {},
     "output_type": "execute_result"
    },
    {
     "data": {
      "image/png": "[encoded data removed]",
      "text/plain": [
       "<Figure size 432x288 with 1 Axes>"
      ]
     },
     "metadata": {
      "needs_background": "light"
     },
     "output_type": "display_data"
    }
   ],
   "source": [
    "# Plot the results\n",
    "ax = top12.plot.bar(color = \"firebrick\")\n",
    "ax.set_ylabel(\"Hydrant Count\")\n",
    "ax.set_xlabel(\"Hydrant Type\")"
   ]
  },
  {
   "cell_type": "markdown",
   "metadata": {},
   "source": [
    "### In what *decade* were *pacers manufactured*?\n",
    "### Take a peek at the *Style* column data"
   ]
  },
  {
   "cell_type": "code",
   "execution_count": 11,
   "metadata": {},
   "outputs": [
    {
     "data": {
      "text/plain": [
       "0        Pacer\n",
       "1        Pacer\n",
       "2        Pacer\n",
       "3        Pacer\n",
       "4        Pacer\n",
       "         ...  \n",
       "10104      NaN\n",
       "10105      NaN\n",
       "10106      NaN\n",
       "10107      NaN\n",
       "10108      NaN\n",
       "Name: Style, Length: 10109, dtype: object"
      ]
     },
     "execution_count": 11,
     "metadata": {},
     "output_type": "execute_result"
    }
   ],
   "source": [
    "hdf[\"Style\"]"
   ]
  },
  {
   "cell_type": "markdown",
   "metadata": {},
   "source": [
    "### Which *column* gives *year* information?"
   ]
  },
  {
   "cell_type": "code",
   "execution_count": 12,
   "metadata": {},
   "outputs": [
    {
     "data": {
      "text/plain": [
       "Index(['X', 'Y', 'OBJECTID', 'CreatedBy', 'CreatedDate', 'LastEditor',\n",
       "       'LastUpdate', 'FacilityID', 'DataSource', 'ProjectNumber',\n",
       "       'InstallDate', 'LifecycleStatus', 'Location', 'SymbolRotation',\n",
       "       'HydrantType', 'Elevation', 'Manufacturer', 'Style',\n",
       "       'year_manufactured', 'BarrelDiameter', 'SeatDiameter', 'Comments',\n",
       "       'nozzle_color', 'MaintainedBy', 'InstallType'],\n",
       "      dtype='object')"
      ]
     },
     "execution_count": 12,
     "metadata": {},
     "output_type": "execute_result"
    }
   ],
   "source": [
    "hdf.columns"
   ]
  },
  {
   "cell_type": "markdown",
   "metadata": {},
   "source": [
    "### How to get the *year_manufactured* for *pacers* and *others*?"
   ]
  },
  {
   "cell_type": "code",
   "execution_count": 13,
   "metadata": {},
   "outputs": [
    {
     "data": {
      "text/plain": [
       "0        1996.0\n",
       "1        1995.0\n",
       "2        1996.0\n",
       "3        1995.0\n",
       "4        1996.0\n",
       "          ...  \n",
       "10050    2017.0\n",
       "10051    2017.0\n",
       "10052    2017.0\n",
       "10053    2017.0\n",
       "10054       NaN\n",
       "Name: year_manufactured, Length: 3458, dtype: float64"
      ]
     },
     "execution_count": 13,
     "metadata": {},
     "output_type": "execute_result"
    }
   ],
   "source": [
    "# Let's get the year manufactured for all of the \"Pacer\" hydrants.\n",
    "pacer_years = hdf[hdf[\"Style\"] == \"Pacer\"][\"year_manufactured\"]\n",
    "\n",
    "# Note: We can do this either way\n",
    "# pacer_years = hdf[\"year_manufactured\"][hdf[\"Style\"] == \"Pacer\"]\n",
    "\n",
    "pacer_years"
   ]
  },
  {
   "cell_type": "code",
   "execution_count": 14,
   "metadata": {},
   "outputs": [
    {
     "data": {
      "text/plain": [
       "18       1987.0\n",
       "22       1996.0\n",
       "23       1996.0\n",
       "71       1987.0\n",
       "72       1987.0\n",
       "          ...  \n",
       "10104    2018.0\n",
       "10105    2017.0\n",
       "10106    2000.0\n",
       "10107    2017.0\n",
       "10108       NaN\n",
       "Name: year_manufactured, Length: 6651, dtype: float64"
      ]
     },
     "execution_count": 14,
     "metadata": {},
     "output_type": "execute_result"
    }
   ],
   "source": [
    "# then do the same for all the other data\n",
    "other_years = hdf[\"year_manufactured\"][hdf[\"Style\"] != \"Pacer\"]\n",
    "other_years"
   ]
  },
  {
   "cell_type": "markdown",
   "metadata": {},
   "source": [
    "### How to get the *decade* for *pacers*?"
   ]
  },
  {
   "cell_type": "code",
   "execution_count": 15,
   "metadata": {},
   "outputs": [
    {
     "data": {
      "text/plain": [
       "0        1990.0\n",
       "1        1990.0\n",
       "2        1990.0\n",
       "3        1990.0\n",
       "4        1990.0\n",
       "          ...  \n",
       "10050    2010.0\n",
       "10051    2010.0\n",
       "10052    2010.0\n",
       "10053    2010.0\n",
       "10054       NaN\n",
       "Name: year_manufactured, Length: 3458, dtype: float64"
      ]
     },
     "execution_count": 15,
     "metadata": {},
     "output_type": "execute_result"
    }
   ],
   "source": [
    "# Round each year down to the start of the decade.\n",
    "# e.g. 1987 --> 1980, 2003 --> 2000\n",
    "pacer_decades = (pacer_years // 10 * 10)\n",
    "pacer_decades"
   ]
  },
  {
   "cell_type": "markdown",
   "metadata": {},
   "source": [
    "### How to convert the *decades* back to *int*?\n",
    "- `astype(...)` method\n",
    "- `dropna(...)` method"
   ]
  },
  {
   "cell_type": "code",
   "execution_count": 16,
   "metadata": {},
   "outputs": [
    {
     "data": {
      "text/plain": [
       "0        1990\n",
       "1        1990\n",
       "2        1990\n",
       "3        1990\n",
       "4        1990\n",
       "         ... \n",
       "10046    2010\n",
       "10050    2010\n",
       "10051    2010\n",
       "10052    2010\n",
       "10053    2010\n",
       "Name: year_manufactured, Length: 3101, dtype: int64"
      ]
     },
     "execution_count": 16,
     "metadata": {},
     "output_type": "execute_result"
    }
   ],
   "source": [
    "# Drop the NaN values, convert to int, and do value counts\n",
    "pacer_decades = pacer_decades.dropna()\n",
    "pacer_decades = pacer_decades.astype(int)\n",
    "pacer_decades"
   ]
  },
  {
   "cell_type": "markdown",
   "metadata": {},
   "source": [
    "### How to *count the decades* for pacers?"
   ]
  },
  {
   "cell_type": "code",
   "execution_count": 17,
   "metadata": {},
   "outputs": [
    {
     "data": {
      "text/plain": [
       "2000    1730\n",
       "1990     846\n",
       "2010     503\n",
       "1980      21\n",
       "1960       1\n",
       "Name: year_manufactured, dtype: int64"
      ]
     },
     "execution_count": 17,
     "metadata": {},
     "output_type": "execute_result"
    }
   ],
   "source": [
    "pacer_decades_count = pacer_decades.value_counts()\n",
    "pacer_decades_count"
   ]
  },
  {
   "cell_type": "markdown",
   "metadata": {},
   "source": [
    "### Count the *decades* for others."
   ]
  },
  {
   "cell_type": "code",
   "execution_count": 18,
   "metadata": {},
   "outputs": [
    {
     "data": {
      "text/plain": [
       "2010    1196\n",
       "1980     937\n",
       "1970     578\n",
       "1990     431\n",
       "1950     371\n",
       "1960     349\n",
       "2000     215\n",
       "1940      68\n",
       "1930       9\n",
       "1900       1\n",
       "Name: year_manufactured, dtype: int64"
      ]
     },
     "execution_count": 18,
     "metadata": {},
     "output_type": "execute_result"
    }
   ],
   "source": [
    "# Do the same thing for other_years. Save to a variable called \"other_decades\"\n",
    "other_decades = (other_years // 10 * 10).dropna().astype(int)\n",
    "other_decades_count = other_decades.value_counts()\n",
    "other_decades_count"
   ]
  },
  {
   "cell_type": "markdown",
   "metadata": {},
   "source": [
    "### Build a DataFrame from a dictionary of key, Series"
   ]
  },
  {
   "cell_type": "code",
   "execution_count": 19,
   "metadata": {},
   "outputs": [
    {
     "data": {
      "text/html": [
       "<div>\n",
       "<style scoped>\n",
       "    .dataframe tbody tr th:only-of-type {\n",
       "        vertical-align: middle;\n",
       "    }\n",
       "\n",
       "    .dataframe tbody tr th {\n",
       "        vertical-align: top;\n",
       "    }\n",
       "\n",
       "    .dataframe thead th {\n",
       "        text-align: right;\n",
       "    }\n",
       "</style>\n",
       "<table border=\"1\" class=\"dataframe\">\n",
       "  <thead>\n",
       "    <tr style=\"text-align: right;\">\n",
       "      <th></th>\n",
       "      <th>pacer</th>\n",
       "      <th>other</th>\n",
       "    </tr>\n",
       "  </thead>\n",
       "  <tbody>\n",
       "    <tr>\n",
       "      <th>1900</th>\n",
       "      <td>NaN</td>\n",
       "      <td>1</td>\n",
       "    </tr>\n",
       "    <tr>\n",
       "      <th>1930</th>\n",
       "      <td>NaN</td>\n",
       "      <td>9</td>\n",
       "    </tr>\n",
       "    <tr>\n",
       "      <th>1940</th>\n",
       "      <td>NaN</td>\n",
       "      <td>68</td>\n",
       "    </tr>\n",
       "    <tr>\n",
       "      <th>1950</th>\n",
       "      <td>NaN</td>\n",
       "      <td>371</td>\n",
       "    </tr>\n",
       "    <tr>\n",
       "      <th>1960</th>\n",
       "      <td>1.0</td>\n",
       "      <td>349</td>\n",
       "    </tr>\n",
       "    <tr>\n",
       "      <th>1970</th>\n",
       "      <td>NaN</td>\n",
       "      <td>578</td>\n",
       "    </tr>\n",
       "    <tr>\n",
       "      <th>1980</th>\n",
       "      <td>21.0</td>\n",
       "      <td>937</td>\n",
       "    </tr>\n",
       "    <tr>\n",
       "      <th>1990</th>\n",
       "      <td>846.0</td>\n",
       "      <td>431</td>\n",
       "    </tr>\n",
       "    <tr>\n",
       "      <th>2000</th>\n",
       "      <td>1730.0</td>\n",
       "      <td>215</td>\n",
       "    </tr>\n",
       "    <tr>\n",
       "      <th>2010</th>\n",
       "      <td>503.0</td>\n",
       "      <td>1196</td>\n",
       "    </tr>\n",
       "  </tbody>\n",
       "</table>\n",
       "</div>"
      ],
      "text/plain": [
       "       pacer  other\n",
       "1900     NaN      1\n",
       "1930     NaN      9\n",
       "1940     NaN     68\n",
       "1950     NaN    371\n",
       "1960     1.0    349\n",
       "1970     NaN    578\n",
       "1980    21.0    937\n",
       "1990   846.0    431\n",
       "2000  1730.0    215\n",
       "2010   503.0   1196"
      ]
     },
     "execution_count": 19,
     "metadata": {},
     "output_type": "execute_result"
    }
   ],
   "source": [
    "plot_df = DataFrame({\n",
    "    \"pacer\": pacer_decades_count,\n",
    "    \"other\": other_decades_count,\n",
    "})\n",
    "plot_df # observe the NaN values"
   ]
  },
  {
   "cell_type": "code",
   "execution_count": 20,
   "metadata": {},
   "outputs": [
    {
     "data": {
      "text/plain": [
       "Text(0, 0.5, 'Hydrant Count')"
      ]
     },
     "execution_count": 20,
     "metadata": {},
     "output_type": "execute_result"
    },
    {
     "data": {
      "image/png": "[encoded data removed]",
      "text/plain": [
       "<Figure size 432x288 with 1 Axes>"
      ]
     },
     "metadata": {
      "needs_background": "light"
     },
     "output_type": "display_data"
    }
   ],
   "source": [
    "# make a bar plot\n",
    "\n",
    "ax = plot_df.plot.bar()\n",
    "ax.set_xlabel(\"Decade\")\n",
    "ax.set_ylabel(\"Hydrant Count\")"
   ]
  },
  {
   "cell_type": "markdown",
   "metadata": {},
   "source": [
    "#### Ignore data from before 1950 using boolean indexing."
   ]
  },
  {
   "cell_type": "code",
   "execution_count": 21,
   "metadata": {},
   "outputs": [
    {
     "data": {
      "text/plain": [
       "Text(0, 0.5, 'Hydrant Count')"
      ]
     },
     "execution_count": 21,
     "metadata": {},
     "output_type": "execute_result"
    },
    {
     "data": {
      "image/png": "[encoded data removed]",
      "text/plain": [
       "<Figure size 432x288 with 1 Axes>"
      ]
     },
     "metadata": {
      "needs_background": "light"
     },
     "output_type": "display_data"
    }
   ],
   "source": [
    "ax = plot_df[plot_df.index >= 1950].plot.bar()\n",
    "ax.set_xlabel(\"Decade\")\n",
    "ax.set_ylabel(\"Hydrant Count\")"
   ]
  },
  {
   "cell_type": "markdown",
   "metadata": {},
   "source": [
    "### Stacked Bar Chart\n",
    "`stacked` parameter accepts boolean value as argument"
   ]
  },
  {
   "cell_type": "code",
   "execution_count": 22,
   "metadata": {},
   "outputs": [
    {
     "data": {
      "image/png": "[encoded data removed]",
      "text/plain": [
       "<Figure size 432x288 with 1 Axes>"
      ]
     },
     "metadata": {
      "needs_background": "light"
     },
     "output_type": "display_data"
    }
   ],
   "source": [
    "ax = plot_df[plot_df.index >= 1950].plot.bar(stacked=True)\n",
    "ax.set_xlabel(\"Decade\")\n",
    "ax.set_ylabel(\"Hydrant Count\")\n",
    "None"
   ]
  },
  {
   "cell_type": "markdown",
   "metadata": {},
   "source": [
    "# Plotting 4\n",
    "\n",
    "## Learning objectives\n",
    "- how to use logarithmic axes\n",
    "- how to create multiple plots within same figure"
   ]
  },
  {
   "cell_type": "markdown",
   "metadata": {},
   "source": [
    "### Logarithmic scale\n",
    "- math.log(y, base)\n",
    "- find an x, such that 10**x == y\n",
    "    - math.log10(y)"
   ]
  },
  {
   "cell_type": "code",
   "execution_count": 23,
   "metadata": {},
   "outputs": [
    {
     "name": "stdout",
     "output_type": "stream",
     "text": [
      "3.0\n",
      "6.0\n"
     ]
    }
   ],
   "source": [
    "print(math.log10(1000))\n",
    "print(math.log10(1000000))"
   ]
  },
  {
   "cell_type": "code",
   "execution_count": 24,
   "metadata": {},
   "outputs": [
    {
     "name": "stdout",
     "output_type": "stream",
     "text": [
      "5.0\n",
      "4.0\n"
     ]
    }
   ],
   "source": [
    "print(math.log(32, 2))\n",
    "print(math.log(256, 4))"
   ]
  },
  {
   "cell_type": "code",
   "execution_count": 25,
   "metadata": {},
   "outputs": [],
   "source": [
    "def log_approx(y):\n",
    "    assert type(y) == int\n",
    "    assert y >= 1\n",
    "    return len(str(y))"
   ]
  },
  {
   "cell_type": "code",
   "execution_count": 26,
   "metadata": {},
   "outputs": [
    {
     "name": "stdout",
     "output_type": "stream",
     "text": [
      "9\n",
      "8.09151497716927\n"
     ]
    }
   ],
   "source": [
    "print(log_approx(123456789)) # What will this output?\n",
    "print(math.log10(123456789))"
   ]
  },
  {
   "cell_type": "code",
   "execution_count": 27,
   "metadata": {},
   "outputs": [
    {
     "name": "stdout",
     "output_type": "stream",
     "text": [
      "6\n",
      "5.995590446800246\n"
     ]
    }
   ],
   "source": [
    "print(log_approx(989898))\n",
    "print(math.log10(989898))"
   ]
  },
  {
   "cell_type": "code",
   "execution_count": 28,
   "metadata": {},
   "outputs": [
    {
     "data": {
      "text/plain": [
       "1.0"
      ]
     },
     "execution_count": 28,
     "metadata": {},
     "output_type": "execute_result"
    }
   ],
   "source": [
    "errors = []\n",
    "for y in range(1, 1000001):\n",
    "    err = abs(log_approx(y) - math.log10(y))\n",
    "    errors.append(err)\n",
    "max(errors)"
   ]
  },
  {
   "cell_type": "markdown",
   "metadata": {},
   "source": [
    "### Why does this matter?\n",
    "- Comparing two numbers:\n",
    "     - 134234255623423423423432423432432432\n",
    "     - 2342343252523\n",
    "\n",
    "- Eventually I don't care what the number is, but only counting the number of digits in the number to know how big the number is!\n",
    "- log base 2: counting how many bits we need\n",
    "- log base 10: 10 digits 0 through 9!"
   ]
  },
  {
   "cell_type": "code",
   "execution_count": 29,
   "metadata": {},
   "outputs": [
    {
     "data": {
      "text/plain": [
       "<AxesSubplot:>"
      ]
     },
     "execution_count": 29,
     "metadata": {},
     "output_type": "execute_result"
    },
    {
     "data": {
      "image/png": "[encoded data removed]",
      "text/plain": [
       "<Figure size 432x288 with 1 Axes>"
      ]
     },
     "metadata": {
      "needs_background": "light"
     },
     "output_type": "display_data"
    }
   ],
   "source": [
    "s = Series([1, 10, 100, 1000, 10000, 100000, 1000000])\n",
    "s.plot.line()"
   ]
  },
  {
   "cell_type": "code",
   "execution_count": 30,
   "metadata": {},
   "outputs": [
    {
     "data": {
      "text/plain": [
       "<AxesSubplot:>"
      ]
     },
     "execution_count": 30,
     "metadata": {},
     "output_type": "execute_result"
    },
    {
     "data": {
      "image/png": "[encoded data removed]",
      "text/plain": [
       "<Figure size 432x288 with 1 Axes>"
      ]
     },
     "metadata": {
      "needs_background": "light"
     },
     "output_type": "display_data"
    }
   ],
   "source": [
    "s.plot.line(logy = True)"
   ]
  },
  {
   "cell_type": "markdown",
   "metadata": {},
   "source": [
    "### Population example\n",
    "https://ourworldindata.org/grapher/population"
   ]
  },
  {
   "cell_type": "code",
   "execution_count": 31,
   "metadata": {},
   "outputs": [],
   "source": [
    "populations = pd.Series({\n",
    "        \"China\":1439323776,\n",
    "        \"India\": 1380004385,\n",
    "        \"Mexico\": 128932753,\n",
    "        \"Senegal\":16743927,\n",
    "        \"Bahrain\":1701575,\n",
    "        \"Grenada\":112523,\n",
    "        \"Tuvalu\": 11792\n",
    "})"
   ]
  },
  {
   "cell_type": "markdown",
   "metadata": {},
   "source": [
    "Plot populations as a bar chart."
   ]
  },
  {
   "cell_type": "code",
   "execution_count": 32,
   "metadata": {},
   "outputs": [
    {
     "data": {
      "text/plain": [
       "<AxesSubplot:>"
      ]
     },
     "execution_count": 32,
     "metadata": {},
     "output_type": "execute_result"
    },
    {
     "data": {
      "image/png": "[encoded data removed]",
      "text/plain": [
       "<Figure size 432x288 with 1 Axes>"
      ]
     },
     "metadata": {
      "needs_background": "light"
     },
     "output_type": "display_data"
    }
   ],
   "source": [
    "# not that readable\n",
    "populations.plot.bar()"
   ]
  },
  {
   "cell_type": "markdown",
   "metadata": {},
   "source": [
    "Now plot on a logarithmic scale."
   ]
  },
  {
   "cell_type": "code",
   "execution_count": 33,
   "metadata": {},
   "outputs": [
    {
     "data": {
      "text/plain": [
       "<AxesSubplot:>"
      ]
     },
     "execution_count": 33,
     "metadata": {},
     "output_type": "execute_result"
    },
    {
     "data": {
      "image/png": "[encoded data removed]",
      "text/plain": [
       "<Figure size 432x288 with 1 Axes>"
      ]
     },
     "metadata": {
      "needs_background": "light"
     },
     "output_type": "display_data"
    }
   ],
   "source": [
    "populations.plot.bar(logy = True)"
   ]
  },
  {
   "cell_type": "markdown",
   "metadata": {},
   "source": [
    "### Multiple *axessubplots* in the same plot"
   ]
  },
  {
   "cell_type": "code",
   "execution_count": 34,
   "metadata": {},
   "outputs": [
    {
     "data": {
      "text/plain": [
       "(<Figure size 432x288 with 1 Axes>, <AxesSubplot:>)"
      ]
     },
     "execution_count": 34,
     "metadata": {},
     "output_type": "execute_result"
    },
    {
     "data": {
      "image/png": "[encoded data removed]",
      "text/plain": [
       "<Figure size 432x288 with 1 Axes>"
      ]
     },
     "metadata": {
      "needs_background": "light"
     },
     "output_type": "display_data"
    }
   ],
   "source": [
    "plt.subplots()"
   ]
  },
  {
   "cell_type": "code",
   "execution_count": 36,
   "metadata": {},
   "outputs": [
    {
     "data": {
      "text/plain": [
       "(<Figure size 432x288 with 2 Axes>,\n",
       " array([<AxesSubplot:>, <AxesSubplot:>], dtype=object))"
      ]
     },
     "execution_count": 36,
     "metadata": {},
     "output_type": "execute_result"
    },
    {
     "data": {
      "image/png": "[encoded data removed]",
      "text/plain": [
       "<Figure size 432x288 with 2 Axes>"
      ]
     },
     "metadata": {
      "needs_background": "light"
     },
     "output_type": "display_data"
    }
   ],
   "source": [
    "plt.subplots(nrows = 2)"
   ]
  },
  {
   "cell_type": "code",
   "execution_count": 37,
   "metadata": {},
   "outputs": [
    {
     "data": {
      "text/plain": [
       "(<Figure size 432x288 with 4 Axes>,\n",
       " array([[<AxesSubplot:>, <AxesSubplot:>],\n",
       "        [<AxesSubplot:>, <AxesSubplot:>]], dtype=object))"
      ]
     },
     "execution_count": 37,
     "metadata": {},
     "output_type": "execute_result"
    },
    {
     "data": {
      "image/png": "[encoded data removed]",
      "text/plain": [
       "<Figure size 432x288 with 4 Axes>"
      ]
     },
     "metadata": {
      "needs_background": "light"
     },
     "output_type": "display_data"
    }
   ],
   "source": [
    "plt.subplots(ncols = 2, nrows = 2)"
   ]
  },
  {
   "cell_type": "code",
   "execution_count": 38,
   "metadata": {},
   "outputs": [],
   "source": [
    "s1 = Series([1, 2, 3, 3, 4])\n",
    "s2 = Series([5, 7, 7, 8])"
   ]
  },
  {
   "cell_type": "markdown",
   "metadata": {},
   "source": [
    "Let's create a single plot with two sub figures (line plots) and plot s1 on the left and s2 on the right."
   ]
  },
  {
   "cell_type": "code",
   "execution_count": 39,
   "metadata": {},
   "outputs": [
    {
     "data": {
      "text/plain": [
       "<AxesSubplot:>"
      ]
     },
     "execution_count": 39,
     "metadata": {},
     "output_type": "execute_result"
    },
    {
     "data": {
      "image/png": "[encoded data removed]",
      "text/plain": [
       "<Figure size 432x288 with 2 Axes>"
      ]
     },
     "metadata": {
      "needs_background": "light"
     },
     "output_type": "display_data"
    }
   ],
   "source": [
    "fig, axes = plt.subplots(ncols = 2)\n",
    "# axes[0] # the area on the left\n",
    "# axes[1] # the area on the right\n",
    "s1.plot.line(ax = axes[0])\n",
    "s2.plot.line(ax = axes[1])"
   ]
  },
  {
   "cell_type": "markdown",
   "metadata": {},
   "source": [
    "What is wrong with the below plot?"
   ]
  },
  {
   "cell_type": "code",
   "execution_count": 40,
   "metadata": {},
   "outputs": [],
   "source": [
    "# Y-axes are misleading"
   ]
  },
  {
   "cell_type": "markdown",
   "metadata": {},
   "source": [
    "# How can we fix that?\n",
    "- pass argument to `sharey` parameter while invoking subplots function"
   ]
  },
  {
   "cell_type": "code",
   "execution_count": 41,
   "metadata": {},
   "outputs": [
    {
     "data": {
      "text/plain": [
       "<AxesSubplot:>"
      ]
     },
     "execution_count": 41,
     "metadata": {},
     "output_type": "execute_result"
    },
    {
     "data": {
      "image/png": "[encoded data removed]",
      "text/plain": [
       "<Figure size 432x288 with 2 Axes>"
      ]
     },
     "metadata": {
      "needs_background": "light"
     },
     "output_type": "display_data"
    }
   ],
   "source": [
    "fig, axes = plt.subplots(ncols = 2, sharey = True)\n",
    "# axes[0] # the area on the left\n",
    "# axes[1] # the area on the right\n",
    "pd.Series([1, 2, 3, 3, 4]).plot.line(ax = axes[0])\n",
    "pd.Series([5, 7, 7, 8]).plot.line(ax = axes[1])"
   ]
  },
  {
   "cell_type": "markdown",
   "metadata": {},
   "source": [
    "### Iris dataset"
   ]
  },
  {
   "cell_type": "code",
   "execution_count": 42,
   "metadata": {},
   "outputs": [
    {
     "data": {
      "text/html": [
       "<div>\n",
       "<style scoped>\n",
       "    .dataframe tbody tr th:only-of-type {\n",
       "        vertical-align: middle;\n",
       "    }\n",
       "\n",
       "    .dataframe tbody tr th {\n",
       "        vertical-align: top;\n",
       "    }\n",
       "\n",
       "    .dataframe thead th {\n",
       "        text-align: right;\n",
       "    }\n",
       "</style>\n",
       "<table border=\"1\" class=\"dataframe\">\n",
       "  <thead>\n",
       "    <tr style=\"text-align: right;\">\n",
       "      <th></th>\n",
       "      <th>sep-len</th>\n",
       "      <th>sep-wid</th>\n",
       "      <th>pet-len</th>\n",
       "      <th>pet-wid</th>\n",
       "      <th>class</th>\n",
       "    </tr>\n",
       "  </thead>\n",
       "  <tbody>\n",
       "    <tr>\n",
       "      <th>0</th>\n",
       "      <td>5.1</td>\n",
       "      <td>3.5</td>\n",
       "      <td>1.4</td>\n",
       "      <td>0.2</td>\n",
       "      <td>Iris-setosa</td>\n",
       "    </tr>\n",
       "    <tr>\n",
       "      <th>1</th>\n",
       "      <td>4.9</td>\n",
       "      <td>3.0</td>\n",
       "      <td>1.4</td>\n",
       "      <td>0.2</td>\n",
       "      <td>Iris-setosa</td>\n",
       "    </tr>\n",
       "    <tr>\n",
       "      <th>2</th>\n",
       "      <td>4.7</td>\n",
       "      <td>3.2</td>\n",
       "      <td>1.3</td>\n",
       "      <td>0.2</td>\n",
       "      <td>Iris-setosa</td>\n",
       "    </tr>\n",
       "    <tr>\n",
       "      <th>3</th>\n",
       "      <td>4.6</td>\n",
       "      <td>3.1</td>\n",
       "      <td>1.5</td>\n",
       "      <td>0.2</td>\n",
       "      <td>Iris-setosa</td>\n",
       "    </tr>\n",
       "    <tr>\n",
       "      <th>4</th>\n",
       "      <td>5.0</td>\n",
       "      <td>3.6</td>\n",
       "      <td>1.4</td>\n",
       "      <td>0.2</td>\n",
       "      <td>Iris-setosa</td>\n",
       "    </tr>\n",
       "  </tbody>\n",
       "</table>\n",
       "</div>"
      ],
      "text/plain": [
       "   sep-len  sep-wid  pet-len  pet-wid        class\n",
       "0      5.1      3.5      1.4      0.2  Iris-setosa\n",
       "1      4.9      3.0      1.4      0.2  Iris-setosa\n",
       "2      4.7      3.2      1.3      0.2  Iris-setosa\n",
       "3      4.6      3.1      1.5      0.2  Iris-setosa\n",
       "4      5.0      3.6      1.4      0.2  Iris-setosa"
      ]
     },
     "execution_count": 42,
     "metadata": {},
     "output_type": "execute_result"
    }
   ],
   "source": [
    "# Gather the data.\n",
    "resp = requests.get(\"https://archive.ics.uci.edu/ml/machine-learning-databases/iris/iris.data\")\n",
    "resp.raise_for_status()\n",
    "\n",
    "iris_f = open(\"iris.csv\", \"w\")\n",
    "iris_f.write(resp.text)\n",
    "iris_f.close()\n",
    "\n",
    "iris_df = pd.read_csv(\"iris.csv\",\n",
    "                 names = [\"sep-len\", \"sep-wid\", \"pet-len\", \"pet-wid\", \"class\"])\n",
    "iris_df.head()"
   ]
  },
  {
   "cell_type": "code",
   "execution_count": 43,
   "metadata": {},
   "outputs": [
    {
     "data": {
      "image/png": "[encoded data removed]",
      "text/plain": [
       "<Figure size 864x216 with 3 Axes>"
      ]
     },
     "metadata": {
      "needs_background": "light"
     },
     "output_type": "display_data"
    }
   ],
   "source": [
    "# Plot the sepal length vs the sepal width for each of the classes of flowers.\n",
    "colors = [\"r\", \"g\", \"b\"]\n",
    "markers = [\".\", \"^\", \"v\"]\n",
    "\n",
    "varieties = list(set(iris_df[\"class\"]))\n",
    "\n",
    "fig, axes = plt.subplots(ncols = 3, sharex = True, sharey = True, figsize=(12,3))\n",
    "for i in range(len(varieties)):\n",
    "    variety = varieties[i]\n",
    "    specific_iris_data = iris_df[iris_df[\"class\"] == variety]\n",
    "    specific_iris_data.plot.scatter(x = \"sep-len\", y = 'sep-wid', \\\n",
    "                                    ax = axes[i], color = colors[i], marker = markers[i],\n",
    "                                   label = variety)"
   ]
  },
  {
   "cell_type": "markdown",
   "metadata": {},
   "source": [
    "## Self-practice - Student Information Dataset"
   ]
  },
  {
   "cell_type": "code",
   "execution_count": 44,
   "metadata": {},
   "outputs": [
    {
     "name": "stdout",
     "output_type": "stream",
     "text": [
      "CREATE TABLE \"survey\" (\n",
      "\"Lecture\" TEXT,\n",
      "  \"Age\" TEXT,\n",
      "  \"Major\" TEXT,\n",
      "  \"Zip Code\" TEXT,\n",
      "  \"Latitude\" TEXT,\n",
      "  \"Longitude\" TEXT,\n",
      "  \"Pizza topping\" TEXT,\n",
      "  \"Pet preference\" TEXT,\n",
      "  \"Runner\" TEXT,\n",
      "  \"Sleep habit\" TEXT,\n",
      "  \"Procrastinator\" TEXT\n",
      ")\n"
     ]
    }
   ],
   "source": [
    "# TODO: establish connection to \"cs220_survey_data.db\"\n",
    "path = \"cs220_survey_data.db\"\n",
    "assert os.path.exists(path)\n",
    "conn = sqlite3.connect(path)\n",
    "\n",
    "# TODO: determine the table name and column types\n",
    "print(pd.read_sql(\"SELECT * FROM sqlite_master WHERE type = 'table'\", conn)[\"sql\"].iloc[0])"
   ]
  },
  {
   "cell_type": "code",
   "execution_count": 45,
   "metadata": {},
   "outputs": [
    {
     "data": {
      "text/html": [
       "<div>\n",
       "<style scoped>\n",
       "    .dataframe tbody tr th:only-of-type {\n",
       "        vertical-align: middle;\n",
       "    }\n",
       "\n",
       "    .dataframe tbody tr th {\n",
       "        vertical-align: top;\n",
       "    }\n",
       "\n",
       "    .dataframe thead th {\n",
       "        text-align: right;\n",
       "    }\n",
       "</style>\n",
       "<table border=\"1\" class=\"dataframe\">\n",
       "  <thead>\n",
       "    <tr style=\"text-align: right;\">\n",
       "      <th></th>\n",
       "      <th>Lecture</th>\n",
       "      <th>Age</th>\n",
       "      <th>Major</th>\n",
       "      <th>Zip Code</th>\n",
       "      <th>Latitude</th>\n",
       "      <th>Longitude</th>\n",
       "      <th>Pizza topping</th>\n",
       "      <th>Pet preference</th>\n",
       "      <th>Runner</th>\n",
       "      <th>Sleep habit</th>\n",
       "      <th>Procrastinator</th>\n",
       "    </tr>\n",
       "  </thead>\n",
       "  <tbody>\n",
       "    <tr>\n",
       "      <th>0</th>\n",
       "      <td>LEC001</td>\n",
       "      <td>22</td>\n",
       "      <td>Engineering: Biomedical</td>\n",
       "      <td>53703</td>\n",
       "      <td>43.073051</td>\n",
       "      <td>-89.40123</td>\n",
       "      <td>none (just cheese)</td>\n",
       "      <td>neither</td>\n",
       "      <td>No</td>\n",
       "      <td>no preference</td>\n",
       "      <td>Maybe</td>\n",
       "    </tr>\n",
       "    <tr>\n",
       "      <th>1</th>\n",
       "      <td>LEC006</td>\n",
       "      <td></td>\n",
       "      <td>Undecided</td>\n",
       "      <td>53706</td>\n",
       "      <td>43.073051</td>\n",
       "      <td>-89.40123</td>\n",
       "      <td>none (just cheese)</td>\n",
       "      <td>neither</td>\n",
       "      <td>No</td>\n",
       "      <td>no preference</td>\n",
       "      <td>Maybe</td>\n",
       "    </tr>\n",
       "    <tr>\n",
       "      <th>2</th>\n",
       "      <td>LEC004</td>\n",
       "      <td>18</td>\n",
       "      <td>Engineering: Industrial</td>\n",
       "      <td>53715</td>\n",
       "      <td>43.073051</td>\n",
       "      <td>-89.40123</td>\n",
       "      <td>none (just cheese)</td>\n",
       "      <td>neither</td>\n",
       "      <td>No</td>\n",
       "      <td>no preference</td>\n",
       "      <td>Maybe</td>\n",
       "    </tr>\n",
       "    <tr>\n",
       "      <th>3</th>\n",
       "      <td>LEC005</td>\n",
       "      <td></td>\n",
       "      <td>Undecided</td>\n",
       "      <td>53706</td>\n",
       "      <td>43.073051</td>\n",
       "      <td>-89.40123</td>\n",
       "      <td>none (just cheese)</td>\n",
       "      <td>neither</td>\n",
       "      <td>No</td>\n",
       "      <td>no preference</td>\n",
       "      <td>Maybe</td>\n",
       "    </tr>\n",
       "    <tr>\n",
       "      <th>4</th>\n",
       "      <td>LEC002</td>\n",
       "      <td></td>\n",
       "      <td>Undecided</td>\n",
       "      <td>53706</td>\n",
       "      <td>43.073051</td>\n",
       "      <td>-89.40123</td>\n",
       "      <td>none (just cheese)</td>\n",
       "      <td>neither</td>\n",
       "      <td>No</td>\n",
       "      <td>no preference</td>\n",
       "      <td>Maybe</td>\n",
       "    </tr>\n",
       "    <tr>\n",
       "      <th>...</th>\n",
       "      <td>...</td>\n",
       "      <td>...</td>\n",
       "      <td>...</td>\n",
       "      <td>...</td>\n",
       "      <td>...</td>\n",
       "      <td>...</td>\n",
       "      <td>...</td>\n",
       "      <td>...</td>\n",
       "      <td>...</td>\n",
       "      <td>...</td>\n",
       "      <td>...</td>\n",
       "    </tr>\n",
       "    <tr>\n",
       "      <th>987</th>\n",
       "      <td>LEC005</td>\n",
       "      <td>18</td>\n",
       "      <td>Psychology</td>\n",
       "      <td>53706</td>\n",
       "      <td>9.167414</td>\n",
       "      <td>77.876747</td>\n",
       "      <td>mushroom</td>\n",
       "      <td>cat</td>\n",
       "      <td>No</td>\n",
       "      <td>early bird</td>\n",
       "      <td>No</td>\n",
       "    </tr>\n",
       "    <tr>\n",
       "      <th>988</th>\n",
       "      <td>LEC003</td>\n",
       "      <td>19</td>\n",
       "      <td>Engineering: Industrial</td>\n",
       "      <td>53715</td>\n",
       "      <td>24.713552</td>\n",
       "      <td>46.675297</td>\n",
       "      <td>basil/spinach</td>\n",
       "      <td>neither</td>\n",
       "      <td>Yes</td>\n",
       "      <td>early bird</td>\n",
       "      <td>Maybe</td>\n",
       "    </tr>\n",
       "    <tr>\n",
       "      <th>989</th>\n",
       "      <td>LEC001</td>\n",
       "      <td>18</td>\n",
       "      <td>Undecided</td>\n",
       "      <td>53706</td>\n",
       "      <td>44.8341</td>\n",
       "      <td>87.377</td>\n",
       "      <td>basil/spinach</td>\n",
       "      <td>dog</td>\n",
       "      <td>No</td>\n",
       "      <td>no preference</td>\n",
       "      <td>Yes</td>\n",
       "    </tr>\n",
       "    <tr>\n",
       "      <th>990</th>\n",
       "      <td>LEC003</td>\n",
       "      <td>19</td>\n",
       "      <td>Engineering: Mechanical</td>\n",
       "      <td>53705</td>\n",
       "      <td>46.589146</td>\n",
       "      <td>-112.039108</td>\n",
       "      <td>none (just cheese)</td>\n",
       "      <td>cat</td>\n",
       "      <td>No</td>\n",
       "      <td>night owl</td>\n",
       "      <td>Yes</td>\n",
       "    </tr>\n",
       "    <tr>\n",
       "      <th>991</th>\n",
       "      <td>LEC001</td>\n",
       "      <td>20</td>\n",
       "      <td>Economics</td>\n",
       "      <td>53703</td>\n",
       "      <td>39.631506</td>\n",
       "      <td>118.143239</td>\n",
       "      <td>pineapple</td>\n",
       "      <td>dog</td>\n",
       "      <td>No</td>\n",
       "      <td>night owl</td>\n",
       "      <td>Maybe</td>\n",
       "    </tr>\n",
       "  </tbody>\n",
       "</table>\n",
       "<p>992 rows × 11 columns</p>\n",
       "</div>"
      ],
      "text/plain": [
       "    Lecture Age                    Major Zip Code   Latitude    Longitude  \\\n",
       "0    LEC001  22  Engineering: Biomedical    53703  43.073051    -89.40123   \n",
       "1    LEC006                    Undecided    53706  43.073051    -89.40123   \n",
       "2    LEC004  18  Engineering: Industrial    53715  43.073051    -89.40123   \n",
       "3    LEC005                    Undecided    53706  43.073051    -89.40123   \n",
       "4    LEC002                    Undecided    53706  43.073051    -89.40123   \n",
       "..      ...  ..                      ...      ...        ...          ...   \n",
       "987  LEC005  18               Psychology    53706   9.167414    77.876747   \n",
       "988  LEC003  19  Engineering: Industrial    53715  24.713552    46.675297   \n",
       "989  LEC001  18                Undecided    53706    44.8341       87.377   \n",
       "990  LEC003  19  Engineering: Mechanical    53705  46.589146  -112.039108   \n",
       "991  LEC001  20                Economics    53703  39.631506   118.143239   \n",
       "\n",
       "          Pizza topping Pet preference Runner    Sleep habit Procrastinator  \n",
       "0    none (just cheese)        neither     No  no preference          Maybe  \n",
       "1    none (just cheese)        neither     No  no preference          Maybe  \n",
       "2    none (just cheese)        neither     No  no preference          Maybe  \n",
       "3    none (just cheese)        neither     No  no preference          Maybe  \n",
       "4    none (just cheese)        neither     No  no preference          Maybe  \n",
       "..                  ...            ...    ...            ...            ...  \n",
       "987            mushroom            cat     No     early bird             No  \n",
       "988       basil/spinach        neither    Yes     early bird          Maybe  \n",
       "989       basil/spinach            dog     No  no preference            Yes  \n",
       "990  none (just cheese)            cat     No      night owl            Yes  \n",
       "991           pineapple            dog     No      night owl          Maybe  \n",
       "\n",
       "[992 rows x 11 columns]"
      ]
     },
     "execution_count": 45,
     "metadata": {},
     "output_type": "execute_result"
    }
   ],
   "source": [
    "# TODO: display all columns of the table\n",
    "survey_data = pd.read_sql(\"SELECT * FROM survey\", conn)\n",
    "survey_data"
   ]
  },
  {
   "cell_type": "code",
   "execution_count": 46,
   "metadata": {},
   "outputs": [
    {
     "data": {
      "text/html": [
       "<div>\n",
       "<style scoped>\n",
       "    .dataframe tbody tr th:only-of-type {\n",
       "        vertical-align: middle;\n",
       "    }\n",
       "\n",
       "    .dataframe tbody tr th {\n",
       "        vertical-align: top;\n",
       "    }\n",
       "\n",
       "    .dataframe thead th {\n",
       "        text-align: right;\n",
       "    }\n",
       "</style>\n",
       "<table border=\"1\" class=\"dataframe\">\n",
       "  <thead>\n",
       "    <tr style=\"text-align: right;\">\n",
       "      <th></th>\n",
       "      <th>Lecture</th>\n",
       "      <th>Age</th>\n",
       "      <th>Major</th>\n",
       "      <th>Zip Code</th>\n",
       "      <th>Latitude</th>\n",
       "      <th>Longitude</th>\n",
       "      <th>Pizza topping</th>\n",
       "      <th>Pet preference</th>\n",
       "      <th>Runner</th>\n",
       "      <th>Sleep habit</th>\n",
       "      <th>Procrastinator</th>\n",
       "    </tr>\n",
       "  </thead>\n",
       "  <tbody>\n",
       "    <tr>\n",
       "      <th>0</th>\n",
       "      <td>LEC001</td>\n",
       "      <td>22.0</td>\n",
       "      <td>Engineering: Biomedical</td>\n",
       "      <td>53703</td>\n",
       "      <td>43.073051</td>\n",
       "      <td>-89.401230</td>\n",
       "      <td>none (just cheese)</td>\n",
       "      <td>neither</td>\n",
       "      <td>No</td>\n",
       "      <td>no preference</td>\n",
       "      <td>Maybe</td>\n",
       "    </tr>\n",
       "    <tr>\n",
       "      <th>1</th>\n",
       "      <td>LEC006</td>\n",
       "      <td>NaN</td>\n",
       "      <td>Undecided</td>\n",
       "      <td>53706</td>\n",
       "      <td>43.073051</td>\n",
       "      <td>-89.401230</td>\n",
       "      <td>none (just cheese)</td>\n",
       "      <td>neither</td>\n",
       "      <td>No</td>\n",
       "      <td>no preference</td>\n",
       "      <td>Maybe</td>\n",
       "    </tr>\n",
       "    <tr>\n",
       "      <th>2</th>\n",
       "      <td>LEC004</td>\n",
       "      <td>18.0</td>\n",
       "      <td>Engineering: Industrial</td>\n",
       "      <td>53715</td>\n",
       "      <td>43.073051</td>\n",
       "      <td>-89.401230</td>\n",
       "      <td>none (just cheese)</td>\n",
       "      <td>neither</td>\n",
       "      <td>No</td>\n",
       "      <td>no preference</td>\n",
       "      <td>Maybe</td>\n",
       "    </tr>\n",
       "    <tr>\n",
       "      <th>3</th>\n",
       "      <td>LEC005</td>\n",
       "      <td>NaN</td>\n",
       "      <td>Undecided</td>\n",
       "      <td>53706</td>\n",
       "      <td>43.073051</td>\n",
       "      <td>-89.401230</td>\n",
       "      <td>none (just cheese)</td>\n",
       "      <td>neither</td>\n",
       "      <td>No</td>\n",
       "      <td>no preference</td>\n",
       "      <td>Maybe</td>\n",
       "    </tr>\n",
       "    <tr>\n",
       "      <th>4</th>\n",
       "      <td>LEC002</td>\n",
       "      <td>NaN</td>\n",
       "      <td>Undecided</td>\n",
       "      <td>53706</td>\n",
       "      <td>43.073051</td>\n",
       "      <td>-89.401230</td>\n",
       "      <td>none (just cheese)</td>\n",
       "      <td>neither</td>\n",
       "      <td>No</td>\n",
       "      <td>no preference</td>\n",
       "      <td>Maybe</td>\n",
       "    </tr>\n",
       "    <tr>\n",
       "      <th>...</th>\n",
       "      <td>...</td>\n",
       "      <td>...</td>\n",
       "      <td>...</td>\n",
       "      <td>...</td>\n",
       "      <td>...</td>\n",
       "      <td>...</td>\n",
       "      <td>...</td>\n",
       "      <td>...</td>\n",
       "      <td>...</td>\n",
       "      <td>...</td>\n",
       "      <td>...</td>\n",
       "    </tr>\n",
       "    <tr>\n",
       "      <th>987</th>\n",
       "      <td>LEC005</td>\n",
       "      <td>18.0</td>\n",
       "      <td>Psychology</td>\n",
       "      <td>53706</td>\n",
       "      <td>9.167414</td>\n",
       "      <td>77.876747</td>\n",
       "      <td>mushroom</td>\n",
       "      <td>cat</td>\n",
       "      <td>No</td>\n",
       "      <td>early bird</td>\n",
       "      <td>No</td>\n",
       "    </tr>\n",
       "    <tr>\n",
       "      <th>988</th>\n",
       "      <td>LEC003</td>\n",
       "      <td>19.0</td>\n",
       "      <td>Engineering: Industrial</td>\n",
       "      <td>53715</td>\n",
       "      <td>24.713552</td>\n",
       "      <td>46.675297</td>\n",
       "      <td>basil/spinach</td>\n",
       "      <td>neither</td>\n",
       "      <td>Yes</td>\n",
       "      <td>early bird</td>\n",
       "      <td>Maybe</td>\n",
       "    </tr>\n",
       "    <tr>\n",
       "      <th>989</th>\n",
       "      <td>LEC001</td>\n",
       "      <td>18.0</td>\n",
       "      <td>Undecided</td>\n",
       "      <td>53706</td>\n",
       "      <td>44.834100</td>\n",
       "      <td>87.377000</td>\n",
       "      <td>basil/spinach</td>\n",
       "      <td>dog</td>\n",
       "      <td>No</td>\n",
       "      <td>no preference</td>\n",
       "      <td>Yes</td>\n",
       "    </tr>\n",
       "    <tr>\n",
       "      <th>990</th>\n",
       "      <td>LEC003</td>\n",
       "      <td>19.0</td>\n",
       "      <td>Engineering: Mechanical</td>\n",
       "      <td>53705</td>\n",
       "      <td>46.589146</td>\n",
       "      <td>-112.039108</td>\n",
       "      <td>none (just cheese)</td>\n",
       "      <td>cat</td>\n",
       "      <td>No</td>\n",
       "      <td>night owl</td>\n",
       "      <td>Yes</td>\n",
       "    </tr>\n",
       "    <tr>\n",
       "      <th>991</th>\n",
       "      <td>LEC001</td>\n",
       "      <td>20.0</td>\n",
       "      <td>Economics</td>\n",
       "      <td>53703</td>\n",
       "      <td>39.631506</td>\n",
       "      <td>118.143239</td>\n",
       "      <td>pineapple</td>\n",
       "      <td>dog</td>\n",
       "      <td>No</td>\n",
       "      <td>night owl</td>\n",
       "      <td>Maybe</td>\n",
       "    </tr>\n",
       "  </tbody>\n",
       "</table>\n",
       "<p>992 rows × 11 columns</p>\n",
       "</div>"
      ],
      "text/plain": [
       "    Lecture   Age                    Major  Zip Code   Latitude   Longitude  \\\n",
       "0    LEC001  22.0  Engineering: Biomedical     53703  43.073051  -89.401230   \n",
       "1    LEC006   NaN                Undecided     53706  43.073051  -89.401230   \n",
       "2    LEC004  18.0  Engineering: Industrial     53715  43.073051  -89.401230   \n",
       "3    LEC005   NaN                Undecided     53706  43.073051  -89.401230   \n",
       "4    LEC002   NaN                Undecided     53706  43.073051  -89.401230   \n",
       "..      ...   ...                      ...       ...        ...         ...   \n",
       "987  LEC005  18.0               Psychology     53706   9.167414   77.876747   \n",
       "988  LEC003  19.0  Engineering: Industrial     53715  24.713552   46.675297   \n",
       "989  LEC001  18.0                Undecided     53706  44.834100   87.377000   \n",
       "990  LEC003  19.0  Engineering: Mechanical     53705  46.589146 -112.039108   \n",
       "991  LEC001  20.0                Economics     53703  39.631506  118.143239   \n",
       "\n",
       "          Pizza topping Pet preference Runner    Sleep habit Procrastinator  \n",
       "0    none (just cheese)        neither     No  no preference          Maybe  \n",
       "1    none (just cheese)        neither     No  no preference          Maybe  \n",
       "2    none (just cheese)        neither     No  no preference          Maybe  \n",
       "3    none (just cheese)        neither     No  no preference          Maybe  \n",
       "4    none (just cheese)        neither     No  no preference          Maybe  \n",
       "..                  ...            ...    ...            ...            ...  \n",
       "987            mushroom            cat     No     early bird             No  \n",
       "988       basil/spinach        neither    Yes     early bird          Maybe  \n",
       "989       basil/spinach            dog     No  no preference            Yes  \n",
       "990  none (just cheese)            cat     No      night owl            Yes  \n",
       "991           pineapple            dog     No      night owl          Maybe  \n",
       "\n",
       "[992 rows x 11 columns]"
      ]
     },
     "execution_count": 46,
     "metadata": {},
     "output_type": "execute_result"
    }
   ],
   "source": [
    "# TODO: Using pandas to read \"cs220_survey_data.csv\" into a DataFrame called survey\n",
    "\n",
    "survey = pd.read_csv(\"cs220_survey_data.csv\")\n",
    "survey"
   ]
  },
  {
   "cell_type": "markdown",
   "metadata": {},
   "source": [
    "### Create a bar plot of ages.\n",
    "- x-axis: each unique age\n",
    "- y-axis: count of students with those ages.\n",
    "\n",
    "Things to consider:\n",
    "- Do we really want the ages to be a float value? Make the int conversion.\n",
    "    - Remember the survey dataset has a few rows where \"Age\" column has no value - so handle the NA values before the conversion\n",
    "- Think carefully about how to sort the data before you create the plot."
   ]
  },
  {
   "cell_type": "code",
   "execution_count": 47,
   "metadata": {},
   "outputs": [
    {
     "data": {
      "text/plain": [
       "<AxesSubplot:>"
      ]
     },
     "execution_count": 47,
     "metadata": {},
     "output_type": "execute_result"
    },
    {
     "data": {
      "image/png": "[encoded data removed]",
      "text/plain": [
       "<Figure size 432x288 with 1 Axes>"
      ]
     },
     "metadata": {
      "needs_background": "light"
     },
     "output_type": "display_data"
    }
   ],
   "source": [
    "age_counts = survey[\"Age\"].dropna().astype(int)\n",
    "age_counts = list(age_counts)\n",
    "age_counts = [age for age in age_counts if 0 <= age <= 100]\n",
    "age_counts = Series(age_counts)\n",
    "age_counts = age_counts.value_counts()\n",
    "age_counts = age_counts.sort_index()\n",
    "age_counts.plot.bar(color = \"k\")"
   ]
  },
  {
   "cell_type": "markdown",
   "metadata": {},
   "source": [
    "### Write equivalent SQL query to retrive the age column values"
   ]
  },
  {
   "cell_type": "code",
   "execution_count": 48,
   "metadata": {},
   "outputs": [],
   "source": [
    "ages = pd.read_sql(\"\"\"\n",
    "SELECT Age\n",
    "FROM survey\n",
    "\"\"\", conn)\n",
    "\n",
    "# If you repeat the bar plot with SQL version of the data, you will see what \n",
    "# are called as \"MultiIndex\" - that is beyond the scope of this course"
   ]
  },
  {
   "cell_type": "markdown",
   "metadata": {},
   "source": [
    "### Create a bar plot of Majors.\n",
    "- x-axis: each major\n",
    "- y-axis: count of students with those majors.\n",
    "- represent top 10 major bars and then aggregate the remaining into \"other\" bar."
   ]
  },
  {
   "cell_type": "code",
   "execution_count": 49,
   "metadata": {},
   "outputs": [
    {
     "data": {
      "text/plain": [
       "<AxesSubplot:>"
      ]
     },
     "execution_count": 49,
     "metadata": {},
     "output_type": "execute_result"
    },
    {
     "data": {
      "image/png": "[encoded data removed]",
      "text/plain": [
       "<Figure size 432x288 with 1 Axes>"
      ]
     },
     "metadata": {
      "needs_background": "light"
     },
     "output_type": "display_data"
    }
   ],
   "source": [
    "major_counts = survey[\"Major\"].value_counts()\n",
    "top_major_counts = major_counts.iloc[:10]\n",
    "top_major_counts[\"other\"] = major_counts.iloc[10:].sum()\n",
    "top_major_counts.plot.bar(color = \"k\")"
   ]
  },
  {
   "cell_type": "markdown",
   "metadata": {},
   "source": [
    "### Write equivalent SQL query to retrive the Major column values"
   ]
  },
  {
   "cell_type": "code",
   "execution_count": 50,
   "metadata": {},
   "outputs": [],
   "source": [
    "ages = pd.read_sql(\"\"\"\n",
    "SELECT Major\n",
    "FROM survey\n",
    "\"\"\", conn)\n",
    "\n",
    "# If you repeat the bar plot with SQL version of the data, you will see what \n",
    "# are called as \"MultiIndex\" - that is beyond the scope of this course"
   ]
  }
 ],
 "metadata": {
  "kernelspec": {
   "display_name": "Python 3 (ipykernel)",
   "language": "python",
   "name": "python3"
  },
  "language_info": {
   "codemirror_mode": {
    "name": "ipython",
    "version": 3
   },
   "file_extension": ".py",
   "mimetype": "text/x-python",
   "name": "python",
   "nbconvert_exporter": "python",
   "pygments_lexer": "ipython3",
   "version": "3.9.12"
  }
 },
 "nbformat": 4,
 "nbformat_minor": 2
}
