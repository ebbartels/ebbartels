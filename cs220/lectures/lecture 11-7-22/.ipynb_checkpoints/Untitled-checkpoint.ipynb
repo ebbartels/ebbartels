{
 "cells": [
  {
   "cell_type": "code",
   "execution_count": 1,
   "id": "a5b91b0b",
   "metadata": {},
   "outputs": [
    {
     "data": {
      "text/plain": [
       "[1, (2, 3)]"
      ]
     },
     "execution_count": 1,
     "metadata": {},
     "output_type": "execute_result"
    }
   ],
   "source": [
    "import copy\n",
    "orig = [1, (2,3)]\n",
    "x = orig\n",
    "y = copy.copy(orig)\n",
    "x[0] =4\n",
    "x[1] = (5,6)\n",
    "y"
   ]
  },
  {
   "cell_type": "code",
   "execution_count": 5,
   "id": "0a67a078",
   "metadata": {},
   "outputs": [],
   "source": [
    "from collections import namedtuple\n",
    "Hurricane = namedtuple('Hurricane', ['name', 'damage', 'deaths', 'mph'])\n",
    "katrina = Hurricane(name = 'Katrina', damage = '3.98B', deaths = '1836', mph = 'mph')\n",
    "baker = {'name':'baker','damage':'2.55M','deaths':'38', 'mph':'105'}"
   ]
  },
  {
   "cell_type": "code",
   "execution_count": 6,
   "id": "c910cc02",
   "metadata": {},
   "outputs": [
    {
     "data": {
      "text/plain": [
       "Hurricane(name='Katrina', damage='3.98B', deaths='1836', mph='mph')"
      ]
     },
     "execution_count": 6,
     "metadata": {},
     "output_type": "execute_result"
    }
   ],
   "source": [
    "katrina"
   ]
  },
  {
   "cell_type": "code",
   "execution_count": 7,
   "id": "fb850e8b",
   "metadata": {},
   "outputs": [
    {
     "data": {
      "text/plain": [
       "{'name': 'baker', 'damage': '2.55M', 'deaths': '38', 'mph': '105'}"
      ]
     },
     "execution_count": 7,
     "metadata": {},
     "output_type": "execute_result"
    }
   ],
   "source": [
    "baker"
   ]
  },
  {
   "cell_type": "code",
   "execution_count": 9,
   "id": "6cc30b2e",
   "metadata": {},
   "outputs": [],
   "source": [
    "somedict= {}\n",
    "somedict[katrina] = 'Katrina - Catergory 5'"
   ]
  },
  {
   "cell_type": "code",
   "execution_count": 10,
   "id": "f6f8b237",
   "metadata": {},
   "outputs": [
    {
     "data": {
      "text/plain": [
       "{Hurricane(name='Katrina', damage='3.98B', deaths='1836', mph='mph'): 'Katrina - Catergory 5'}"
      ]
     },
     "execution_count": 10,
     "metadata": {},
     "output_type": "execute_result"
    }
   ],
   "source": [
    "somedict"
   ]
  },
  {
   "cell_type": "code",
   "execution_count": 11,
   "id": "648eda7b",
   "metadata": {},
   "outputs": [
    {
     "ename": "TypeError",
     "evalue": "unhashable type: 'list'",
     "output_type": "error",
     "traceback": [
      "\u001b[1;31m---------------------------------------------------------------------------\u001b[0m",
      "\u001b[1;31mTypeError\u001b[0m                                 Traceback (most recent call last)",
      "Input \u001b[1;32mIn [11]\u001b[0m, in \u001b[0;36m<cell line: 1>\u001b[1;34m()\u001b[0m\n\u001b[1;32m----> 1\u001b[0m somedict[[\u001b[38;5;241m1\u001b[39m,\u001b[38;5;241m2\u001b[39m]] \u001b[38;5;241m=\u001b[39m \u001b[38;5;241m4\u001b[39m\n",
      "\u001b[1;31mTypeError\u001b[0m: unhashable type: 'list'"
     ]
    }
   ],
   "source": [
    "somedict[[1,2]] = 4"
   ]
  },
  {
   "cell_type": "code",
   "execution_count": 1,
   "id": "f7114105",
   "metadata": {},
   "outputs": [],
   "source": [
    "test_lst = [[1,2,3],[4,5,6],[7,8,9],[10,11,12]]"
   ]
  },
  {
   "cell_type": "code",
   "execution_count": 3,
   "id": "58fe2d0a",
   "metadata": {},
   "outputs": [
    {
     "data": {
      "text/plain": [
       "[]"
      ]
     },
     "execution_count": 3,
     "metadata": {},
     "output_type": "execute_result"
    }
   ],
   "source": [
    "test_lst[:1][1:]"
   ]
  },
  {
   "cell_type": "code",
   "execution_count": 6,
   "id": "f345a70f",
   "metadata": {},
   "outputs": [],
   "source": [
    "movies = [{'title':'A', 'year':18, 'style': 'short', 'genres': ['g1'] },\n",
    "          {'title':'B', 'year':18, 'style': 'long', 'genres': ['g2'] },\n",
    "          {'title':'C', 'year':19, 'style': 'short', 'genres': ['g3'] },\n",
    "          {'title':'D', 'year':19, 'style': 'long', 'genres': ['g1','g2','g3'] }\n",
    "         ]"
   ]
  },
  {
   "cell_type": "code",
   "execution_count": 13,
   "id": "a9d40404",
   "metadata": {},
   "outputs": [
    {
     "name": "stdout",
     "output_type": "stream",
     "text": [
      "True\n",
      "False\n",
      "True\n",
      "False\n"
     ]
    }
   ],
   "source": [
    "buckets = {}\n",
    "bucket = []\n",
    "for m in movies:\n",
    "    key = m['year']\n",
    "    print(not key in buckets)\n",
    "    if not key in buckets:\n",
    "        buckets[key] = bucket\n",
    "        \n",
    "    buckets[key].append(m)\n",
    "# print(len(buckets[18]),len(buckets[19]))"
   ]
  },
  {
   "cell_type": "code",
   "execution_count": 6,
   "id": "d24b1d7a",
   "metadata": {},
   "outputs": [],
   "source": [
    "def radar(n=5):\n",
    "    for i in range(n):\n",
    "        for j in range(i):\n",
    "            if i+j%2 ==0:\n",
    "                print('H', end= '')\n",
    "            else:\n",
    "                print('.',end= ' ')\n",
    "        print()"
   ]
  },
  {
   "cell_type": "code",
   "execution_count": 7,
   "id": "5a76d4f8",
   "metadata": {},
   "outputs": [
    {
     "name": "stdout",
     "output_type": "stream",
     "text": [
      "\n",
      ". \n",
      ". . \n",
      ". . . \n",
      ". . . . \n"
     ]
    }
   ],
   "source": [
    "radar()"
   ]
  },
  {
   "cell_type": "code",
   "execution_count": 5,
   "id": "c9a570d4",
   "metadata": {},
   "outputs": [],
   "source": [
    "for x in range(0):\n",
    "    print(x)"
   ]
  },
  {
   "cell_type": "code",
   "execution_count": null,
   "id": "76d363be",
   "metadata": {},
   "outputs": [],
   "source": []
  }
 ],
 "metadata": {
  "kernelspec": {
   "display_name": "Python 3 (ipykernel)",
   "language": "python",
   "name": "python3"
  },
  "language_info": {
   "codemirror_mode": {
    "name": "ipython",
    "version": 3
   },
   "file_extension": ".py",
   "mimetype": "text/x-python",
   "name": "python",
   "nbconvert_exporter": "python",
   "pygments_lexer": "ipython3",
   "version": "3.9.12"
  }
 },
 "nbformat": 4,
 "nbformat_minor": 5
}
