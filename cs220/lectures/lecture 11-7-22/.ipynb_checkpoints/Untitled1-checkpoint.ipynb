{
 "cells": [
  {
   "cell_type": "code",
   "execution_count": 1,
   "id": "89b85d46",
   "metadata": {},
   "outputs": [
    {
     "data": {
      "text/plain": [
       "'T'"
      ]
     },
     "execution_count": 1,
     "metadata": {},
     "output_type": "execute_result"
    }
   ],
   "source": [
    "test = 'THA'\n",
    "test[:-2]"
   ]
  },
  {
   "cell_type": "code",
   "execution_count": 4,
   "id": "b4e330f1",
   "metadata": {},
   "outputs": [],
   "source": [
    "f = open('happy.txt','w')\n",
    "f.write('hello')\n",
    "f.write('world')\n",
    "f.close()"
   ]
  },
  {
   "cell_type": "code",
   "execution_count": 11,
   "id": "d021fc65",
   "metadata": {},
   "outputs": [
    {
     "data": {
      "text/plain": [
       "<function TextIOWrapper.read(size=-1, /)>"
      ]
     },
     "execution_count": 11,
     "metadata": {},
     "output_type": "execute_result"
    }
   ],
   "source": [
    "f = open('happy.txt','r')\n",
    "data = f.read\n",
    "f.close()\n",
    "data"
   ]
  },
  {
   "cell_type": "code",
   "execution_count": 13,
   "id": "443057ea",
   "metadata": {},
   "outputs": [
    {
     "data": {
      "text/plain": [
       "'Albana'"
      ]
     },
     "execution_count": 13,
     "metadata": {},
     "output_type": "execute_result"
    }
   ],
   "source": [
    "d={'country_name':'Albana'}\n",
    "d.get('country_name',None)"
   ]
  },
  {
   "cell_type": "code",
   "execution_count": null,
   "id": "458b97fe",
   "metadata": {},
   "outputs": [],
   "source": []
  }
 ],
 "metadata": {
  "kernelspec": {
   "display_name": "Python 3 (ipykernel)",
   "language": "python",
   "name": "python3"
  },
  "language_info": {
   "codemirror_mode": {
    "name": "ipython",
    "version": 3
   },
   "file_extension": ".py",
   "mimetype": "text/x-python",
   "name": "python",
   "nbconvert_exporter": "python",
   "pygments_lexer": "ipython3",
   "version": "3.9.12"
  }
 },
 "nbformat": 4,
 "nbformat_minor": 5
}
