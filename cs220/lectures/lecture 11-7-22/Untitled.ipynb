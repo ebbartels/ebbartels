{
 "cells": [
  {
   "cell_type": "code",
   "execution_count": 1,
   "id": "a5b91b0b",
   "metadata": {},
   "outputs": [
    {
     "data": {
      "text/plain": [
       "[1, (2, 3)]"
      ]
     },
     "execution_count": 1,
     "metadata": {},
     "output_type": "execute_result"
    }
   ],
   "source": [
    "import copy\n",
    "orig = [1, (2,3)]\n",
    "x = orig\n",
    "y = copy.copy(orig)\n",
    "x[0] =4\n",
    "x[1] = (5,6)\n",
    "y"
   ]
  },
  {
   "cell_type": "code",
   "execution_count": 2,
   "id": "0a67a078",
   "metadata": {},
   "outputs": [],
   "source": [
    "from collections import namedtuple\n",
    "Hurricane = namedtuple('Hurricane', ['name', 'damage', 'deaths', 'mph'])\n",
    "katrina = Hurricane(name = 'Katrina', damage = '3.98B', deaths = '1836', mph = 'mph')\n",
    "baker = {'name':'baker','damage':'2.55M','deaths':'38', 'mph':'105'}"
   ]
  },
  {
   "cell_type": "code",
   "execution_count": 3,
   "id": "c910cc02",
   "metadata": {},
   "outputs": [
    {
     "data": {
      "text/plain": [
       "Hurricane(name='Katrina', damage='3.98B', deaths='1836', mph='mph')"
      ]
     },
     "execution_count": 3,
     "metadata": {},
     "output_type": "execute_result"
    }
   ],
   "source": [
    "katrina"
   ]
  },
  {
   "cell_type": "code",
   "execution_count": 4,
   "id": "fb850e8b",
   "metadata": {},
   "outputs": [
    {
     "data": {
      "text/plain": [
       "{'name': 'baker', 'damage': '2.55M', 'deaths': '38', 'mph': '105'}"
      ]
     },
     "execution_count": 4,
     "metadata": {},
     "output_type": "execute_result"
    }
   ],
   "source": [
    "baker"
   ]
  },
  {
   "cell_type": "code",
   "execution_count": 5,
   "id": "6cc30b2e",
   "metadata": {},
   "outputs": [],
   "source": [
    "somedict= {}\n",
    "somedict[katrina] = 'Katrina - Catergory 5'"
   ]
  },
  {
   "cell_type": "code",
   "execution_count": 6,
   "id": "f6f8b237",
   "metadata": {},
   "outputs": [
    {
     "data": {
      "text/plain": [
       "{Hurricane(name='Katrina', damage='3.98B', deaths='1836', mph='mph'): 'Katrina - Catergory 5'}"
      ]
     },
     "execution_count": 6,
     "metadata": {},
     "output_type": "execute_result"
    }
   ],
   "source": [
    "somedict"
   ]
  },
  {
   "cell_type": "code",
   "execution_count": 7,
   "id": "648eda7b",
   "metadata": {},
   "outputs": [
    {
     "ename": "TypeError",
     "evalue": "unhashable type: 'list'",
     "output_type": "error",
     "traceback": [
      "\u001b[1;31m---------------------------------------------------------------------------\u001b[0m",
      "\u001b[1;31mTypeError\u001b[0m                                 Traceback (most recent call last)",
      "Input \u001b[1;32mIn [7]\u001b[0m, in \u001b[0;36m<cell line: 1>\u001b[1;34m()\u001b[0m\n\u001b[1;32m----> 1\u001b[0m somedict[[\u001b[38;5;241m1\u001b[39m,\u001b[38;5;241m2\u001b[39m]] \u001b[38;5;241m=\u001b[39m \u001b[38;5;241m4\u001b[39m\n",
      "\u001b[1;31mTypeError\u001b[0m: unhashable type: 'list'"
     ]
    }
   ],
   "source": [
    "somedict[[1,2]] = 4"
   ]
  },
  {
   "cell_type": "code",
   "execution_count": 8,
   "id": "f7114105",
   "metadata": {},
   "outputs": [],
   "source": [
    "test_lst = [[1,2,3],[4,5,6],[7,8,9],[10,11,12]]"
   ]
  },
  {
   "cell_type": "code",
   "execution_count": 9,
   "id": "58fe2d0a",
   "metadata": {},
   "outputs": [
    {
     "data": {
      "text/plain": [
       "[]"
      ]
     },
     "execution_count": 9,
     "metadata": {},
     "output_type": "execute_result"
    }
   ],
   "source": [
    "test_lst[:1][1:]"
   ]
  },
  {
   "cell_type": "code",
   "execution_count": 10,
   "id": "f345a70f",
   "metadata": {},
   "outputs": [],
   "source": [
    "movies = [{'title':'A', 'year':18, 'style': 'short', 'genres': ['g1'] },\n",
    "          {'title':'B', 'year':18, 'style': 'long', 'genres': ['g2'] },\n",
    "          {'title':'C', 'year':19, 'style': 'short', 'genres': ['g3'] },\n",
    "          {'title':'D', 'year':19, 'style': 'long', 'genres': ['g1','g2','g3'] }\n",
    "         ]"
   ]
  },
  {
   "cell_type": "code",
   "execution_count": 11,
   "id": "a9d40404",
   "metadata": {},
   "outputs": [
    {
     "name": "stdout",
     "output_type": "stream",
     "text": [
      "True\n",
      "False\n",
      "True\n",
      "False\n"
     ]
    }
   ],
   "source": [
    "buckets = {}\n",
    "bucket = []\n",
    "for m in movies:\n",
    "    key = m['year']\n",
    "    print(not key in buckets)\n",
    "    if not key in buckets:\n",
    "        buckets[key] = bucket\n",
    "        \n",
    "    buckets[key].append(m)\n",
    "# print(len(buckets[18]),len(buckets[19]))"
   ]
  },
  {
   "cell_type": "code",
   "execution_count": 12,
   "id": "d24b1d7a",
   "metadata": {},
   "outputs": [],
   "source": [
    "def radar(n=5):\n",
    "    for i in range(n):\n",
    "        for j in range(i):\n",
    "            if i+j%2 ==0:\n",
    "                print('H', end= '')\n",
    "            else:\n",
    "                print('.',end= ' ')\n",
    "        print()"
   ]
  },
  {
   "cell_type": "code",
   "execution_count": 13,
   "id": "5a76d4f8",
   "metadata": {},
   "outputs": [
    {
     "name": "stdout",
     "output_type": "stream",
     "text": [
      "\n",
      ". \n",
      ". . \n",
      ". . . \n",
      ". . . . \n"
     ]
    }
   ],
   "source": [
    "radar()"
   ]
  },
  {
   "cell_type": "code",
   "execution_count": 14,
   "id": "c9a570d4",
   "metadata": {},
   "outputs": [],
   "source": [
    "for x in range(0):\n",
    "    print(x)"
   ]
  },
  {
   "cell_type": "code",
   "execution_count": 15,
   "id": "76d363be",
   "metadata": {},
   "outputs": [
    {
     "data": {
      "text/plain": [
       "[[1, 2, 3], [4, 5, 6], [7, 8, 9], [10, 11, 12]]"
      ]
     },
     "execution_count": 15,
     "metadata": {},
     "output_type": "execute_result"
    }
   ],
   "source": [
    "test_lst"
   ]
  },
  {
   "cell_type": "code",
   "execution_count": 16,
   "id": "6ea882ad",
   "metadata": {},
   "outputs": [],
   "source": [
    "t = test_lst[:]"
   ]
  },
  {
   "cell_type": "code",
   "execution_count": 17,
   "id": "4ba2e1f3",
   "metadata": {},
   "outputs": [
    {
     "data": {
      "text/plain": [
       "[[1, 2, 3], [4, 5, 6], [7, 8, 9], [10, 11, 12]]"
      ]
     },
     "execution_count": 17,
     "metadata": {},
     "output_type": "execute_result"
    }
   ],
   "source": [
    "t"
   ]
  },
  {
   "cell_type": "code",
   "execution_count": 20,
   "id": "927f28c4",
   "metadata": {},
   "outputs": [],
   "source": [
    "t.append(10)"
   ]
  },
  {
   "cell_type": "code",
   "execution_count": 21,
   "id": "944db0e7",
   "metadata": {},
   "outputs": [
    {
     "data": {
      "text/plain": [
       "[[1, 2, 3], [4, 5, 6], [7, 8, 9], [10, 11, 12]]"
      ]
     },
     "execution_count": 21,
     "metadata": {},
     "output_type": "execute_result"
    }
   ],
   "source": [
    "test_lst"
   ]
  },
  {
   "cell_type": "code",
   "execution_count": 22,
   "id": "cf61e4df",
   "metadata": {},
   "outputs": [
    {
     "data": {
      "text/plain": [
       "[[1, 2, 3], [4, 5, 6], [7, 8, 9], [10, 11, 12], 10]"
      ]
     },
     "execution_count": 22,
     "metadata": {},
     "output_type": "execute_result"
    }
   ],
   "source": [
    "t"
   ]
  },
  {
   "cell_type": "code",
   "execution_count": 23,
   "id": "6d084a74",
   "metadata": {},
   "outputs": [],
   "source": [
    "t[2].append(10)"
   ]
  },
  {
   "cell_type": "code",
   "execution_count": 24,
   "id": "77d97c3a",
   "metadata": {},
   "outputs": [
    {
     "data": {
      "text/plain": [
       "[[1, 2, 3], [4, 5, 6], [7, 8, 9, 10], [10, 11, 12]]"
      ]
     },
     "execution_count": 24,
     "metadata": {},
     "output_type": "execute_result"
    }
   ],
   "source": [
    "test_lst"
   ]
  },
  {
   "cell_type": "code",
   "execution_count": 25,
   "id": "6df06ce2",
   "metadata": {},
   "outputs": [],
   "source": [
    "tu = (1,2)"
   ]
  },
  {
   "cell_type": "code",
   "execution_count": 26,
   "id": "ede3623a",
   "metadata": {},
   "outputs": [
    {
     "data": {
      "text/plain": [
       "1"
      ]
     },
     "execution_count": 26,
     "metadata": {},
     "output_type": "execute_result"
    }
   ],
   "source": [
    "tu[0]"
   ]
  },
  {
   "cell_type": "code",
   "execution_count": 27,
   "id": "1e886733",
   "metadata": {},
   "outputs": [
    {
     "ename": "TypeError",
     "evalue": "'tuple' object does not support item assignment",
     "output_type": "error",
     "traceback": [
      "\u001b[1;31m---------------------------------------------------------------------------\u001b[0m",
      "\u001b[1;31mTypeError\u001b[0m                                 Traceback (most recent call last)",
      "Input \u001b[1;32mIn [27]\u001b[0m, in \u001b[0;36m<cell line: 1>\u001b[1;34m()\u001b[0m\n\u001b[1;32m----> 1\u001b[0m tu[\u001b[38;5;241m0\u001b[39m]\u001b[38;5;241m=\u001b[39m \u001b[38;5;241m3\u001b[39m\n",
      "\u001b[1;31mTypeError\u001b[0m: 'tuple' object does not support item assignment"
     ]
    }
   ],
   "source": [
    "tu[0]= 3"
   ]
  },
  {
   "cell_type": "code",
   "execution_count": 28,
   "id": "4562c9a7",
   "metadata": {},
   "outputs": [],
   "source": [
    "tu =(3,2)"
   ]
  },
  {
   "cell_type": "code",
   "execution_count": 29,
   "id": "ca1d4201",
   "metadata": {},
   "outputs": [
    {
     "data": {
      "text/plain": [
       "(3, 2)"
      ]
     },
     "execution_count": 29,
     "metadata": {},
     "output_type": "execute_result"
    }
   ],
   "source": [
    "tu"
   ]
  },
  {
   "cell_type": "code",
   "execution_count": 30,
   "id": "913986bf",
   "metadata": {},
   "outputs": [],
   "source": [
    "x=[5,6,7,8,9]"
   ]
  },
  {
   "cell_type": "code",
   "execution_count": 32,
   "id": "0c1f03b9",
   "metadata": {},
   "outputs": [
    {
     "data": {
      "text/plain": [
       "2"
      ]
     },
     "execution_count": 32,
     "metadata": {},
     "output_type": "execute_result"
    }
   ],
   "source": [
    "x.index(7)"
   ]
  },
  {
   "cell_type": "code",
   "execution_count": 33,
   "id": "cfd05fa2",
   "metadata": {},
   "outputs": [
    {
     "data": {
      "text/plain": [
       "5"
      ]
     },
     "execution_count": 33,
     "metadata": {},
     "output_type": "execute_result"
    }
   ],
   "source": [
    "x.pop(0)"
   ]
  },
  {
   "cell_type": "code",
   "execution_count": 34,
   "id": "b7fb4a3b",
   "metadata": {},
   "outputs": [
    {
     "data": {
      "text/plain": [
       "9"
      ]
     },
     "execution_count": 34,
     "metadata": {},
     "output_type": "execute_result"
    }
   ],
   "source": [
    "x.pop(-1)"
   ]
  },
  {
   "cell_type": "code",
   "execution_count": 35,
   "id": "ee7b6930",
   "metadata": {},
   "outputs": [
    {
     "data": {
      "text/plain": [
       "[6, 7, 8]"
      ]
     },
     "execution_count": 35,
     "metadata": {},
     "output_type": "execute_result"
    }
   ],
   "source": [
    "x"
   ]
  },
  {
   "cell_type": "code",
   "execution_count": 40,
   "id": "78fdfa7c",
   "metadata": {},
   "outputs": [],
   "source": [
    "x=[5,6,7,8,9]\n",
    "y=[4,3,2,1]"
   ]
  },
  {
   "cell_type": "code",
   "execution_count": 37,
   "id": "90751ac4",
   "metadata": {},
   "outputs": [
    {
     "data": {
      "text/plain": [
       "[5, 6, 7, 8, 9, 4, 3, 2, 1]"
      ]
     },
     "execution_count": 37,
     "metadata": {},
     "output_type": "execute_result"
    }
   ],
   "source": [
    "x+y"
   ]
  },
  {
   "cell_type": "code",
   "execution_count": 38,
   "id": "dfed1a3c",
   "metadata": {},
   "outputs": [],
   "source": [
    "x.append(y)"
   ]
  },
  {
   "cell_type": "code",
   "execution_count": 39,
   "id": "b074217c",
   "metadata": {},
   "outputs": [
    {
     "data": {
      "text/plain": [
       "[5, 6, 7, 8, 9, [4, 3, 2, 1]]"
      ]
     },
     "execution_count": 39,
     "metadata": {},
     "output_type": "execute_result"
    }
   ],
   "source": [
    "x"
   ]
  },
  {
   "cell_type": "code",
   "execution_count": 41,
   "id": "2cd84e71",
   "metadata": {},
   "outputs": [],
   "source": [
    "x.extend(y)"
   ]
  },
  {
   "cell_type": "code",
   "execution_count": 42,
   "id": "323db20a",
   "metadata": {},
   "outputs": [
    {
     "data": {
      "text/plain": [
       "[5, 6, 7, 8, 9, 4, 3, 2, 1]"
      ]
     },
     "execution_count": 42,
     "metadata": {},
     "output_type": "execute_result"
    }
   ],
   "source": [
    "x"
   ]
  },
  {
   "cell_type": "code",
   "execution_count": 43,
   "id": "85abb1e5",
   "metadata": {},
   "outputs": [
    {
     "ename": "TypeError",
     "evalue": "unhashable type: 'list'",
     "output_type": "error",
     "traceback": [
      "\u001b[1;31m---------------------------------------------------------------------------\u001b[0m",
      "\u001b[1;31mTypeError\u001b[0m                                 Traceback (most recent call last)",
      "Input \u001b[1;32mIn [43]\u001b[0m, in \u001b[0;36m<cell line: 2>\u001b[1;34m()\u001b[0m\n\u001b[0;32m      1\u001b[0m dict1 \u001b[38;5;241m=\u001b[39m {}\n\u001b[1;32m----> 2\u001b[0m dict1[[\u001b[38;5;241m1\u001b[39m,\u001b[38;5;241m2\u001b[39m,\u001b[38;5;241m3\u001b[39m]] \u001b[38;5;241m=\u001b[39m \u001b[38;5;241m7\u001b[39m\n",
      "\u001b[1;31mTypeError\u001b[0m: unhashable type: 'list'"
     ]
    }
   ],
   "source": [
    "dict1 = {}\n",
    "dict1[[1,2,3]] = 7"
   ]
  },
  {
   "cell_type": "code",
   "execution_count": 44,
   "id": "aecbd29d",
   "metadata": {},
   "outputs": [
    {
     "data": {
      "text/plain": [
       "[[1, 2, 3], [4, 5, 6], [7, 8, 9, 10], [10, 11, 12]]"
      ]
     },
     "execution_count": 44,
     "metadata": {},
     "output_type": "execute_result"
    }
   ],
   "source": [
    "test_lst"
   ]
  },
  {
   "cell_type": "code",
   "execution_count": 45,
   "id": "145100f4",
   "metadata": {},
   "outputs": [],
   "source": [
    "test_list2 = [1,2,3,4,5]"
   ]
  },
  {
   "cell_type": "code",
   "execution_count": 46,
   "id": "73b595b0",
   "metadata": {},
   "outputs": [
    {
     "data": {
      "text/plain": [
       "[1, 2, 3, 8, 5]"
      ]
     },
     "execution_count": 46,
     "metadata": {},
     "output_type": "execute_result"
    }
   ],
   "source": [
    "test_list2[3] =8\n",
    "test_list2"
   ]
  },
  {
   "cell_type": "code",
   "execution_count": 47,
   "id": "cc0ea5fa",
   "metadata": {},
   "outputs": [
    {
     "ename": "IndexError",
     "evalue": "list assignment index out of range",
     "output_type": "error",
     "traceback": [
      "\u001b[1;31m---------------------------------------------------------------------------\u001b[0m",
      "\u001b[1;31mIndexError\u001b[0m                                Traceback (most recent call last)",
      "Input \u001b[1;32mIn [47]\u001b[0m, in \u001b[0;36m<cell line: 1>\u001b[1;34m()\u001b[0m\n\u001b[1;32m----> 1\u001b[0m test_list2[\u001b[38;5;241m5\u001b[39m] \u001b[38;5;241m=\u001b[39m \u001b[38;5;241m9\u001b[39m\n",
      "\u001b[1;31mIndexError\u001b[0m: list assignment index out of range"
     ]
    }
   ],
   "source": [
    "test_list2[5] = 9"
   ]
  },
  {
   "cell_type": "code",
   "execution_count": null,
   "id": "5ac31924",
   "metadata": {},
   "outputs": [],
   "source": []
  }
 ],
 "metadata": {
  "kernelspec": {
   "display_name": "Python 3 (ipykernel)",
   "language": "python",
   "name": "python3"
  },
  "language_info": {
   "codemirror_mode": {
    "name": "ipython",
    "version": 3
   },
   "file_extension": ".py",
   "mimetype": "text/x-python",
   "name": "python",
   "nbconvert_exporter": "python",
   "pygments_lexer": "ipython3",
   "version": "3.9.12"
  }
 },
 "nbformat": 4,
 "nbformat_minor": 5
}
