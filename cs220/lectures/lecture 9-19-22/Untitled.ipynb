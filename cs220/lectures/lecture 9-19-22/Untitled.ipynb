{
 "cells": [
  {
   "cell_type": "code",
   "execution_count": 1,
   "id": "9438d687",
   "metadata": {},
   "outputs": [],
   "source": [
    "def add(x, y):\n",
    " print(x) # for debugging\n",
    " print(y) # for debugging\n",
    " return x+y"
   ]
  },
  {
   "cell_type": "code",
   "execution_count": 7,
   "id": "49ec1c09",
   "metadata": {},
   "outputs": [
    {
     "name": "stdout",
     "output_type": "stream",
     "text": [
      "11\n",
      "10\n"
     ]
    },
    {
     "data": {
      "text/plain": [
       "21"
      ]
     },
     "execution_count": 7,
     "metadata": {},
     "output_type": "execute_result"
    }
   ],
   "source": [
    "add(y=10,x=11)"
   ]
  },
  {
   "cell_type": "code",
   "execution_count": 9,
   "id": "64d4f64b",
   "metadata": {},
   "outputs": [
    {
     "name": "stdout",
     "output_type": "stream",
     "text": [
      "D\n",
      "A\n",
      "E\n",
      "B\n"
     ]
    }
   ],
   "source": [
    "def f():\n",
    "   print(\"A\")\n",
    "   return(\"B\")\n",
    "   print(\"C\")\n",
    "print(\"D\")\n",
    "x = f()\n",
    "print(\"E\")\n",
    "print(x)"
   ]
  },
  {
   "cell_type": "code",
   "execution_count": 10,
   "id": "d9115a04",
   "metadata": {},
   "outputs": [],
   "source": [
    "def say(word, t=1, end=\"\"):\n",
    " # add prints here to debug\n",
    " print(word * t + end)"
   ]
  },
  {
   "cell_type": "code",
   "execution_count": 20,
   "id": "75275337",
   "metadata": {},
   "outputs": [
    {
     "ename": "SyntaxError",
     "evalue": "positional argument follows keyword argument (1984897022.py, line 1)",
     "output_type": "error",
     "traceback": [
      "\u001b[1;36m  Input \u001b[1;32mIn [20]\u001b[1;36m\u001b[0m\n\u001b[1;33m    say(\"W\",end=\".\",3)\u001b[0m\n\u001b[1;37m                     ^\u001b[0m\n\u001b[1;31mSyntaxError\u001b[0m\u001b[1;31m:\u001b[0m positional argument follows keyword argument\n"
     ]
    }
   ],
   "source": [
    "say(\"W\",end=\".\",3)"
   ]
  },
  {
   "cell_type": "code",
   "execution_count": 21,
   "id": "7d8eb069",
   "metadata": {},
   "outputs": [
    {
     "ename": "TypeError",
     "evalue": "say() takes from 1 to 3 positional arguments but 4 were given",
     "output_type": "error",
     "traceback": [
      "\u001b[1;31m---------------------------------------------------------------------------\u001b[0m",
      "\u001b[1;31mTypeError\u001b[0m                                 Traceback (most recent call last)",
      "Input \u001b[1;32mIn [21]\u001b[0m, in \u001b[0;36m<cell line: 1>\u001b[1;34m()\u001b[0m\n\u001b[1;32m----> 1\u001b[0m \u001b[43msay\u001b[49m\u001b[43m(\u001b[49m\u001b[38;5;124;43m\"\u001b[39;49m\u001b[38;5;124;43mhuh\u001b[39;49m\u001b[38;5;124;43m\"\u001b[39;49m\u001b[43m,\u001b[49m\u001b[38;5;241;43m1\u001b[39;49m\u001b[43m,\u001b[49m\u001b[38;5;124;43m\"\u001b[39;49m\u001b[38;5;124;43m?\u001b[39;49m\u001b[38;5;124;43m\"\u001b[39;49m\u001b[43m,\u001b[49m\u001b[38;5;124;43m\"\u001b[39;49m\u001b[38;5;124;43m!\u001b[39;49m\u001b[38;5;124;43m\"\u001b[39;49m\u001b[43m)\u001b[49m\n",
      "\u001b[1;31mTypeError\u001b[0m: say() takes from 1 to 3 positional arguments but 4 were given"
     ]
    }
   ],
   "source": [
    "say(\"huh\",1,\"?\",\"!\")"
   ]
  }
 ],
 "metadata": {
  "kernelspec": {
   "display_name": "Python 3 (ipykernel)",
   "language": "python",
   "name": "python3"
  },
  "language_info": {
   "codemirror_mode": {
    "name": "ipython",
    "version": 3
   },
   "file_extension": ".py",
   "mimetype": "text/x-python",
   "name": "python",
   "nbconvert_exporter": "python",
   "pygments_lexer": "ipython3",
   "version": "3.9.12"
  }
 },
 "nbformat": 4,
 "nbformat_minor": 5
}
