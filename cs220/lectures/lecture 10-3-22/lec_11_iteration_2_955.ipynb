{
 "cells": [
  {
   "cell_type": "code",
   "execution_count": 5,
   "id": "36bd5bec",
   "metadata": {},
   "outputs": [],
   "source": [
    "import math"
   ]
  },
  {
   "cell_type": "markdown",
   "id": "ba48a098",
   "metadata": {},
   "source": [
    "# Announcements - Friday, September 30\n",
    "\n",
    "* Pick up worksheet (front or back of room)\n",
    "* Download files from Canvas for today's lecture\n",
    "* Quiz 3 due today\n",
    "* [Mock exam – Sunday 12 pm](https://piazza.com/class/l7f7vr5x63n7l1/post/187)\n",
    "* Exam\n",
    "  * Number 2 pencil\n",
    "  * Room assignment via Canvas Message (before Tuesday)\n",
    "  * [Exam Conflict Form](https://cs220.cs.wisc.edu/f22/surveys.html) due Today\n",
    "  * Wednesday October 5 :: 5:45 - 7:15 pm\n",
    "  * McBurney October 5 :: 5:30 - 8:30 pm\n",
    "    * Extended Time / Small Group (no need to contact me\n",
    "    * Anything else - you must let me know what you need)\n",
    "  *[Practice Exams](https://git.doit.wisc.edu/cdis/cs/courses/cs220/cs220-lecture-material/-/tree/main/f22/old-exams/exam1)\n",
    "* [Zoom Link](https://uwmadison.zoom.us/j/9741859842?pwd=OURuZnZuL0lhYlJkNVJHR1pLeUQwUT09)\n",
    "  * Document Camera Only\n",
    "  * No Audio\n",
    "  * The class is not livestreamed"
   ]
  },
  {
   "cell_type": "markdown",
   "id": "40c798dd",
   "metadata": {},
   "source": [
    "***\n",
    "***\n",
    "# [Tophat](https://app.tophat.com/e/942995) \n",
    "  * access code 942995\n",
    "  * 0.75 points for participation 0.25 for correctness\n",
    "  * Please log in through canvas"
   ]
  },
  {
   "cell_type": "markdown",
   "id": "fd280092",
   "metadata": {},
   "source": [
    "***\n",
    "***\n",
    "# To the Slides!!!\n",
    "***\n",
    "***"
   ]
  },
  {
   "cell_type": "code",
   "execution_count": null,
   "id": "0d7fa0b9",
   "metadata": {},
   "outputs": [],
   "source": [
    "# break jumps out of a loop and stops iterating\n",
    "\n",
    "# continue jumps back to the condition and keeps executing the loop \n",
    "# but skips everything after the continue statement for that iteration"
   ]
  },
  {
   "cell_type": "markdown",
   "id": "72eeaf04",
   "metadata": {},
   "source": [
    "***\n",
    "***\n",
    "# Worksheet!!!\n",
    "***\n",
    "***"
   ]
  },
  {
   "cell_type": "markdown",
   "id": "cce4a7bf",
   "metadata": {},
   "source": [
    "# Iteration 2\n",
    "\n",
    "## Readings: \n",
    "- Chapter 2 of Sweigart book\n",
    "- Chapter 6.4 of Python for Everybody"
   ]
  },
  {
   "cell_type": "code",
   "execution_count": null,
   "id": "7693263d",
   "metadata": {},
   "outputs": [],
   "source": [
    "import math"
   ]
  },
  {
   "cell_type": "markdown",
   "id": "0b7e0914",
   "metadata": {},
   "source": [
    "## Learning Objectives\n",
    "\n",
    "- Read and trace through Python code containing nested loops.\n",
    "- Read and trace through Python code using `break` or `continue` in a `while` loop\n",
    "- Determine the effect of break and continue in nested loops"
   ]
  },
  {
   "cell_type": "code",
   "execution_count": 2,
   "id": "6a4873b4",
   "metadata": {},
   "outputs": [
    {
     "name": "stdout",
     "output_type": "stream",
     "text": [
      "##########\n",
      "         #\n",
      "##########\n",
      "#\n",
      "##########\n",
      "         #\n",
      "##########\n",
      "#\n",
      "##########\n"
     ]
    }
   ],
   "source": [
    "# print this - 10 columns 6 rows\n",
    "# Note 4 row repeating pattern\n",
    "##########\n",
    "         #\n",
    "##########\n",
    "#    \n",
    "##########\n",
    "         #\n",
    "##########\n",
    "#\n",
    "##########\n",
    "\n",
    "rows = 6\n",
    "cols = 10\n",
    "\n",
    "rows = 9\n",
    "i = 0\n",
    "while i < rows:\n",
    "    # loop body\n",
    "    if i % 2 == 0:\n",
    "        print(\"#\" * cols)\n",
    "    if i % 4 == 1:\n",
    "        print(\" \" * (cols - 1) + \"#\")\n",
    "    if i % 4 == 3:\n",
    "        print(\"#\")\n",
    "    # increment\n",
    "    i += 1"
   ]
  },
  {
   "cell_type": "markdown",
   "id": "da406aec",
   "metadata": {},
   "source": [
    "# [Snake Example in Python Tutor](https://pythontutor.com/render.html#code=rows%20%3D%209%0Acols%20%3D%2010%0A%0Ai%20%3D%200%0Awhile%20i%20%3C%20rows%3A%0A%20%20%20%20%23%20loop%20body%0A%20%20%20%20if%20i%20%25%202%20%3D%3D%200%3A%0A%20%20%20%20%20%20%20%20print%28%22%23%22%20*%20cols%29%0A%20%20%20%20if%20i%20%25%204%20%3D%3D%201%3A%0A%20%20%20%20%20%20%20%20print%28%22%20%22%20*%20%28cols%20-%201%29%20%2B%20%22%23%22%29%0A%20%20%20%20if%20i%20%25%204%20%3D%3D%203%3A%0A%20%20%20%20%20%20%20%20print%28%22%23%22%29%0A%20%20%20%20%23%20increment%0A%20%20%20%20i%20%2B%3D%201&cumulative=false&curInstr=58&heapPrimitives=nevernest&mode=display&origin=opt-frontend.js&py=3&rawInputLstJSON=%5B%5D&textReferences=false)"
   ]
  },
  {
   "cell_type": "markdown",
   "id": "06b520a0",
   "metadata": {},
   "source": [
    "## `break` example\n",
    "- `break` enables to terminate execution of a while loop\n",
    "- typically used with a conditional; that is you break when condition evaluates to `True`"
   ]
  },
  {
   "cell_type": "code",
   "execution_count": 14,
   "id": "8067fa3e",
   "metadata": {},
   "outputs": [],
   "source": [
    "def is_prime(num):\n",
    "    \"\"\" returns True if x is prime, false otherwise. \n",
    "    Assumes x is positive\"\"\"\n",
    "    \n",
    "    # try all divisors from 2 to sqrt(num) to check if num is prime\n",
    "    divisor = 2\n",
    "    prime_number = True\n",
    "    while divisor < math.sqrt(num):\n",
    "        # check if num is divisible by divisor\n",
    "        if num % divisor == 0:\n",
    "            # return False\n",
    "            prime_number = False\n",
    "            break\n",
    "        divisor += 1 \n",
    "    return prime_number"
   ]
  },
  {
   "cell_type": "code",
   "execution_count": 15,
   "id": "2e3d3f29",
   "metadata": {},
   "outputs": [
    {
     "name": "stdout",
     "output_type": "stream",
     "text": [
      "1 True\n",
      "2 True\n",
      "3 True\n",
      "7 True\n",
      "16 False\n",
      "23 True\n",
      "1000000 False\n"
     ]
    }
   ],
   "source": [
    "print(is_prime(1))\n",
    "print(is_prime(2))\n",
    "print(is_prime(3))\n",
    "print(is_prime(7))\n",
    "print(is_prime(16))\n",
    "print(is_prime(23))\n",
    "print(is_prime(1000000))"
   ]
  },
  {
   "cell_type": "code",
   "execution_count": 16,
   "id": "9a28c726",
   "metadata": {},
   "outputs": [],
   "source": [
    "def has_prime(start, end):\n",
    "    # TODO: write a for loop using range, to:\n",
    "    #       1. iterate over every number from start to end\n",
    "    #       2. call is_prime function, to determine if it is prime\n",
    "    #       3. if you find at least one prime, has_prime should\n",
    "    #          return True, False otherwise\n",
    "    \n",
    "    for i in range(start, end):\n",
    "        if is_prime(i):\n",
    "            return True\n",
    "    return False\n",
    "        "
   ]
  },
  {
   "cell_type": "code",
   "execution_count": 17,
   "id": "5cde0776",
   "metadata": {},
   "outputs": [
    {
     "data": {
      "text/plain": [
       "True"
      ]
     },
     "execution_count": 17,
     "metadata": {},
     "output_type": "execute_result"
    }
   ],
   "source": [
    "has_prime(14, 16)"
   ]
  },
  {
   "cell_type": "code",
   "execution_count": null,
   "id": "3a5be934",
   "metadata": {},
   "outputs": [],
   "source": [
    "has_prime(1000000, 1001000)"
   ]
  },
  {
   "cell_type": "markdown",
   "id": "12c14f3b",
   "metadata": {},
   "source": [
    "## `continue` example\n",
    "- `continue` enables to move on to the next iteration of the while loop\n",
    "- typically used with a conditional; that is you continue when condition evaluates to `True`"
   ]
  },
  {
   "cell_type": "code",
   "execution_count": null,
   "id": "ef8d6e0b",
   "metadata": {},
   "outputs": [],
   "source": [
    "# TODO: write an infinite loop using while\n",
    "\n",
    "    # TODO: get user input for age\n",
    "    \n",
    "    # Goal: to compute running average\n",
    "    # It is easy to keep track of total and number of user\n",
    "    # inputs to compute running average\n",
    "    \n",
    "    # TODO: discuss what is acceptable range for age\n",
    "    # What is the guinness world record for oldest person?\n",
    "    \n",
    "    # TODO: discuss where you will initialize variables to keep track\n",
    "    # of total and number of user inputs so far and then type the\n",
    "    # computation lines to compute updated total and running average\n",
    "    \n",
    "    # Now, try entering input as a large number outside of your\n",
    "    # acceptable age range. What happens to your average?\n",
    "    # TODO: handle this by writing a conditional and use continue,\n",
    "    # when user enters invalid age\n",
    "    \n",
    "    # Finally, how do we terminate the infinite while loop\n",
    "    # Let's accept \"q\" as user input for termination\n",
    "    # TODO: handle that using another conditional\n",
    "    # Think carefully about where this conditional needs to be in \n",
    "    # terms of control flow"
   ]
  },
  {
   "cell_type": "markdown",
   "id": "944cc596",
   "metadata": {},
   "source": [
    "### After lecture"
   ]
  },
  {
   "cell_type": "markdown",
   "id": "0820ba66",
   "metadata": {},
   "source": [
    "How many times is the *while loop condition line* executed?"
   ]
  },
  {
   "cell_type": "code",
   "execution_count": null,
   "id": "c3c14b7b",
   "metadata": {},
   "outputs": [],
   "source": [
    "n = 7\n",
    "while n >= 5:\n",
    "    print(n)\n",
    "    n -= 1\n",
    "    \n",
    "# Answer is 4. \n",
    "# Loop condition line always gets executed number of \n",
    "# iterations + 1 times."
   ]
  },
  {
   "cell_type": "markdown",
   "id": "7cf19523",
   "metadata": {},
   "source": [
    "Refactor the below function."
   ]
  },
  {
   "cell_type": "code",
   "execution_count": null,
   "id": "a313a32f",
   "metadata": {},
   "outputs": [],
   "source": [
    "def is_between(a, b, c):\n",
    "    \"\"\"Return True if b is between a and c (exclusive), \n",
    "    False otherwise\"\"\"\n",
    "    if a < c:\n",
    "        if a < b and b < c:\n",
    "            return True\n",
    "        else:\n",
    "            return False\n",
    "    elif c <= a:\n",
    "        if c < b and b < a:\n",
    "            return True\n",
    "        else:\n",
    "            return False\n",
    "    else:\n",
    "        return False\n",
    "    \n",
    "print(is_between(1, 3, 2))   # False\n",
    "print(is_between(5, 11, 20)) # True\n",
    "print(is_between(20, 3, 5))  # False\n",
    "print(is_between(50, 11, 9)) # True\n",
    "print(is_between(4, 4, 4))   # False"
   ]
  },
  {
   "cell_type": "code",
   "execution_count": null,
   "id": "7fd82ae9",
   "metadata": {},
   "outputs": [],
   "source": [
    "def is_between_v2(a, b, c):\n",
    "    return ???\n",
    "\n",
    "print(is_between_v2(1, 3, 2))   # False\n",
    "print(is_between_v2(5, 11, 20)) # True\n",
    "print(is_between_v2(20, 3, 5))  # False\n",
    "print(is_between_v2(50, 11, 9)) # True\n",
    "print(is_between_v2(4, 4, 4))   # False"
   ]
  },
  {
   "cell_type": "markdown",
   "id": "ca9037f7",
   "metadata": {},
   "source": [
    "# Trace the output without using Python Tutor\n",
    "### Exam Practice"
   ]
  },
  {
   "cell_type": "code",
   "execution_count": null,
   "id": "ec8b1b32",
   "metadata": {},
   "outputs": [],
   "source": [
    "x = 1\n",
    "while x < 5:\n",
    "    y = 1\n",
    "    while y < 10:\n",
    "        print (x * y, \"\\t\", end=\"\")\n",
    "        y += 1\n",
    "    print()\n",
    "    x += 1"
   ]
  },
  {
   "cell_type": "code",
   "execution_count": 3,
   "id": "74060bc4",
   "metadata": {},
   "outputs": [
    {
     "name": "stdout",
     "output_type": "stream",
     "text": [
      "# # # # # # # # # \n",
      " # # # # # # # # # \n",
      "# # # # # # # # # \n",
      " # # # # # # # # # \n"
     ]
    }
   ],
   "source": [
    "width = 9\n",
    "height = 4\n",
    "symbol = '#'\n",
    "row = 0\n",
    "while row < height:\n",
    "    col = 0\n",
    "    if row % 2 == 1:\n",
    "        print(\" \", end=\"\")\n",
    "    while col < width:\n",
    "        print(symbol + ' ', end=\"\")\n",
    "        col += 1\n",
    "    # displays just a newline\n",
    "    print() # recall default value for end parameter is \"\\n\"\n",
    "    row += 1"
   ]
  }
 ],
 "metadata": {
  "kernelspec": {
   "display_name": "Python 3 (ipykernel)",
   "language": "python",
   "name": "python3"
  },
  "language_info": {
   "codemirror_mode": {
    "name": "ipython",
    "version": 3
   },
   "file_extension": ".py",
   "mimetype": "text/x-python",
   "name": "python",
   "nbconvert_exporter": "python",
   "pygments_lexer": "ipython3",
   "version": "3.9.12"
  }
 },
 "nbformat": 4,
 "nbformat_minor": 5
}
