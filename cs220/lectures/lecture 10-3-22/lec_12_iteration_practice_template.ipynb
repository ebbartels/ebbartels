{
 "cells": [
  {
   "cell_type": "markdown",
   "id": "6a76ef95",
   "metadata": {},
   "source": [
    "# Iteration Practice"
   ]
  },
  {
   "cell_type": "markdown",
   "id": "81c6ae18",
   "metadata": {},
   "source": [
    "# Announcements - Monday, October 3\n",
    "\n",
    "* Download ALL files from Canvas for today's lecture\n",
    "* Exam\n",
    "  * Number 2 pencil\n",
    "  * Arrive 15 minutes early to scan in\n",
    "  * Bring ID\n",
    "  * Room assignment via Canvas Message (before Tuesday)\n",
    "  * Wednesday October 5 :: 5:45 - 7:15 pm\n",
    "  * McBurney October 5 :: 5:30 - 8:30 pm\n",
    "    * Extended Time / Small Group (no need to contact me\n",
    "    * Anything else - you must let me know what you need)\n",
    "  * Alternate Thursday October 6 :: 5:45 - 7:15\n",
    "  *[Practice Exams](https://git.doit.wisc.edu/cdis/cs/courses/cs220/cs220-lecture-material/-/tree/main/f22/old-exams/exam1)\n",
    "* [Zoom Link](https://uwmadison.zoom.us/j/9741859842?pwd=OURuZnZuL0lhYlJkNVJHR1pLeUQwUT09)\n",
    "  * Document Camera Only\n",
    "  * No Audio\n",
    "  * The class is not livestreamed"
   ]
  },
  {
   "cell_type": "markdown",
   "id": "103da70b",
   "metadata": {},
   "source": [
    "## Learning Objectives\n",
    "\n",
    "- Iterate through a dataset using for idx in range(project.count())\n",
    "- Compute the frequency of data that meets a certain criteria\n",
    "- Find the maximum or minimum value of a numeric column in a dataset\n",
    "    - Handle missing numeric values when computing a maximum / minimum\n",
    "    - Use the index of a maximum or minimum to access other information about that data item\n",
    "- Use break and continue in for loops when processing a dataset\n",
    "- Trace the output of a nested loop algorithm that prints out a game grid"
   ]
  },
  {
   "cell_type": "code",
   "execution_count": 1,
   "id": "28961628",
   "metadata": {},
   "outputs": [],
   "source": [
    "import project"
   ]
  },
  {
   "cell_type": "code",
   "execution_count": 2,
   "id": "c9341253",
   "metadata": {},
   "outputs": [
    {
     "name": "stdout",
     "output_type": "stream",
     "text": [
      "Help on module project:\n",
      "\n",
      "NAME\n",
      "    project\n",
      "\n",
      "FUNCTIONS\n",
      "    __init__()\n",
      "    \n",
      "    count()\n",
      "        This function will return the number of records in the dataset\n",
      "    \n",
      "    get_age(idx)\n",
      "        get_age(idx) returns the age of the student in row idx\n",
      "    \n",
      "    get_lecture(idx)\n",
      "        get_lecture(idx) returns the lecture of the student in row idx\n",
      "    \n",
      "    get_other_majors(idx)\n",
      "        get_other_majors(idx) returns the secondary major of the student in row idx\n",
      "    \n",
      "    get_pet_owner(idx)\n",
      "        get_pet_owner(idx) returns whether student in row idx is a pet owner\n",
      "    \n",
      "    get_piazza_topping(idx)\n",
      "        get_piazza_topping(idx) returns the preferred pizza toppings of the student in row idx\n",
      "    \n",
      "    get_primary_major(idx)\n",
      "        get_primary_major(idx) returns the primary major of the student in row idx\n",
      "    \n",
      "    get_procrastinator(idx)\n",
      "        get_procrastinator(idx) returns whether student in row idx is a procrastinator\n",
      "    \n",
      "    get_runner(idx)\n",
      "        get_runner(idx) returns whether student in row idx is a runner\n",
      "    \n",
      "    get_sleep_habit(idx)\n",
      "        get_sleep_habit(idx) returns the sleep habit of the student in row idx\n",
      "    \n",
      "    get_zip_code(idx)\n",
      "        get_zip_code(idx) returns the residential zip code of the student in row idx\n",
      "\n",
      "DATA\n",
      "    __student__ = [{'4701018: What is the latitude of your most favor...ww...\n",
      "\n",
      "FILE\n",
      "    c:\\users\\ebart\\documents\\cs220\\lectures\\lecture 10-3-22\\project.py\n",
      "\n",
      "\n"
     ]
    }
   ],
   "source": [
    "# TODO: inspect the functions inside project module\n",
    "help(project) # 1 way to get info"
   ]
  },
  {
   "cell_type": "code",
   "execution_count": 3,
   "id": "d1dca7ae",
   "metadata": {},
   "outputs": [
    {
     "data": {
      "text/plain": [
       "['__builtins__',\n",
       " '__cached__',\n",
       " '__doc__',\n",
       " '__file__',\n",
       " '__init__',\n",
       " '__loader__',\n",
       " '__name__',\n",
       " '__package__',\n",
       " '__spec__',\n",
       " '__student__',\n",
       " 'count',\n",
       " 'get_age',\n",
       " 'get_lecture',\n",
       " 'get_other_majors',\n",
       " 'get_pet_owner',\n",
       " 'get_piazza_topping',\n",
       " 'get_primary_major',\n",
       " 'get_procrastinator',\n",
       " 'get_runner',\n",
       " 'get_sleep_habit',\n",
       " 'get_zip_code']"
      ]
     },
     "execution_count": 3,
     "metadata": {},
     "output_type": "execute_result"
    }
   ],
   "source": [
    "# TODO: inspect the project module's documentation\n",
    "dir(project) # 2 way to get project"
   ]
  },
  {
   "cell_type": "code",
   "execution_count": 4,
   "id": "8d50dccd",
   "metadata": {},
   "outputs": [
    {
     "name": "stdout",
     "output_type": "stream",
     "text": [
      "Help on function get_zip_code in module project:\n",
      "\n",
      "get_zip_code(idx)\n",
      "    get_zip_code(idx) returns the residential zip code of the student in row idx\n",
      "\n"
     ]
    }
   ],
   "source": [
    "help(project.get_zip_code) # help on single function"
   ]
  },
  {
   "cell_type": "markdown",
   "id": "7fb78f6b",
   "metadata": {},
   "source": [
    "### How many students does the dataset have?"
   ]
  },
  {
   "cell_type": "code",
   "execution_count": 5,
   "id": "d67a080f",
   "metadata": {},
   "outputs": [
    {
     "data": {
      "text/plain": [
       "992"
      ]
     },
     "execution_count": 5,
     "metadata": {},
     "output_type": "execute_result"
    }
   ],
   "source": [
    "project.count()"
   ]
  },
  {
   "cell_type": "markdown",
   "id": "3c97d494",
   "metadata": {},
   "source": [
    "### What is the age of the student at index 10?"
   ]
  },
  {
   "cell_type": "code",
   "execution_count": 6,
   "id": "bde8dc35",
   "metadata": {},
   "outputs": [
    {
     "data": {
      "text/plain": [
       "'21'"
      ]
     },
     "execution_count": 6,
     "metadata": {},
     "output_type": "execute_result"
    }
   ],
   "source": [
    "id_10_age = project.get_age(10)\n",
    "id_10_age"
   ]
  },
  {
   "cell_type": "code",
   "execution_count": 7,
   "id": "b0f87a2c",
   "metadata": {},
   "outputs": [
    {
     "ename": "IndentationError",
     "evalue": "unexpected indent (2956425812.py, line 2)",
     "output_type": "error",
     "traceback": [
      "\u001b[1;36m  Input \u001b[1;32mIn [7]\u001b[1;36m\u001b[0m\n\u001b[1;33m    print(type(id_10_age)) # everything returns a string\u001b[0m\n\u001b[1;37m    ^\u001b[0m\n\u001b[1;31mIndentationError\u001b[0m\u001b[1;31m:\u001b[0m unexpected indent\n"
     ]
    }
   ],
   "source": [
    "# TODO: inspect return value type of get_age function\n",
    " print(type(id_10_age)) # everything returns a string\n"
   ]
  },
  {
   "cell_type": "markdown",
   "id": "37898141",
   "metadata": {},
   "source": [
    "### What is the lecture number of the student at index 20?"
   ]
  },
  {
   "cell_type": "code",
   "execution_count": 8,
   "id": "ba993090",
   "metadata": {},
   "outputs": [
    {
     "data": {
      "text/plain": [
       "'LEC001'"
      ]
     },
     "execution_count": 8,
     "metadata": {},
     "output_type": "execute_result"
    }
   ],
   "source": [
    "project.get_lecture(20)"
   ]
  },
  {
   "cell_type": "markdown",
   "id": "60730da8",
   "metadata": {},
   "source": [
    "### What is the sleep habit of the student at the last index?"
   ]
  },
  {
   "cell_type": "code",
   "execution_count": null,
   "id": "1d92e499",
   "metadata": {},
   "outputs": [],
   "source": [
    "# method 1\n",
    "# hardcoding :: project.get_sleep_habit(991) #numbering starts at 0, off by 2"
   ]
  },
  {
   "cell_type": "code",
   "execution_count": 9,
   "id": "ef9dc31c",
   "metadata": {},
   "outputs": [
    {
     "data": {
      "text/plain": [
       "'night owl'"
      ]
     },
     "execution_count": 9,
     "metadata": {},
     "output_type": "execute_result"
    }
   ],
   "source": [
    "# method 2\n",
    "project.get_sleep_habit(-1) # shortcut count backwards"
   ]
  },
  {
   "cell_type": "markdown",
   "id": "af3d9d8c",
   "metadata": {},
   "source": [
    "### How many students in the current section are in the dataset? \n",
    "\n",
    "- use `for` loop to iterate over the dataset:\n",
    "    - `count` function gives you total number of students\n",
    "    - use `range` built-in function to generate sequence of integers from `0` to `count - 1`\n",
    "- use `get_lecture` to retrieve lecture column value\n",
    "- use `if` condition, to determine whether current student is part of the `lecture`\n",
    "    - `True` evaluation: increment count\n",
    "    - `False` evaluation: nothing to do"
   ]
  },
  {
   "cell_type": "code",
   "execution_count": 10,
   "id": "e024c488",
   "metadata": {},
   "outputs": [
    {
     "name": "stdout",
     "output_type": "stream",
     "text": [
      "174\n"
     ]
    }
   ],
   "source": [
    "how_many_students = 0\n",
    "for idx in range(project.count()):\n",
    "    if project.get_lecture(idx) == \"LEC004\": # filtering, only get what we want\n",
    "        how_many_students += 1\n",
    "        #print(project.get_lecture(idx)) for incremental coding\n",
    "print(how_many_students)"
   ]
  },
  {
   "cell_type": "code",
   "execution_count": null,
   "id": "0f18d0fa",
   "metadata": {},
   "outputs": [],
   "source": [
    "# Number of students per section\n",
    "students_in_001 = 183\n",
    "students_in_002 = 187\n",
    "students_in_003 = 146\n",
    "students_in_004 = 182\n",
    "students_in_005 = 187\n",
    "students_in_006 =  94"
   ]
  },
  {
   "cell_type": "markdown",
   "id": "b9ff6434",
   "metadata": {},
   "source": [
    "### What is the age of the oldest student in current lecture?\n",
    "\n",
    "- use `for` loop to iterate over the dataset just like last problem\n",
    "- use `get_age` to retrieve lecture column value\n",
    "    - if: age is '' (empty), move on to next student using `continue`\n",
    "    - make sure to typecast return value to an integer\n",
    "- use `get_lecture` to retrieve lecture column value\n",
    "- use `if` condition, to determine whether current student is part of `LEC00X`\n",
    "    - use `if` condition to determine whether current student's age is greater than previously known max age\n",
    "        - `True` evaluation: replace previously known max age with current age\n",
    "        - `False` evaluation: nothing to do"
   ]
  },
  {
   "cell_type": "code",
   "execution_count": 21,
   "id": "38bd778a",
   "metadata": {},
   "outputs": [
    {
     "name": "stdout",
     "output_type": "stream",
     "text": [
      "53\n"
     ]
    }
   ],
   "source": [
    "best_age_so_far = 0\n",
    "for idx in range(project.count()):\n",
    "    age = project.get_age(idx)\n",
    "    if age == '': # no space\n",
    "            continue\n",
    "    age = int(age)\n",
    "    if age > best_age_so_far:\n",
    "        best_age_so_far = age\n",
    "print(best_age_so_far)"
   ]
  },
  {
   "cell_type": "markdown",
   "id": "b40a32fb",
   "metadata": {},
   "source": [
    "### What is the age of the youngest student in current lecture?\n",
    "- use similar algorithm as above question"
   ]
  },
  {
   "cell_type": "code",
   "execution_count": 19,
   "id": "ea77e0cd",
   "metadata": {},
   "outputs": [
    {
     "name": "stdout",
     "output_type": "stream",
     "text": [
      "LEC004 18\n",
      "LEC004 18\n",
      "LEC004 24\n",
      "LEC004 24\n",
      "LEC004 19\n",
      "LEC004 19\n",
      "LEC004 24\n",
      "LEC004 18\n",
      "LEC004 18\n",
      "LEC004 19\n",
      "LEC004 19\n",
      "LEC004 20\n",
      "LEC004 18\n",
      "LEC004 18\n",
      "LEC004 18\n",
      "LEC004 20\n",
      "LEC004 19\n",
      "LEC004 19\n",
      "LEC004 18\n",
      "LEC004 19\n",
      "LEC004 18\n",
      "LEC004 19\n",
      "LEC004 18\n",
      "LEC004 19\n",
      "LEC004 19\n",
      "LEC004 19\n",
      "LEC004 19\n",
      "LEC004 18\n",
      "LEC004 18\n",
      "LEC004 18\n",
      "LEC004 18\n",
      "LEC004 20\n",
      "LEC004 22\n",
      "LEC004 18\n",
      "LEC004 19\n",
      "LEC004 20\n",
      "LEC004 18\n",
      "LEC004 18\n",
      "LEC004 18\n",
      "LEC004 20\n",
      "LEC004 19\n",
      "LEC004 20\n",
      "LEC004 19\n",
      "LEC004 20\n",
      "LEC004 23\n",
      "LEC004 21\n",
      "LEC004 22\n",
      "LEC004 20\n",
      "LEC004 19\n",
      "LEC004 20\n",
      "LEC004 22\n",
      "LEC004 24\n",
      "LEC004 19\n",
      "LEC004 21\n",
      "LEC004 21\n",
      "LEC004 19\n",
      "LEC004 20\n",
      "LEC004 22\n",
      "LEC004 21\n",
      "LEC004 25\n",
      "LEC004 20\n",
      "LEC004 18\n",
      "LEC004 20\n",
      "LEC004 19\n",
      "LEC004 19\n",
      "LEC004 18\n",
      "LEC004 19\n",
      "LEC004 17\n",
      "LEC004 26\n",
      "LEC004 24\n",
      "LEC004 19\n",
      "LEC004 21\n",
      "LEC004 18\n",
      "LEC004 19\n",
      "LEC004 41\n",
      "LEC004 18\n",
      "LEC004 19\n",
      "LEC004 18\n",
      "LEC004 19\n",
      "LEC004 18\n",
      "LEC004 23\n",
      "LEC004 21\n",
      "LEC004 18\n",
      "LEC004 21\n",
      "LEC004 19\n",
      "LEC004 18\n",
      "LEC004 21\n",
      "LEC004 19\n",
      "LEC004 18\n",
      "LEC004 19\n",
      "LEC004 21\n",
      "LEC004 21\n",
      "LEC004 19\n",
      "LEC004 29\n",
      "LEC004 18\n",
      "LEC004 20\n",
      "LEC004 18\n",
      "LEC004 25\n",
      "LEC004 25\n",
      "LEC004 19\n",
      "LEC004 19\n",
      "LEC004 18\n",
      "LEC004 20\n",
      "LEC004 21\n",
      "LEC004 23\n",
      "LEC004 20\n",
      "LEC004 18\n",
      "LEC004 19\n",
      "LEC004 18\n",
      "LEC004 20\n",
      "LEC004 20\n",
      "LEC004 18\n",
      "LEC004 21\n",
      "LEC004 18\n",
      "LEC004 18\n",
      "LEC004 18\n",
      "LEC004 20\n",
      "LEC004 20\n",
      "LEC004 18\n",
      "LEC004 19\n",
      "LEC004 20\n",
      "LEC004 19\n",
      "LEC004 20\n",
      "LEC004 21\n",
      "LEC004 18\n",
      "LEC004 22\n",
      "LEC004 19\n",
      "LEC004 18\n",
      "LEC004 19\n",
      "LEC004 19\n",
      "LEC004 18\n",
      "LEC004 18\n",
      "LEC004 20\n",
      "LEC004 18\n",
      "LEC004 20\n",
      "LEC004 18\n",
      "LEC004 18\n",
      "LEC004 19\n",
      "LEC004 20\n",
      "LEC004 19\n",
      "LEC004 18\n",
      "LEC004 18\n",
      "LEC004 19\n",
      "LEC004 18\n",
      "LEC004 19\n",
      "LEC004 26\n",
      "LEC004 19\n",
      "LEC004 18\n",
      "LEC004 19\n",
      "LEC004 19\n",
      "LEC004 18\n",
      "LEC004 19\n",
      "LEC004 18\n",
      "LEC004 21\n",
      "LEC004 18\n",
      "LEC004 19\n",
      "LEC004 21\n",
      "LEC004 19\n",
      "LEC004 18\n",
      "LEC004 19\n",
      "LEC004 19\n",
      "LEC004 20\n",
      "LEC004 18\n",
      "LEC004 19\n",
      "LEC004 20\n",
      "LEC004 20\n",
      "LEC004 19\n",
      "17\n"
     ]
    }
   ],
   "source": [
    "min_age = None\n",
    "for idx in range(project.count()):\n",
    "    section = project.get_lecture(idx)\n",
    "    age = project.get_age(idx)\n",
    "    \n",
    "    #filter sections\n",
    "    if section != 'LEC004':\n",
    "        continue\n",
    "        \n",
    "    #filter out bad data\n",
    "    if age == '':\n",
    "        continue\n",
    "    age = int(age)\n",
    "    print(section,age)\n",
    "    \n",
    "    # we did fine 1 no answer\n",
    "    if min_age == None:\n",
    "        min_age = age\n",
    "    \n",
    "    # update if we find a better one\n",
    "    if min_age>age:\n",
    "        min_age = age\n",
    "\n",
    "    # if min_age == None or age < min_age:\n",
    "\n",
    "print(min_age)"
   ]
  },
  {
   "cell_type": "markdown",
   "id": "48f1c791",
   "metadata": {},
   "source": [
    "### What primary major is the youngest student in current lecture planning to declare?\n",
    "- now, we need to find some other detail about the youngest student\n",
    "- often, you'll have to keep track of ID of the max or min, so that you can retrive other details about that data entry"
   ]
  },
  {
   "cell_type": "code",
   "execution_count": 18,
   "id": "a524873b",
   "metadata": {},
   "outputs": [
    {
     "name": "stdout",
     "output_type": "stream",
     "text": [
      "17 413 Computer Science\n"
     ]
    }
   ],
   "source": [
    "# keep track of index\n",
    "min_age = None\n",
    "min_idx = None\n",
    "for idx in range(project.count()):\n",
    "    section = project.get_lecture(idx)\n",
    "    age = project.get_age(idx)\n",
    "    \n",
    "    #filter sections\n",
    "    if section != 'LEC004':\n",
    "        continue\n",
    "        \n",
    "    #filter out bad data\n",
    "    if age == '':\n",
    "        continue\n",
    "        \n",
    "    age = int(age)\n",
    "    #print(section,age)\n",
    "    \n",
    "    # we did fine 1 no answer\n",
    "    if min_age == None:\n",
    "        min_age = age \n",
    "        min_idx = idx # update\n",
    "    \n",
    "    # update if we find a better one\n",
    "    if min_age>age:\n",
    "        min_age = age\n",
    "        min_idx = idx # update here\n",
    "\n",
    "    # if min_age == None or age < min_age:\n",
    "\n",
    "print(min_age,min_idx,project.get_primary_major(min_idx))"
   ]
  },
  {
   "cell_type": "markdown",
   "id": "5294702a",
   "metadata": {},
   "source": [
    "### Considering current lecture students, what is the age of the first student residing at zip code 53715?"
   ]
  },
  {
   "cell_type": "code",
   "execution_count": 14,
   "id": "fada2a40",
   "metadata": {},
   "outputs": [
    {
     "data": {
      "text/plain": [
       "18"
      ]
     },
     "execution_count": 14,
     "metadata": {},
     "output_type": "execute_result"
    }
   ],
   "source": [
    "search_age = None # initalize best variable\n",
    "\n",
    "for idx in range(project.count()):\n",
    "    # look up data from survey\n",
    "    lecture = project.get_lecture(idx)\n",
    "    age = project.get_age(idx)\n",
    "    zipcode = project.get_zip_code(idx)\n",
    "    \n",
    "    if age == '' or zipcode == '': # filter out bad data\n",
    "        continue\n",
    "    age = int(age) # str to int\n",
    "    \n",
    "    if lecture == \"LEC004\" and zipcode == \"53715\":\n",
    "        search_age = age\n",
    "        break # you found the first such student, so you can terminate the loop execution\n",
    "\n",
    "search_age"
   ]
  },
  {
   "cell_type": "markdown",
   "id": "68793d99",
   "metadata": {},
   "source": [
    "## Self-practice"
   ]
  },
  {
   "cell_type": "markdown",
   "id": "2eeed867",
   "metadata": {},
   "source": [
    "### How many current lecture students are runners? "
   ]
  },
  {
   "cell_type": "code",
   "execution_count": 24,
   "id": "0eb05936",
   "metadata": {},
   "outputs": [
    {
     "name": "stdout",
     "output_type": "stream",
     "text": [
      "0\n"
     ]
    }
   ],
   "source": [
    "#strategy\n",
    "#1. loop through data\n",
    "#2. filter lectures\n",
    "#3. filture runners\n",
    "#4. count, initlaize before loop, incriment afte loop\n",
    "runner = 0\n",
    "for idx in range(project.count()):\n",
    "    lecture = project.get_lecture(idx)\n",
    "    runners = project.get_runner(idx)\n",
    "    \n",
    "    if lecture != 'LEC004':\n",
    "        continue\n",
    "    if runners == 'Runner':\n",
    "        runner += 1\n",
    "print(runner)"
   ]
  },
  {
   "cell_type": "markdown",
   "id": "1ea57e12",
   "metadata": {},
   "source": [
    "### How many current lecture students are procrastinators? "
   ]
  },
  {
   "cell_type": "markdown",
   "id": "cf0ac7c8",
   "metadata": {},
   "source": [
    "### How many current lecture students own or have owned a pet?"
   ]
  },
  {
   "cell_type": "markdown",
   "id": "9aa8fe7b",
   "metadata": {},
   "source": [
    "### How many current lecture students like pineapple on their pizza?"
   ]
  },
  {
   "cell_type": "markdown",
   "id": "ffd5e10f",
   "metadata": {},
   "source": [
    "### What sleep habit does the youngest student in current lecture have?\n",
    "- try to solve this from scratch, instead of copy-pasting code to find mimimum age"
   ]
  },
  {
   "cell_type": "markdown",
   "id": "f255b95a",
   "metadata": {},
   "source": [
    "### What sleep habit does the oldest student in current lecture have?"
   ]
  },
  {
   "cell_type": "markdown",
   "id": "a46d37b8",
   "metadata": {},
   "source": [
    "### What is the age of the youngest student residing in zip code 53706?"
   ]
  },
  {
   "cell_type": "markdown",
   "id": "db60812c",
   "metadata": {},
   "source": [
    "### Considering current lecture students, is the first student with age 18 a runner?"
   ]
  },
  {
   "cell_type": "code",
   "execution_count": null,
   "id": "f19cc00c",
   "metadata": {},
   "outputs": [],
   "source": []
  },
  {
   "cell_type": "code",
   "execution_count": null,
   "id": "a4fd99b1",
   "metadata": {},
   "outputs": [],
   "source": []
  }
 ],
 "metadata": {
  "kernelspec": {
   "display_name": "Python 3 (ipykernel)",
   "language": "python",
   "name": "python3"
  },
  "language_info": {
   "codemirror_mode": {
    "name": "ipython",
    "version": 3
   },
   "file_extension": ".py",
   "mimetype": "text/x-python",
   "name": "python",
   "nbconvert_exporter": "python",
   "pygments_lexer": "ipython3",
   "version": "3.9.12"
  }
 },
 "nbformat": 4,
 "nbformat_minor": 5
}
