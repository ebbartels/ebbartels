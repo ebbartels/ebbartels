{
 "cells": [
  {
   "cell_type": "code",
   "execution_count": 1,
   "metadata": {},
   "outputs": [],
   "source": [
    "import time\n",
    "from math import log10\n",
    "from math import pi"
   ]
  },
  {
   "cell_type": "code",
   "execution_count": 3,
   "metadata": {},
   "outputs": [
    {
     "ename": "SyntaxError",
     "evalue": "non-default argument follows default argument (1896324113.py, line 1)",
     "output_type": "error",
     "traceback": [
      "\u001b[1;36m  Input \u001b[1;32mIn [3]\u001b[1;36m\u001b[0m\n\u001b[1;33m    def area(length=3,width):\u001b[0m\n\u001b[1;37m                           ^\u001b[0m\n\u001b[1;31mSyntaxError\u001b[0m\u001b[1;31m:\u001b[0m non-default argument follows default argument\n"
     ]
    }
   ],
   "source": [
    "def area(length=3,width):\n",
    "    Area = length*width\n",
    "    return Area\n",
    "area(5,5)"
   ]
  },
  {
   "cell_type": "markdown",
   "metadata": {},
   "source": [
    "# Announcements - Wednesday, September 21\n",
    "\n",
    "* P2 due Today\n",
    "* Quiz 2 Released Today at 5 pm - Due Friday\n",
    "* No TopHat Quiz Today!\n",
    "* [Zoom Link](https://uwmadison.zoom.us/j/9741859842?pwd=OURuZnZuL0lhYlJkNVJHR1pLeUQwUT09)\n",
    "  * Document Camera Only\n",
    "  * No Audio"
   ]
  },
  {
   "cell_type": "markdown",
   "metadata": {},
   "source": [
    "# Creating Functions\n",
    "## Canvas -> Files -> Mikes_Lectures -> Lec006 -> Download the template"
   ]
  },
  {
   "cell_type": "markdown",
   "metadata": {},
   "source": [
    "## Announcements - Monday, September 19\n",
    "* Gradescope\n",
    "  * Submit an assigment that's not the most recent History -> \n",
    "  * Displays 25/25 in one place but 0/25 in another - no problem (known issue in gradescope)\n",
    "* [Tophat](https://app.tophat.com/e/942995) \n",
    "  * access code 942995\n",
    "  * 0.8 points for participation 0.3 for correctness\n",
    "  * 2 questions today\n",
    "  * remember to click submit\n",
    "* [Zoom Link](https://uwmadison.zoom.us/j/9741859842?pwd=OURuZnZuL0lhYlJkNVJHR1pLeUQwUT09)\n",
    "  * Document Camera Only\n",
    "  * No Audio"
   ]
  },
  {
   "cell_type": "code",
   "execution_count": null,
   "metadata": {},
   "outputs": [],
   "source": [
    "# warmup section 3:30\n",
    "# Alice vs Bob\n",
    "\n",
    "# Write code to print their scores formatted nicely as below.\n",
    "# We should be able to change the players names and scores and the output should still look good.\n",
    "\n",
    "# Alice: **********\n",
    "# Bob:   ********\n",
    "\n",
    "# Hint use the len function\n",
    "# Use string concatenation and repetition\n",
    "\n",
    "player1_name = 'Alice'\n",
    "player2_name = 'Bob'\n",
    "\n",
    "player1_score = 10\n",
    "player2_score = 8\n",
    "\n",
    "print(player1_name + ': ' + '***')\n",
    "print(player2_name + ': ' + '***')\n",
    "\n"
   ]
  },
  {
   "cell_type": "code",
   "execution_count": 9,
   "metadata": {},
   "outputs": [
    {
     "name": "stdout",
     "output_type": "stream",
     "text": [
      "##########\n",
      "#        #\n",
      "#        #\n",
      "#        #\n",
      "##########\n"
     ]
    }
   ],
   "source": [
    "# warmup section 9:55\n",
    "# Print this\n",
    "##########\n",
    "#        #\n",
    "#        #\n",
    "#        #\n",
    "##########\n",
    "\n",
    "rows = 5\n",
    "cols = 10\n",
    "\n",
    "\n",
    "row_ends = \"#\" * cols\n",
    "row_2 = \"#\" + \" \" * (cols-2) + \"#\"\n",
    "middle_rows = (row_2 + \"\\n\") * (rows - 2)\n",
    "print(row_ends)\n",
    "print(middle_rows, end = \"\")\n",
    "print(row_ends)"
   ]
  },
  {
   "cell_type": "markdown",
   "metadata": {},
   "source": [
    "### Review - pre-installed modules\n",
    "\n",
    "### Two ways of importing functions from a module\n",
    "1. import \\<module\\>\n",
    "    - requires you to use attribute operator: `.`\n",
    "    - \\<module\\>.\\<function\\>\n",
    "2. from \\<module\\> import \\<function\\>\n",
    "    - function can be called just with its name\n",
    "    \n",
    "Let's learn about time module"
   ]
  },
  {
   "cell_type": "code",
   "execution_count": null,
   "metadata": {},
   "outputs": [],
   "source": [
    "# Add all your import statements together to first cell\n",
    "\n",
    "# TODO: import time module using import style of import\n",
    "\n",
    "# TODO: use from style of import to import log10 function from math module\n",
    "\n",
    "# It is considered bad style to import everything from a module with the * (wildcard)\n",
    "# from math import *\n",
    "# larger projects may import many modules and the last import may overwrite earlier\n",
    "# functions if they have the same name\n",
    "\n",
    "# If you want to import everything, you need to \n",
    "# follow import style of import"
   ]
  },
  {
   "cell_type": "code",
   "execution_count": 12,
   "metadata": {},
   "outputs": [
    {
     "name": "stdout",
     "output_type": "stream",
     "text": [
      "Help on built-in module time:\n",
      "\n",
      "NAME\n",
      "    time - This module provides various functions to manipulate time values.\n",
      "\n",
      "DESCRIPTION\n",
      "    There are two standard representations of time.  One is the number\n",
      "    of seconds since the Epoch, in UTC (a.k.a. GMT).  It may be an integer\n",
      "    or a floating point number (to represent fractions of seconds).\n",
      "    The Epoch is system-defined; on Unix, it is generally January 1st, 1970.\n",
      "    The actual value can be retrieved by calling gmtime(0).\n",
      "    \n",
      "    The other representation is a tuple of 9 integers giving local time.\n",
      "    The tuple items are:\n",
      "      year (including century, e.g. 1998)\n",
      "      month (1-12)\n",
      "      day (1-31)\n",
      "      hours (0-23)\n",
      "      minutes (0-59)\n",
      "      seconds (0-59)\n",
      "      weekday (0-6, Monday is 0)\n",
      "      Julian day (day in the year, 1-366)\n",
      "      DST (Daylight Savings Time) flag (-1, 0 or 1)\n",
      "    If the DST flag is 0, the time is given in the regular time zone;\n",
      "    if it is 1, the time is given in the DST time zone;\n",
      "    if it is -1, mktime() should guess based on the date and time.\n",
      "\n",
      "CLASSES\n",
      "    builtins.tuple(builtins.object)\n",
      "        struct_time\n",
      "    \n",
      "    class struct_time(builtins.tuple)\n",
      "     |  struct_time(iterable=(), /)\n",
      "     |  \n",
      "     |  The time value as returned by gmtime(), localtime(), and strptime(), and\n",
      "     |  accepted by asctime(), mktime() and strftime().  May be considered as a\n",
      "     |  sequence of 9 integers.\n",
      "     |  \n",
      "     |  Note that several fields' values are not the same as those defined by\n",
      "     |  the C language standard for struct tm.  For example, the value of the\n",
      "     |  field tm_year is the actual year, not year - 1900.  See individual\n",
      "     |  fields' descriptions for details.\n",
      "     |  \n",
      "     |  Method resolution order:\n",
      "     |      struct_time\n",
      "     |      builtins.tuple\n",
      "     |      builtins.object\n",
      "     |  \n",
      "     |  Methods defined here:\n",
      "     |  \n",
      "     |  __reduce__(...)\n",
      "     |      Helper for pickle.\n",
      "     |  \n",
      "     |  __repr__(self, /)\n",
      "     |      Return repr(self).\n",
      "     |  \n",
      "     |  ----------------------------------------------------------------------\n",
      "     |  Static methods defined here:\n",
      "     |  \n",
      "     |  __new__(*args, **kwargs) from builtins.type\n",
      "     |      Create and return a new object.  See help(type) for accurate signature.\n",
      "     |  \n",
      "     |  ----------------------------------------------------------------------\n",
      "     |  Data descriptors defined here:\n",
      "     |  \n",
      "     |  tm_gmtoff\n",
      "     |      offset from UTC in seconds\n",
      "     |  \n",
      "     |  tm_hour\n",
      "     |      hours, range [0, 23]\n",
      "     |  \n",
      "     |  tm_isdst\n",
      "     |      1 if summer time is in effect, 0 if not, and -1 if unknown\n",
      "     |  \n",
      "     |  tm_mday\n",
      "     |      day of month, range [1, 31]\n",
      "     |  \n",
      "     |  tm_min\n",
      "     |      minutes, range [0, 59]\n",
      "     |  \n",
      "     |  tm_mon\n",
      "     |      month of year, range [1, 12]\n",
      "     |  \n",
      "     |  tm_sec\n",
      "     |      seconds, range [0, 61])\n",
      "     |  \n",
      "     |  tm_wday\n",
      "     |      day of week, range [0, 6], Monday is 0\n",
      "     |  \n",
      "     |  tm_yday\n",
      "     |      day of year, range [1, 366]\n",
      "     |  \n",
      "     |  tm_year\n",
      "     |      year, for example, 1993\n",
      "     |  \n",
      "     |  tm_zone\n",
      "     |      abbreviation of timezone name\n",
      "     |  \n",
      "     |  ----------------------------------------------------------------------\n",
      "     |  Data and other attributes defined here:\n",
      "     |  \n",
      "     |  n_fields = 11\n",
      "     |  \n",
      "     |  n_sequence_fields = 9\n",
      "     |  \n",
      "     |  n_unnamed_fields = 0\n",
      "     |  \n",
      "     |  ----------------------------------------------------------------------\n",
      "     |  Methods inherited from builtins.tuple:\n",
      "     |  \n",
      "     |  __add__(self, value, /)\n",
      "     |      Return self+value.\n",
      "     |  \n",
      "     |  __contains__(self, key, /)\n",
      "     |      Return key in self.\n",
      "     |  \n",
      "     |  __eq__(self, value, /)\n",
      "     |      Return self==value.\n",
      "     |  \n",
      "     |  __ge__(self, value, /)\n",
      "     |      Return self>=value.\n",
      "     |  \n",
      "     |  __getattribute__(self, name, /)\n",
      "     |      Return getattr(self, name).\n",
      "     |  \n",
      "     |  __getitem__(self, key, /)\n",
      "     |      Return self[key].\n",
      "     |  \n",
      "     |  __getnewargs__(self, /)\n",
      "     |  \n",
      "     |  __gt__(self, value, /)\n",
      "     |      Return self>value.\n",
      "     |  \n",
      "     |  __hash__(self, /)\n",
      "     |      Return hash(self).\n",
      "     |  \n",
      "     |  __iter__(self, /)\n",
      "     |      Implement iter(self).\n",
      "     |  \n",
      "     |  __le__(self, value, /)\n",
      "     |      Return self<=value.\n",
      "     |  \n",
      "     |  __len__(self, /)\n",
      "     |      Return len(self).\n",
      "     |  \n",
      "     |  __lt__(self, value, /)\n",
      "     |      Return self<value.\n",
      "     |  \n",
      "     |  __mul__(self, value, /)\n",
      "     |      Return self*value.\n",
      "     |  \n",
      "     |  __ne__(self, value, /)\n",
      "     |      Return self!=value.\n",
      "     |  \n",
      "     |  __rmul__(self, value, /)\n",
      "     |      Return value*self.\n",
      "     |  \n",
      "     |  count(self, value, /)\n",
      "     |      Return number of occurrences of value.\n",
      "     |  \n",
      "     |  index(self, value, start=0, stop=9223372036854775807, /)\n",
      "     |      Return first index of value.\n",
      "     |      \n",
      "     |      Raises ValueError if the value is not present.\n",
      "     |  \n",
      "     |  ----------------------------------------------------------------------\n",
      "     |  Class methods inherited from builtins.tuple:\n",
      "     |  \n",
      "     |  __class_getitem__(...) from builtins.type\n",
      "     |      See PEP 585\n",
      "\n",
      "FUNCTIONS\n",
      "    asctime(...)\n",
      "        asctime([tuple]) -> string\n",
      "        \n",
      "        Convert a time tuple to a string, e.g. 'Sat Jun 06 16:26:11 1998'.\n",
      "        When the time tuple is not present, current time as returned by localtime()\n",
      "        is used.\n",
      "    \n",
      "    ctime(...)\n",
      "        ctime(seconds) -> string\n",
      "        \n",
      "        Convert a time in seconds since the Epoch to a string in local time.\n",
      "        This is equivalent to asctime(localtime(seconds)). When the time tuple is\n",
      "        not present, current time as returned by localtime() is used.\n",
      "    \n",
      "    get_clock_info(...)\n",
      "        get_clock_info(name: str) -> dict\n",
      "        \n",
      "        Get information of the specified clock.\n",
      "    \n",
      "    gmtime(...)\n",
      "        gmtime([seconds]) -> (tm_year, tm_mon, tm_mday, tm_hour, tm_min,\n",
      "                               tm_sec, tm_wday, tm_yday, tm_isdst)\n",
      "        \n",
      "        Convert seconds since the Epoch to a time tuple expressing UTC (a.k.a.\n",
      "        GMT).  When 'seconds' is not passed in, convert the current time instead.\n",
      "        \n",
      "        If the platform supports the tm_gmtoff and tm_zone, they are available as\n",
      "        attributes only.\n",
      "    \n",
      "    localtime(...)\n",
      "        localtime([seconds]) -> (tm_year,tm_mon,tm_mday,tm_hour,tm_min,\n",
      "                                  tm_sec,tm_wday,tm_yday,tm_isdst)\n",
      "        \n",
      "        Convert seconds since the Epoch to a time tuple expressing local time.\n",
      "        When 'seconds' is not passed in, convert the current time instead.\n",
      "    \n",
      "    mktime(...)\n",
      "        mktime(tuple) -> floating point number\n",
      "        \n",
      "        Convert a time tuple in local time to seconds since the Epoch.\n",
      "        Note that mktime(gmtime(0)) will not generally return zero for most\n",
      "        time zones; instead the returned value will either be equal to that\n",
      "        of the timezone or altzone attributes on the time module.\n",
      "    \n",
      "    monotonic(...)\n",
      "        monotonic() -> float\n",
      "        \n",
      "        Monotonic clock, cannot go backward.\n",
      "    \n",
      "    monotonic_ns(...)\n",
      "        monotonic_ns() -> int\n",
      "        \n",
      "        Monotonic clock, cannot go backward, as nanoseconds.\n",
      "    \n",
      "    perf_counter(...)\n",
      "        perf_counter() -> float\n",
      "        \n",
      "        Performance counter for benchmarking.\n",
      "    \n",
      "    perf_counter_ns(...)\n",
      "        perf_counter_ns() -> int\n",
      "        \n",
      "        Performance counter for benchmarking as nanoseconds.\n",
      "    \n",
      "    process_time(...)\n",
      "        process_time() -> float\n",
      "        \n",
      "        Process time for profiling: sum of the kernel and user-space CPU time.\n",
      "    \n",
      "    process_time_ns(...)\n",
      "        process_time() -> int\n",
      "        \n",
      "        Process time for profiling as nanoseconds:\n",
      "        sum of the kernel and user-space CPU time.\n",
      "    \n",
      "    sleep(...)\n",
      "        sleep(seconds)\n",
      "        \n",
      "        Delay execution for a given number of seconds.  The argument may be\n",
      "        a floating point number for subsecond precision.\n",
      "    \n",
      "    strftime(...)\n",
      "        strftime(format[, tuple]) -> string\n",
      "        \n",
      "        Convert a time tuple to a string according to a format specification.\n",
      "        See the library reference manual for formatting codes. When the time tuple\n",
      "        is not present, current time as returned by localtime() is used.\n",
      "        \n",
      "        Commonly used format codes:\n",
      "        \n",
      "        %Y  Year with century as a decimal number.\n",
      "        %m  Month as a decimal number [01,12].\n",
      "        %d  Day of the month as a decimal number [01,31].\n",
      "        %H  Hour (24-hour clock) as a decimal number [00,23].\n",
      "        %M  Minute as a decimal number [00,59].\n",
      "        %S  Second as a decimal number [00,61].\n",
      "        %z  Time zone offset from UTC.\n",
      "        %a  Locale's abbreviated weekday name.\n",
      "        %A  Locale's full weekday name.\n",
      "        %b  Locale's abbreviated month name.\n",
      "        %B  Locale's full month name.\n",
      "        %c  Locale's appropriate date and time representation.\n",
      "        %I  Hour (12-hour clock) as a decimal number [01,12].\n",
      "        %p  Locale's equivalent of either AM or PM.\n",
      "        \n",
      "        Other codes may be available on your platform.  See documentation for\n",
      "        the C library strftime function.\n",
      "    \n",
      "    strptime(...)\n",
      "        strptime(string, format) -> struct_time\n",
      "        \n",
      "        Parse a string to a time tuple according to a format specification.\n",
      "        See the library reference manual for formatting codes (same as\n",
      "        strftime()).\n",
      "        \n",
      "        Commonly used format codes:\n",
      "        \n",
      "        %Y  Year with century as a decimal number.\n",
      "        %m  Month as a decimal number [01,12].\n",
      "        %d  Day of the month as a decimal number [01,31].\n",
      "        %H  Hour (24-hour clock) as a decimal number [00,23].\n",
      "        %M  Minute as a decimal number [00,59].\n",
      "        %S  Second as a decimal number [00,61].\n",
      "        %z  Time zone offset from UTC.\n",
      "        %a  Locale's abbreviated weekday name.\n",
      "        %A  Locale's full weekday name.\n",
      "        %b  Locale's abbreviated month name.\n",
      "        %B  Locale's full month name.\n",
      "        %c  Locale's appropriate date and time representation.\n",
      "        %I  Hour (12-hour clock) as a decimal number [01,12].\n",
      "        %p  Locale's equivalent of either AM or PM.\n",
      "        \n",
      "        Other codes may be available on your platform.  See documentation for\n",
      "        the C library strftime function.\n",
      "    \n",
      "    thread_time(...)\n",
      "        thread_time() -> float\n",
      "        \n",
      "        Thread time for profiling: sum of the kernel and user-space CPU time.\n",
      "    \n",
      "    thread_time_ns(...)\n",
      "        thread_time() -> int\n",
      "        \n",
      "        Thread time for profiling as nanoseconds:\n",
      "        sum of the kernel and user-space CPU time.\n",
      "    \n",
      "    time(...)\n",
      "        time() -> floating point number\n",
      "        \n",
      "        Return the current time in seconds since the Epoch.\n",
      "        Fractions of a second may be present if the system clock provides them.\n",
      "    \n",
      "    time_ns(...)\n",
      "        time_ns() -> int\n",
      "        \n",
      "        Return the current time in nanoseconds since the Epoch.\n",
      "\n",
      "DATA\n",
      "    altzone = 18000\n",
      "    daylight = 1\n",
      "    timezone = 21600\n",
      "    tzname = ('Central Standard Time', 'Central Daylight Time')\n",
      "\n",
      "FILE\n",
      "    (built-in)\n",
      "\n",
      "\n"
     ]
    }
   ],
   "source": [
    "# learn about the time module\n",
    "help(time)"
   ]
  },
  {
   "cell_type": "code",
   "execution_count": 18,
   "metadata": {},
   "outputs": [
    {
     "name": "stdout",
     "output_type": "stream",
     "text": [
      "Mon Sep 19 10:12:19 2022\n",
      "1663600339.0156069\n",
      "1663600344.0182073\n"
     ]
    }
   ],
   "source": [
    "# asctime, sleep, time()\n",
    "print(time.asctime())\n",
    "print(time.time())\n",
    "time.sleep(5)\n",
    "print(time.time())"
   ]
  },
  {
   "cell_type": "markdown",
   "metadata": {},
   "source": [
    "time module time function shows the current time in seconds since epoch.\n",
    "\n",
    "What is epoch? epoch is January 1, 1970. **FUN FACT:** epoch is considered beginning of time for computers."
   ]
  },
  {
   "cell_type": "code",
   "execution_count": 19,
   "metadata": {},
   "outputs": [
    {
     "name": "stdout",
     "output_type": "stream",
     "text": [
      "1663600416.9509168\n",
      "1663600423.9996977\n",
      "7.048780918121338\n"
     ]
    }
   ],
   "source": [
    "start_time = time.time()\n",
    "x = 2 ** 1000000000       # some large computation\n",
    "end_time = time.time()\n",
    "\n",
    "# TODO: change the line below to compute difference\n",
    "difference = end_time - start_time\n",
    "\n",
    "# TODO: add a separator of '\\n'\n",
    "print(start_time, end_time, difference, sep = \"\\n\") \n",
    "\n",
    "# TODO: discuss - how can you use time() function to time your project code?"
   ]
  },
  {
   "cell_type": "code",
   "execution_count": 20,
   "metadata": {},
   "outputs": [
    {
     "name": "stdout",
     "output_type": "stream",
     "text": [
      "hours   :  0\n",
      "minutes :  0\n",
      "seconds :  0\n"
     ]
    }
   ],
   "source": [
    "# Operator Review\n",
    "# Print out hours, minutes, and seconds \n",
    "seconds = 12345\n",
    "\n",
    "hours = 0\n",
    "print(\"hours   : \",hours)\n",
    "\n",
    "seconds = 0\n",
    "\n",
    "minutes = 0\n",
    "print(\"minutes : \",minutes)\n",
    "\n",
    "seconds = 0\n",
    "print(\"seconds : \",seconds)"
   ]
  },
  {
   "cell_type": "code",
   "execution_count": 22,
   "metadata": {},
   "outputs": [
    {
     "name": "stdout",
     "output_type": "stream",
     "text": [
      "3.0\n"
     ]
    }
   ],
   "source": [
    "# TODO: call log10 function to determine log base 10 of 1000\n",
    "\n",
    "# Recall that you do not use math. when you use from style of import\n",
    "# print(math.log10(1000)) #doesn't work\n",
    "print(log10(1000))"
   ]
  },
  {
   "cell_type": "code",
   "execution_count": 25,
   "metadata": {},
   "outputs": [
    {
     "data": {
      "text/plain": [
       "3.141592653589793"
      ]
     },
     "execution_count": 25,
     "metadata": {},
     "output_type": "execute_result"
    }
   ],
   "source": [
    "# TODO: can you access pi variable inside math module?\n",
    "pi # TODO: discuss why this didn't work\n",
    "\n",
    "\n",
    "# TODO: go back to the import cell and import math \n",
    "# TODO: fix line 2, so that you are now able to access pi inside math module"
   ]
  },
  {
   "cell_type": "markdown",
   "metadata": {},
   "source": [
    "## Learning Objectives\n",
    "\n",
    "- Explain the syntax of a function header:\n",
    "    - def, ( ), :, tabbing, return\n",
    "- Write a function with:\n",
    "    - correct header and indentation\n",
    "    - a return value (fruitful function) or without (void function)\n",
    "    - parameters that have default values\n",
    "- Write a function knowing the difference in outcomes of print and return statements\n",
    "- Explain how positional, keyword, and default arguments are copied into parameters\n",
    "- Make function calls using positional, keyword, and default arguments and determine the result.\n",
    "- Trace function invocations to determine control flow"
   ]
  },
  {
   "cell_type": "markdown",
   "metadata": {},
   "source": [
    "## Example 1: Cube of a number\n",
    "- Input: number (to be cubed)\n",
    "- Output: cubed number"
   ]
  },
  {
   "cell_type": "code",
   "execution_count": 26,
   "metadata": {},
   "outputs": [],
   "source": [
    "# TODO: Let's define the cube function\n",
    "def cube(x):\n",
    "    return x**3"
   ]
  },
  {
   "cell_type": "code",
   "execution_count": 28,
   "metadata": {},
   "outputs": [
    {
     "name": "stdout",
     "output_type": "stream",
     "text": [
      "125\n",
      "512\n"
     ]
    }
   ],
   "source": [
    "# Let's call cube function\n",
    "print(cube(5))\n",
    "\n",
    "# TODO: predict the output of the line below\n",
    "# write your guess here -> \n",
    "print(cube(cube(2)))"
   ]
  },
  {
   "cell_type": "code",
   "execution_count": 32,
   "metadata": {},
   "outputs": [
    {
     "name": "stdout",
     "output_type": "stream",
     "text": [
      "64\n",
      "-27\n",
      "37\n",
      "37\n"
     ]
    }
   ],
   "source": [
    "# TODO: compute 4 cube + -3 cube\n",
    "# version 1 -> incremental programming\n",
    "cube4 = cube(4)\n",
    "print(cube4)\n",
    "cubem3 = cube(-3)\n",
    "print(cubem3)\n",
    "print(cube4 + cubem3)\n",
    "\n",
    "# version 2 \n",
    "print(cube(4) + cube(-3))"
   ]
  },
  {
   "cell_type": "code",
   "execution_count": null,
   "metadata": {},
   "outputs": [],
   "source": [
    "# TODO: compute 4 cube * -3 cube\n",
    "# Now which one of the above two versions is better?\n",
    "\n",
    "# advantages of 1\n",
    "# incremental programming makes it easier to find bugs right away\n",
    "# if I need the calculation again I don't have to repeat the work if I store it in a variable\n",
    "\n",
    "# disadvantages of 1\n",
    "# took longer to write"
   ]
  },
  {
   "cell_type": "code",
   "execution_count": null,
   "metadata": {},
   "outputs": [],
   "source": [
    "# Whenever you think you are going to reuse a function call's\n",
    "# return value, save it in a variable\n",
    "\n",
    "# Rookie programmer mistake: calling the same function with the \n",
    "# same arguments will always give the same return value\n",
    "# Running the same function call twice takes twice the time"
   ]
  },
  {
   "cell_type": "markdown",
   "metadata": {},
   "source": [
    "`return` vs `print`\n",
    "- `return` enables us to send output from a function to the calling place\n",
    "    - default `return` value is `None`\n",
    "    - that means, when you don't have a `return` statement, `None` will be returned\n",
    "- `print` function simply displays / prints something\n",
    "    - it cannot enable you to produce output from a function"
   ]
  },
  {
   "cell_type": "code",
   "execution_count": 33,
   "metadata": {},
   "outputs": [],
   "source": [
    "# TODO: Go back to cube function defintion, change return to print\n",
    "# Run the above function call cells to see what happens\n",
    "\n",
    "# def print_cube...\n",
    "def print_cube(x):\n",
    "    print( x**3 )"
   ]
  },
  {
   "cell_type": "code",
   "execution_count": 34,
   "metadata": {},
   "outputs": [
    {
     "name": "stdout",
     "output_type": "stream",
     "text": [
      "64\n"
     ]
    }
   ],
   "source": [
    "print_cube(4)"
   ]
  },
  {
   "cell_type": "code",
   "execution_count": 35,
   "metadata": {},
   "outputs": [
    {
     "name": "stdout",
     "output_type": "stream",
     "text": [
      "8\n"
     ]
    },
    {
     "ename": "TypeError",
     "evalue": "unsupported operand type(s) for ** or pow(): 'NoneType' and 'int'",
     "output_type": "error",
     "traceback": [
      "\u001b[1;31m---------------------------------------------------------------------------\u001b[0m",
      "\u001b[1;31mTypeError\u001b[0m                                 Traceback (most recent call last)",
      "Input \u001b[1;32mIn [35]\u001b[0m, in \u001b[0;36m<cell line: 1>\u001b[1;34m()\u001b[0m\n\u001b[1;32m----> 1\u001b[0m \u001b[43mprint_cube\u001b[49m\u001b[43m(\u001b[49m\u001b[43mprint_cube\u001b[49m\u001b[43m(\u001b[49m\u001b[38;5;241;43m2\u001b[39;49m\u001b[43m)\u001b[49m\u001b[43m)\u001b[49m\n",
      "Input \u001b[1;32mIn [33]\u001b[0m, in \u001b[0;36mprint_cube\u001b[1;34m(x)\u001b[0m\n\u001b[0;32m      5\u001b[0m \u001b[38;5;28;01mdef\u001b[39;00m \u001b[38;5;21mprint_cube\u001b[39m(x):\n\u001b[1;32m----> 6\u001b[0m     \u001b[38;5;28mprint\u001b[39m( \u001b[43mx\u001b[49m\u001b[38;5;241;43m*\u001b[39;49m\u001b[38;5;241;43m*\u001b[39;49m\u001b[38;5;241;43m3\u001b[39;49m )\n",
      "\u001b[1;31mTypeError\u001b[0m: unsupported operand type(s) for ** or pow(): 'NoneType' and 'int'"
     ]
    }
   ],
   "source": [
    "print_cube(print_cube(2))"
   ]
  },
  {
   "cell_type": "markdown",
   "metadata": {},
   "source": [
    "## Tracing function invocations\n",
    "- PythonTutor is a great tool to learn control flow\n",
    "- Let's use PythonTutor to trace cube function invocation\n",
    "- TODO: Copy-paste cube function defintion into PythonTutor (course website > tools > PythonTutor)\n",
    "- [Python Tutor](https://pythontutor.com/visualize.html#mode=edit)"
   ]
  },
  {
   "cell_type": "markdown",
   "metadata": {},
   "source": [
    "## fruitful function versus void function\n",
    "- fruitful function: returns something\n",
    "    - ex: cube\n",
    "- void function: doesn't return anything\n",
    "    - ex: cube_no_return\n",
    "    - may produce output with `print` function calls\n",
    "    - may change values of certain variables\n",
    "    \n",
    "<div>\n",
    "<img src=\"print_vs_return.png\" width=\"800\"/>\n",
    "</div>"
   ]
  },
  {
   "cell_type": "markdown",
   "metadata": {},
   "source": [
    "## Example 2: is_between(lower, num, upper)\n",
    "- Purpose: check whether number is within the range of lower and upper (inclusive)\n",
    "- Input: lower bound, number, upper bound\n",
    "- Output: boolean value (`True` or `False`)\n",
    "- Keyword: `pass`:\n",
    "    - placeholder statement\n",
    "    - you cannot run a cell with an empty function definition"
   ]
  },
  {
   "cell_type": "code",
   "execution_count": 38,
   "metadata": {},
   "outputs": [
    {
     "name": "stdout",
     "output_type": "stream",
     "text": [
      "True\n",
      "False\n",
      "True\n"
     ]
    }
   ],
   "source": [
    "def is_between(lower, num, upper):\n",
    "    # pass\n",
    "    # return lower < num < upper\n",
    "    return lower < num and num < upper\n",
    "    \n",
    "# functions always require at least 1 line\n",
    "# pass does nothing\n",
    "    \n",
    "# you can call a function in the same cell that you defined it\n",
    "print(is_between(3, 7, 21))\n",
    "print(is_between(2, 14, 5))\n",
    "print(is_between(100, cube(5), 200))"
   ]
  },
  {
   "cell_type": "markdown",
   "metadata": {},
   "source": [
    "## Types of arguments\n",
    "- positional\n",
    "- keyword\n",
    "- default\n",
    "\n",
    "Python fills arguments in this order: positional, keyword, default\n",
    "<img src=\"parameter_filling.png\" width=\"800\"/>"
   ]
  },
  {
   "cell_type": "markdown",
   "metadata": {},
   "source": [
    "# Mike don't forget the TopHat quiz!!!\n",
    "* every parameter needs to get an argument\n",
    "* only 1 argument per parameter\n",
    "* positonal argumnet first\n",
    "* keyword argument second\n",
    "* defult argument last"
   ]
  },
  {
   "cell_type": "code",
   "execution_count": 5,
   "metadata": {},
   "outputs": [
    {
     "name": "stdout",
     "output_type": "stream",
     "text": [
      "11\n",
      "10\n"
     ]
    },
    {
     "data": {
      "text/plain": [
       "21"
      ]
     },
     "execution_count": 5,
     "metadata": {},
     "output_type": "execute_result"
    }
   ],
   "source": [
    "def add(x,y):\n",
    "    print(x)\n",
    "    print(y)\n",
    "    return x+y\n",
    "\n",
    "add(y=10,x=11)"
   ]
  },
  {
   "cell_type": "code",
   "execution_count": 8,
   "metadata": {},
   "outputs": [
    {
     "name": "stdout",
     "output_type": "stream",
     "text": [
      "x = 100\n",
      "y = 10\n",
      "z = 5\n"
     ]
    },
    {
     "data": {
      "text/plain": [
       "115"
      ]
     },
     "execution_count": 8,
     "metadata": {},
     "output_type": "execute_result"
    }
   ],
   "source": [
    "def add3(x, y = 100, z = 100): \n",
    "    \"\"\"adds three numbers\"\"\"       #documentation string\n",
    "    print (\"x = \" + str(x))\n",
    "    print (\"y = \" + str(y))\n",
    "    print (\"z = \" + str(z))\n",
    "    return x + y + z\n",
    "\n",
    "# sum = add3(100, 10, 5) \n",
    "# TODO: 1. sum is a bad variable, discuss: why. What would be a better variable name?\n",
    "# TODO: 2. what type of arguments are 100, 10, and 5?\n",
    "\n",
    "sum([1,2,3])\n",
    "\n",
    "x = add3(100,10,5)\n",
    "x"
   ]
  },
  {
   "cell_type": "code",
   "execution_count": 9,
   "metadata": {},
   "outputs": [
    {
     "name": "stdout",
     "output_type": "stream",
     "text": [
      "x = 1\n",
      "y = 5\n",
      "z = 2\n",
      "8\n"
     ]
    }
   ],
   "source": [
    "print(add3(x = 1, z = 2, y = 5)) #TODO: what type of arguments are these?"
   ]
  },
  {
   "cell_type": "code",
   "execution_count": null,
   "metadata": {},
   "outputs": [],
   "source": [
    "add3(5, 6) # TODO: what type of argument gets filled for the parameter z?"
   ]
  },
  {
   "cell_type": "markdown",
   "metadata": {},
   "source": [
    "Positional arguments need to be specified before keyword arguments."
   ]
  },
  {
   "cell_type": "code",
   "execution_count": null,
   "metadata": {},
   "outputs": [],
   "source": [
    "# Incorrect function call\n",
    "add3(z = 5, 2, 7) \n",
    "# TODO: what category of error is this?"
   ]
  },
  {
   "cell_type": "markdown",
   "metadata": {},
   "source": [
    "Similarly, parameters with default values should be defined after parameters without default values."
   ]
  },
  {
   "cell_type": "code",
   "execution_count": null,
   "metadata": {},
   "outputs": [],
   "source": [
    "# Incorrect function definition\n",
    "def add3_bad_version(x = 10, y, z): \n",
    "    \"\"\"adds three numbers\"\"\"              #documentation string\n",
    "    print (\"y = \" + str(y))\n",
    "    return x + y + z"
   ]
  },
  {
   "cell_type": "markdown",
   "metadata": {},
   "source": [
    "Python expects exactly same number of arguments as parameters."
   ]
  },
  {
   "cell_type": "code",
   "execution_count": null,
   "metadata": {},
   "outputs": [],
   "source": [
    "# Incorrect function call\n",
    "add3(5, 3, 10, x = 4)\n",
    "# TODO: what category of error is this?"
   ]
  },
  {
   "cell_type": "code",
   "execution_count": null,
   "metadata": {},
   "outputs": [],
   "source": [
    "# TODO: will this function call work?\n",
    "add3(y = 5, z = 10)"
   ]
  },
  {
   "cell_type": "code",
   "execution_count": null,
   "metadata": {},
   "outputs": [],
   "source": [
    "# TODO: will this function call work?\n",
    "add3()"
   ]
  },
  {
   "cell_type": "markdown",
   "metadata": {},
   "source": [
    "## Example 3: Generate a height x width grid\n",
    "- Input: width, height, grid symbol, title of the grid\n",
    "- Output: string containing title, a newline, and the grid\n",
    "- Pseudocode steps:\n",
    "    1. Generate a single row of symb (width dimension). What string operator do you need?\n",
    "    2. Capture single row into a variable\n",
    "    3. Add newline to single row variable.\n",
    "    4. Generate multiple rows (height dimension). What string operator do you need?\n",
    "    5. Generate the output string to be returned by adding title with a newline with the output from step 4."
   ]
  },
  {
   "cell_type": "code",
   "execution_count": null,
   "metadata": {},
   "outputs": [],
   "source": [
    "# TODO: how many parameters have default values in the below function?\n",
    "def get_grid(width, height, symb = '#', title = 'My Grid:'):\n",
    "    row = symb * width\n",
    "    grid = (row + '\\n') * height\n",
    "    return title + '\\n' + grid"
   ]
  },
  {
   "cell_type": "code",
   "execution_count": null,
   "metadata": {},
   "outputs": [],
   "source": [
    "# TODO: generate various sized grids, by exploring\n",
    "# three types of arguments\n",
    "# Here is one example\n",
    "print(get_grid(10, 8))"
   ]
  },
  {
   "cell_type": "code",
   "execution_count": null,
   "metadata": {},
   "outputs": [],
   "source": [
    "# TODO: use PythonTutor to trace get_grid function call"
   ]
  },
  {
   "cell_type": "code",
   "execution_count": null,
   "metadata": {},
   "outputs": [],
   "source": []
  },
  {
   "cell_type": "code",
   "execution_count": null,
   "metadata": {},
   "outputs": [],
   "source": []
  },
  {
   "cell_type": "code",
   "execution_count": null,
   "metadata": {},
   "outputs": [],
   "source": []
  },
  {
   "cell_type": "markdown",
   "metadata": {},
   "source": [
    "When you use keyword arguments, the order of the arguments need not match with the parameters.\n",
    "This is because we tie the arguments to the parameters, by explicitly saying parameter = argument."
   ]
  },
  {
   "cell_type": "code",
   "execution_count": null,
   "metadata": {},
   "outputs": [],
   "source": [
    "# TODO: Try using all keyword arguments and use different order than the order of the parameters.\n"
   ]
  },
  {
   "cell_type": "markdown",
   "metadata": {},
   "source": [
    "### Revisiting `print` function\n",
    "- Let's look at `help(print)` to learn about print's parameters\n",
    "    - Default value for `sep` is space, that is: \" \"\n",
    "    - Default value for `end` is newline, that is: \"\\n\""
   ]
  },
  {
   "cell_type": "code",
   "execution_count": null,
   "metadata": {},
   "outputs": [],
   "source": [
    "help(print)"
   ]
  },
  {
   "cell_type": "code",
   "execution_count": null,
   "metadata": {},
   "outputs": [],
   "source": [
    "# TODO: predict output, then run to validate your prediction\n",
    "print(3 + 4, 3 < 4, \"3\" + \"4\", end = \"....\\n\" )     # sep default is \" \"\n",
    "print(3 + 4, 3 < 4, \"3\" + \"4\", sep = \"\\t\" )         # end default is \"\\n\""
   ]
  },
  {
   "cell_type": "markdown",
   "metadata": {},
   "source": [
    "## fruitful function versus void function\n",
    "- fruitful function: returns something\n",
    "    - ex: add3\n",
    "- void function: doesn't return anything\n",
    "    - ex: bad_add3_v1"
   ]
  },
  {
   "cell_type": "code",
   "execution_count": null,
   "metadata": {},
   "outputs": [],
   "source": [
    "# Example of void function\n",
    "def bad_add3_v1(x, y, z):\n",
    "    pass\n",
    "\n",
    "print(bad_add3_v1(4, 2, 1))"
   ]
  },
  {
   "cell_type": "code",
   "execution_count": null,
   "metadata": {},
   "outputs": [],
   "source": [
    "print(bad_add3_v1(4, 2, 1) ** 2) # Cannot apply mathematical operator to None"
   ]
  },
  {
   "cell_type": "markdown",
   "metadata": {},
   "source": [
    "### `return` statement is final\n",
    "- exactly *one* `return` statement gets executed for a function call\n",
    "- immediately after encountering `return`, function execution terminates"
   ]
  },
  {
   "cell_type": "code",
   "execution_count": null,
   "metadata": {},
   "outputs": [],
   "source": [
    "def bad_add3_v2(x, y, z): \n",
    "    return x\n",
    "    return x + y + z      # will never execute\n",
    "\n",
    "bad_add3_v2(50, 60, 70)"
   ]
  },
  {
   "cell_type": "markdown",
   "metadata": {},
   "source": [
    "Default return type from a function is None. \n",
    "None is a special type in Python (similar to null in Java)."
   ]
  },
  {
   "cell_type": "markdown",
   "metadata": {},
   "source": [
    "### Trace this example\n",
    "- manually\n",
    "- then use PythonTutor"
   ]
  },
  {
   "cell_type": "code",
   "execution_count": null,
   "metadata": {},
   "outputs": [],
   "source": [
    "def func_c():\n",
    "    print(\"C\")\n",
    "\n",
    "def func_b():\n",
    "    print(\"B1\")\n",
    "    func_c()\n",
    "    print(\"B2\")\n",
    "\n",
    "def func_a():\n",
    "    print(\"A1\")\n",
    "    func_b()\n",
    "    print(\"A2\")\n",
    "\n",
    "func_a()"
   ]
  },
  {
   "cell_type": "markdown",
   "metadata": {},
   "source": [
    "# notes\n",
    "* frame - the place you are looking in\n",
    "* where the variables are\n",
    "* tabed to left is in global frame\n",
    "    can be accessed by all\n",
    "* frames for specific variable are recycled once the code is finished\n",
    "\n",
    "# Function scope rules\n",
    "1. function don't run until they are called. Definiton of a function doesn't call it.\n",
    "1. variables are recycled once the function ends. can't be used after the function ends\n",
    "1. every time a function is called new local variable are created\n",
    "1. can only see variables in the active frame and the global frame\n",
    "1. can always grab variables in the global frame (but not assigned)\n",
    "1. defining a variable in a function makes in local. takes local variable over global\n",
    "1. python looks ahead to identify local variables\n",
    "1. you can prevent python from using the local variable by using the global declaration\n",
    "1.\n",
    "1."
   ]
  }
 ],
 "metadata": {
  "kernelspec": {
   "display_name": "Python 3 (ipykernel)",
   "language": "python",
   "name": "python3"
  },
  "language_info": {
   "codemirror_mode": {
    "name": "ipython",
    "version": 3
   },
   "file_extension": ".py",
   "mimetype": "text/x-python",
   "name": "python",
   "nbconvert_exporter": "python",
   "pygments_lexer": "ipython3",
   "version": "3.9.12"
  }
 },
 "nbformat": 4,
 "nbformat_minor": 2
}
