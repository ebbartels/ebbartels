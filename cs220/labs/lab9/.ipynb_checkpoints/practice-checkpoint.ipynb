{
 "cells": [
  {
   "cell_type": "code",
   "execution_count": 1,
   "id": "2d3547b2",
   "metadata": {
    "deletable": false,
    "editable": false
   },
   "outputs": [],
   "source": [
    "# Initialize Otter\n",
    "import otter\n",
    "grader = otter.Notebook(\"practice.ipynb\")"
   ]
  },
  {
   "cell_type": "code",
   "execution_count": 2,
   "id": "6e845c38",
   "metadata": {},
   "outputs": [],
   "source": [
    "import practice_test"
   ]
  },
  {
   "cell_type": "markdown",
   "id": "0450f490",
   "metadata": {},
   "source": [
    "# Lab-P9:  Plotting and Sorting"
   ]
  },
  {
   "cell_type": "markdown",
   "id": "4270f044",
   "metadata": {},
   "source": [
    "# Learning Objectives:\n",
    "\n",
    "In this lab, you will practice how to...\n",
    "* Create simple plots from dictionaries\n",
    "* Sort dictionaries by keys and values\n",
    "* Use bucketizing to obtain useful data structures\n",
    "* Use comprehensions to create lists and dictionaries"
   ]
  },
  {
   "cell_type": "markdown",
   "id": "f4bf8a1b",
   "metadata": {},
   "source": [
    "## Note on Academic Misconduct:\n",
    "\n",
    "**IMPORTANT**: p8 and p9 are two parts of the same data analysis. You **cannot** switch project partners between these two projects. That is if you partnered up with someone for p8, you have to work on lab-p9 and p9 with the **same partner**. You must acknowledge to the lab TA to receive lab attendance credit.\n",
    "\n",
    "You may do these lab exercises with only with your project partner; you are not allowed to start working on lab-p9 with one person, then do the project with a different partner.  Now may be a good time to review [our course policies](https://cs220.cs.wisc.edu/f22/syllabus.html)."
   ]
  },
  {
   "cell_type": "markdown",
   "id": "841de06b",
   "metadata": {},
   "source": [
    "## Introduction:\n",
    "\n",
    "In lab-p8 and p8, you learnt to parse the `mapping.csv` and `movies.csv` datasets. In p9, you will be analyzing the movies dataset using the data structures you created in p8. In lab-p9, you will create some useful helper functions that will be needed in p9, and you will also learn to create bar plots."
   ]
  },
  {
   "cell_type": "markdown",
   "id": "7f3fd8c4",
   "metadata": {},
   "source": [
    "In order to create bar plots, you will use two new packages: `matplotlib` and `pandas`. Import them below."
   ]
  },
  {
   "cell_type": "code",
   "execution_count": 3,
   "id": "08cd500c",
   "metadata": {
    "tags": []
   },
   "outputs": [],
   "source": [
    "# it is considered a good coding practice to place all import statements at the top of the notebook\n",
    "# please place all your import statements in this cell if you need to import any more modules for this project\n",
    "import pandas\n",
    "import matplotlib"
   ]
  },
  {
   "cell_type": "markdown",
   "id": "53efa067",
   "metadata": {},
   "source": [
    "## Segment 2: Plotting Dictionaries\n",
    "\n",
    "### Task 2.1: Understand how `plot_dict` works\n",
    "\n",
    "**Creating a dictionary** will often be the first step towards creating a bar plot in Python. In particular, each dictionary **key** might correspond to a **category** (along the *x-axis*), and each **value** might correspond to an **amount** (along the *y-axis*). To setup plotting in Python, run the following cell:"
   ]
  },
  {
   "cell_type": "code",
   "execution_count": 4,
   "id": "2e39d09a",
   "metadata": {},
   "outputs": [],
   "source": [
    "def plot_dict(d, label=\"Please Label Me!\"):\n",
    "    \"\"\"plot_dict(d, label) creates a bar plot using the \n",
    "    dictionary 'd' and labels the y-axis as 'label'\"\"\"\n",
    "    ax = pandas.Series(d).sort_index().plot.bar(color=\"black\", fontsize=16)\n",
    "    ax.set_ylabel(label, fontsize=16)"
   ]
  },
  {
   "cell_type": "markdown",
   "id": "17cd09e8",
   "metadata": {},
   "source": [
    "Let's try creating a simple dictionary and using it to create a bar plot with the `plot_dict` function:"
   ]
  },
  {
   "cell_type": "code",
   "execution_count": 5,
   "id": "cb9ae52c",
   "metadata": {},
   "outputs": [
    {
     "data": {
      "text/plain": [
       "{'Ada Lovelace': 5, 'Rose Lavelle': 22, 'Marta Vieira da Silva': 113}"
      ]
     },
     "execution_count": 5,
     "metadata": {},
     "output_type": "execute_result"
    }
   ],
   "source": [
    "# create a dictionary mapping different players to their goals scored\n",
    "goals = {\"Ada Lovelace\": 5, \"Rose Lavelle\": 22, \"Marta Vieira da Silva\": 113}\n",
    "goals"
   ]
  },
  {
   "cell_type": "code",
   "execution_count": 6,
   "id": "98fae914",
   "metadata": {},
   "outputs": [
    {
     "data": {
      "image/png": "[encoded data removed]",
      "text/plain": [
       "<Figure size 432x288 with 1 Axes>"
      ]
     },
     "metadata": {
      "needs_background": "light"
     },
     "output_type": "display_data"
    }
   ],
   "source": [
    "# create a bar plot from the data in the dictionary 'goals'\n",
    "plot_dict(goals)"
   ]
  },
  {
   "cell_type": "markdown",
   "id": "8c4b75da",
   "metadata": {},
   "source": [
    "Since p9 is all about the movies dataset, we will now work on a **list** of movie **dictionaries**, similar to the one you created in p8. If you haven't completed p8, don't worry! The variable has been defined below and you do not need to copy any p8 code over. Run the cell below to define the variable `movies_data`. Note that this is a **list** of **dictionaries** in the same format the **list** `movies` that you defined in p8 (and will work with, in p9).\n",
    "\n",
    "**Important**: We define the variable directly in order to save time and simplify the lab exercises. Do NOT hardcode values of variables storing the dataset in p9. Instead use the appropriate functions to load the data from the corresponding CSV files."
   ]
  },
  {
   "cell_type": "code",
   "execution_count": 7,
   "id": "db587ca9",
   "metadata": {},
   "outputs": [],
   "source": [
    "movies_data = [{'title': 'The Trees of the East',\n",
    "  'year': 2018,\n",
    "  'duration': 71,\n",
    "  'genres': ['Thriller'],\n",
    "  'rating': 9.8,\n",
    "  'directors': ['Mike Ellwood'],\n",
    "  'cast': ['Pattyeffinmayo', 'Parlay Pass', 'Sia Poorak', 'Kandisha']},\n",
    "{'title': 'Avengers: Infinity War',\n",
    "  'year': 2018,\n",
    "  'duration': 149,\n",
    "  'genres': ['Action', 'Adventure', 'Sci-Fi'],\n",
    "  'rating': 8.4,\n",
    "  'directors': ['Anthony Russo', 'Joe Russo'],\n",
    "  'cast': ['Robert Downey Jr.', 'Chris Hemsworth', 'Mark Ruffalo', 'Chris Evans']},\n",
    "{'title': 'Zodiac',\n",
    "  'year': 2007,\n",
    "  'duration': 157,\n",
    "  'genres': ['Crime', 'Drama', 'Mystery'],\n",
    "  'rating': 7.7,\n",
    "  'directors': ['David Fincher'],\n",
    "  'cast': ['Jake Gyllenhaal', 'Robert Downey Jr.', 'Mark Ruffalo', 'Anthony Edwards']},\n",
    "{'title': 'Top Gun: Maverick',\n",
    "  'year': 2022,\n",
    "  'duration': 130,\n",
    "  'genres': ['Action', 'Drama'],\n",
    "  'rating': 8.4,\n",
    "  'directors': ['Joseph Kosinski'],\n",
    "  'cast': ['Tom Cruise', 'Jennifer Connelly', 'Miles Teller', 'Val Kilmer']},\n",
    "{'title': 'Space Jam: A New Legacy',\n",
    "  'year': 2021,\n",
    "  'duration': 115,\n",
    "  'genres': ['Adventure', 'Animation', 'Comedy'],\n",
    "  'rating': 4.5,\n",
    "  'directors': ['Malcolm D. Lee'],\n",
    "  'cast': ['LeBron James', 'Don Cheadle', 'Cedric Joe', 'Khris Davis']},\n",
    "{'title': 'The Big Short',\n",
    "  'year': 2015,\n",
    "  'duration': 130,\n",
    "  'genres': ['Biography', 'Comedy', 'Drama'],\n",
    "  'rating': 7.8,\n",
    "  'directors': ['Adam McKay'],\n",
    "  'cast': ['Christian Bale', 'Steve Carell', 'Ryan Gosling', 'Brad Pitt']}]"
   ]
  },
  {
   "cell_type": "markdown",
   "id": "86911132",
   "metadata": {},
   "source": [
    "### Task 2.2: Map necessary details into a dictionary\n",
    "\n",
    "As you can see, `movies_data` is a **list** of **dictionaries** where each **dictionary** stores information on a particular movie.\n",
    "\n",
    "Using the `plot_dict` function, we will now create a **bar plot** that compares the `duration` of each movie in `movies_data`. The *x-axis* will contain the `title` of each movie and your *y-axis* will be the `duration`."
   ]
  },
  {
   "cell_type": "code",
   "execution_count": 8,
   "id": "c2d515ff",
   "metadata": {},
   "outputs": [
    {
     "data": {
      "text/plain": [
       "{'The Trees of the East': 71,\n",
       " 'Avengers: Infinity War': 149,\n",
       " 'Zodiac': 157,\n",
       " 'Top Gun: Maverick': 130,\n",
       " 'Space Jam: A New Legacy': 115,\n",
       " 'The Big Short': 130}"
      ]
     },
     "execution_count": 8,
     "metadata": {},
     "output_type": "execute_result"
    }
   ],
   "source": [
    "# create the dictionary first\n",
    "plot_movies_data = {}\n",
    "for movie in movies_data:\n",
    "    plot_movies_data[movie['title']] = movie['duration']\n",
    "    \n",
    "plot_movies_data"
   ]
  },
  {
   "cell_type": "code",
   "execution_count": 9,
   "id": "8f25c9a7",
   "metadata": {},
   "outputs": [
    {
     "data": {
      "image/png": "[encoded data removed]",
      "text/plain": [
       "<Figure size 432x288 with 1 Axes>"
      ]
     },
     "metadata": {
      "needs_background": "light"
     },
     "output_type": "display_data"
    }
   ],
   "source": [
    "# then plot the dictionary\n",
    "plot_dict(plot_movies_data)"
   ]
  },
  {
   "cell_type": "markdown",
   "id": "a883633d",
   "metadata": {},
   "source": [
    "Notice that in this plot, the *y-axis* is missing a label; that can be specified with the **optional** second argument to `plot_dict`."
   ]
  },
  {
   "cell_type": "code",
   "execution_count": 10,
   "id": "cf7aa633",
   "metadata": {},
   "outputs": [
    {
     "data": {
      "image/png": "[encoded data removed]",
      "text/plain": [
       "<Figure size 432x288 with 1 Axes>"
      ]
     },
     "metadata": {
      "needs_background": "light"
     },
     "output_type": "display_data"
    }
   ],
   "source": [
    "# provide the y-axis label as the second argument\n",
    "plot_dict(plot_movies_data, 'Duration')"
   ]
  },
  {
   "cell_type": "markdown",
   "id": "fdb7f12a",
   "metadata": {},
   "source": [
    "You are now ready to create your own bar plots in p9!"
   ]
  },
  {
   "cell_type": "markdown",
   "id": "3ed0bd84",
   "metadata": {},
   "source": [
    "## Segment 3: Creating a Dictionary with Custom Keys\n",
    "\n",
    "### Task 3.1: Convert years to their decades\n",
    "\n",
    "### Function 1: `year_to_decade(year)`\n",
    "\n",
    "First, we are going to write the `year_to_decade` function. Given a year, this function returns a string that represents the decade that year belongs to. Here are some sample calls and the expected output:\n",
    "\n",
    "- `year_to_decade(2003)` **must** return `'2001 to 2010'`\n",
    "- `year_to_decade(2000)` **must** return `'1991 to 2000'`\n",
    "\n",
    "Complete the code below. "
   ]
  },
  {
   "cell_type": "code",
   "execution_count": 15,
   "id": "ca83be17",
   "metadata": {
    "tags": []
   },
   "outputs": [],
   "source": [
    "# replace the ... with your code\n",
    "\n",
    "def year_to_decade(year):\n",
    "    if year % 10 == 0:\n",
    "        decade = str(year-9) + ' to ' + str(year)\n",
    "    else:\n",
    "        decade = str(year-year%10+1) + ' to ' + str(year-year%10+10)\n",
    "        # TODO: first find the year in which the decade starts\n",
    "        #       when year % 10 == 0\n",
    "        # TODO: define the variable 'decade'\n",
    "    return decade"
   ]
  },
  {
   "cell_type": "markdown",
   "id": "fb0e93e9",
   "metadata": {},
   "source": [
    "**Question 1**: Which **decade** does the `year` *2000* belong to?"
   ]
  },
  {
   "cell_type": "code",
   "execution_count": 16,
   "id": "89d3542b",
   "metadata": {
    "tags": []
   },
   "outputs": [
    {
     "data": {
      "text/plain": [
       "'1991 to 2000'"
      ]
     },
     "execution_count": 16,
     "metadata": {},
     "output_type": "execute_result"
    }
   ],
   "source": [
    "# compute and store the answer in the variable 'decade_2000', then display it\n",
    "decade_2000 = year_to_decade(2000)\n",
    "decade_2000"
   ]
  },
  {
   "cell_type": "code",
   "execution_count": 17,
   "id": "039e3af4",
   "metadata": {
    "deletable": false,
    "editable": false
   },
   "outputs": [
    {
     "data": {
      "text/html": [
       "<p><strong><pre style='display: inline;'>q1</pre></strong> passed!</p>"
      ],
      "text/plain": [
       "q1 results: All test cases passed!"
      ]
     },
     "execution_count": 17,
     "metadata": {},
     "output_type": "execute_result"
    }
   ],
   "source": [
    "grader.check(\"q1\")"
   ]
  },
  {
   "cell_type": "markdown",
   "id": "3dd3fbb0",
   "metadata": {},
   "source": [
    "**Question 2**: Which **decade** does the `year` *1843* belong to?"
   ]
  },
  {
   "cell_type": "code",
   "execution_count": 18,
   "id": "1e2fe222",
   "metadata": {
    "tags": []
   },
   "outputs": [
    {
     "data": {
      "text/plain": [
       "'1841 to 1850'"
      ]
     },
     "execution_count": 18,
     "metadata": {},
     "output_type": "execute_result"
    }
   ],
   "source": [
    "# compute and store the answer in the variable 'decade_1843', then display it\n",
    "decade_1843 = year_to_decade(1843)\n",
    "decade_1843"
   ]
  },
  {
   "cell_type": "code",
   "execution_count": 19,
   "id": "53d90b79",
   "metadata": {
    "deletable": false,
    "editable": false
   },
   "outputs": [
    {
     "data": {
      "text/html": [
       "<p><strong><pre style='display: inline;'>q2</pre></strong> passed!</p>"
      ],
      "text/plain": [
       "q2 results: All test cases passed!"
      ]
     },
     "execution_count": 19,
     "metadata": {},
     "output_type": "execute_result"
    }
   ],
   "source": [
    "grader.check(\"q2\")"
   ]
  },
  {
   "cell_type": "markdown",
   "id": "4129af8e",
   "metadata": {},
   "source": [
    "### Task 3.2: Create new dictionaries with custom keys and values"
   ]
  },
  {
   "cell_type": "markdown",
   "id": "7ab0400c",
   "metadata": {},
   "source": [
    "**Question 3**: Create a new **dictionary** that has the `title` of each movie in `movies_data` as a **key** and the **decade** it was released in as the corresponding **value**.\n",
    "\n",
    "You **must** use the `year_to_decade` function to create this **dictionary**."
   ]
  },
  {
   "cell_type": "code",
   "execution_count": 20,
   "id": "99256abf",
   "metadata": {},
   "outputs": [
    {
     "data": {
      "text/plain": [
       "[{'title': 'The Trees of the East',\n",
       "  'year': 2018,\n",
       "  'duration': 71,\n",
       "  'genres': ['Thriller'],\n",
       "  'rating': 9.8,\n",
       "  'directors': ['Mike Ellwood'],\n",
       "  'cast': ['Pattyeffinmayo', 'Parlay Pass', 'Sia Poorak', 'Kandisha']},\n",
       " {'title': 'Avengers: Infinity War',\n",
       "  'year': 2018,\n",
       "  'duration': 149,\n",
       "  'genres': ['Action', 'Adventure', 'Sci-Fi'],\n",
       "  'rating': 8.4,\n",
       "  'directors': ['Anthony Russo', 'Joe Russo'],\n",
       "  'cast': ['Robert Downey Jr.',\n",
       "   'Chris Hemsworth',\n",
       "   'Mark Ruffalo',\n",
       "   'Chris Evans']},\n",
       " {'title': 'Zodiac',\n",
       "  'year': 2007,\n",
       "  'duration': 157,\n",
       "  'genres': ['Crime', 'Drama', 'Mystery'],\n",
       "  'rating': 7.7,\n",
       "  'directors': ['David Fincher'],\n",
       "  'cast': ['Jake Gyllenhaal',\n",
       "   'Robert Downey Jr.',\n",
       "   'Mark Ruffalo',\n",
       "   'Anthony Edwards']},\n",
       " {'title': 'Top Gun: Maverick',\n",
       "  'year': 2022,\n",
       "  'duration': 130,\n",
       "  'genres': ['Action', 'Drama'],\n",
       "  'rating': 8.4,\n",
       "  'directors': ['Joseph Kosinski'],\n",
       "  'cast': ['Tom Cruise', 'Jennifer Connelly', 'Miles Teller', 'Val Kilmer']},\n",
       " {'title': 'Space Jam: A New Legacy',\n",
       "  'year': 2021,\n",
       "  'duration': 115,\n",
       "  'genres': ['Adventure', 'Animation', 'Comedy'],\n",
       "  'rating': 4.5,\n",
       "  'directors': ['Malcolm D. Lee'],\n",
       "  'cast': ['LeBron James', 'Don Cheadle', 'Cedric Joe', 'Khris Davis']},\n",
       " {'title': 'The Big Short',\n",
       "  'year': 2015,\n",
       "  'duration': 130,\n",
       "  'genres': ['Biography', 'Comedy', 'Drama'],\n",
       "  'rating': 7.8,\n",
       "  'directors': ['Adam McKay'],\n",
       "  'cast': ['Christian Bale', 'Steve Carell', 'Ryan Gosling', 'Brad Pitt']}]"
      ]
     },
     "execution_count": 20,
     "metadata": {},
     "output_type": "execute_result"
    }
   ],
   "source": [
    "movies_data"
   ]
  },
  {
   "cell_type": "code",
   "execution_count": 21,
   "id": "7253c88d",
   "metadata": {
    "tags": []
   },
   "outputs": [
    {
     "data": {
      "text/plain": [
       "{'The Trees of the East': '2011 to 2020',\n",
       " 'Avengers: Infinity War': '2011 to 2020',\n",
       " 'Zodiac': '2001 to 2010',\n",
       " 'Top Gun: Maverick': '2021 to 2030',\n",
       " 'Space Jam: A New Legacy': '2021 to 2030',\n",
       " 'The Big Short': '2011 to 2020'}"
      ]
     },
     "execution_count": 21,
     "metadata": {},
     "output_type": "execute_result"
    }
   ],
   "source": [
    "# compute and store the answer in the variable 'movies_with_decade', then display it\n",
    "movies_with_decade = {}\n",
    "for movie in movies_data:\n",
    "    year = movie['year']\n",
    "    decade = year_to_decade(year)\n",
    "    title = movie['title']\n",
    "    movies_with_decade[title] = decade\n",
    "movies_with_decade"
   ]
  },
  {
   "cell_type": "code",
   "execution_count": 22,
   "id": "ec6bbbd4",
   "metadata": {
    "deletable": false,
    "editable": false
   },
   "outputs": [
    {
     "data": {
      "text/html": [
       "<p><strong><pre style='display: inline;'>q3</pre></strong> passed!</p>"
      ],
      "text/plain": [
       "q3 results: All test cases passed!"
      ]
     },
     "execution_count": 22,
     "metadata": {},
     "output_type": "execute_result"
    }
   ],
   "source": [
    "grader.check(\"q3\")"
   ]
  },
  {
   "cell_type": "markdown",
   "id": "28348b71",
   "metadata": {},
   "source": [
    "**Question 4**: Calculate the **average** `rating` of movies in the **decade** *2011 to 2020*.\n",
    "\n",
    "**Hint:** You can loop through `movies_data` for each movie and use `movies_with_decade` to check which **decade** each movie is from."
   ]
  },
  {
   "cell_type": "code",
   "execution_count": 24,
   "id": "b16f9f05",
   "metadata": {
    "tags": []
   },
   "outputs": [
    {
     "data": {
      "text/plain": [
       "8.666666666666668"
      ]
     },
     "execution_count": 24,
     "metadata": {},
     "output_type": "execute_result"
    }
   ],
   "source": [
    "# compute and store the answer in the variable 'avg_rating_2011_2020', then display it\n",
    "avg_rating_2011_2020 = 0\n",
    "total = 0\n",
    "for movie in movies_data:\n",
    "    year = movie['year']\n",
    "    decade = year_to_decade(year)\n",
    "    if decade == '2011 to 2020':\n",
    "        avg_rating_2011_2020 += movie['rating']\n",
    "        total +=1\n",
    "avg_rating_2011_2020 = avg_rating_2011_2020/total\n",
    "avg_rating_2011_2020"
   ]
  },
  {
   "cell_type": "code",
   "execution_count": 25,
   "id": "e71aaf77",
   "metadata": {
    "deletable": false,
    "editable": false
   },
   "outputs": [
    {
     "data": {
      "text/html": [
       "<p><strong><pre style='display: inline;'>q4</pre></strong> passed!</p>"
      ],
      "text/plain": [
       "q4 results: All test cases passed!"
      ]
     },
     "execution_count": 25,
     "metadata": {},
     "output_type": "execute_result"
    }
   ],
   "source": [
    "grader.check(\"q4\")"
   ]
  },
  {
   "cell_type": "markdown",
   "id": "5719558b",
   "metadata": {},
   "source": [
    "## Segment 4: Sorting Dictionaries\n",
    "\n",
    "It would be useful if we could somehow **sort** **dictionaries**. Recall however, that Python does not distinguish between two dictionaries which have keys stored in different orders. To test this, run the following cell:"
   ]
  },
  {
   "cell_type": "code",
   "execution_count": 26,
   "id": "9e1527bd",
   "metadata": {},
   "outputs": [
    {
     "data": {
      "text/plain": [
       "True"
      ]
     },
     "execution_count": 26,
     "metadata": {},
     "output_type": "execute_result"
    }
   ],
   "source": [
    "# two dictionaries with the same key/value pairs in different orders\n",
    "dict_a = {'C': 'S', 2: 20}\n",
    "dict_b = {2: 20, 'C': 'S'}\n",
    "\n",
    "# test if dict_a and dict_b store the same value\n",
    "dict_a == dict_b"
   ]
  },
  {
   "cell_type": "markdown",
   "id": "a2560d22",
   "metadata": {},
   "source": [
    "Therefore, if we want to **sort** the data stored in a **dictionary**, you must *first* typecast it into some other data type, which has an order. One way to do this is to **convert** it into a **list** of **tuples**, and then **sort** the **list**. The **dict.items()** method will be useful for us here.\n",
    "\n",
    "In Task 2.2, we created the variable `plot_movies_data`. It looks like this:\n",
    "\n",
    "```python\n",
    "{'The Trees of the East': 71,\n",
    " 'Avengers: Infinity War': 149,\n",
    " 'Zodiac': 157,\n",
    " 'Top Gun: Maverick': 130,\n",
    " 'Space Jam: A New Legacy': 115,\n",
    " 'The Big Short': 130}\n",
    "```\n",
    "\n",
    "Here's what `list(plot_movies_data.items())` looks like:\n",
    "```python\n",
    "[('The Trees of the East', 71),\n",
    " ('Avengers: Infinity War', 149),\n",
    " ('Zodiac', 157),\n",
    " ('Top Gun: Maverick', 130),\n",
    " ('Space Jam: A New Legacy', 115),\n",
    " ('The Big Short', 130)]\n",
    "```\n",
    "This **list** of **tuples** can now be sorted."
   ]
  },
  {
   "cell_type": "markdown",
   "id": "322c8479",
   "metadata": {},
   "source": [
    "### Task 4.1: Sort `plot_movies_data` by title\n",
    "\n",
    "We will start simple by **sorting** the **dictionary** by the `title`."
   ]
  },
  {
   "cell_type": "markdown",
   "id": "2b1b32e2",
   "metadata": {},
   "source": [
    "**Question 5**: Sort the `plot_movies_data` **dictionary** in alphabetical order of the `title`.\n",
    "\n",
    "**Hint:** Note that in each **tuple**, the `title` appears at index *0* followed by the `duration` at index *1*. By default, when you **sort** a **list** of **tuples**, you will **sort** the **tuples** by the values at index *0*. So, you can answer this question by just **sorting** the **list** of **items** in `plot_movies_data`."
   ]
  },
  {
   "cell_type": "code",
   "execution_count": 27,
   "id": "42ba5e4f",
   "metadata": {},
   "outputs": [
    {
     "data": {
      "text/plain": [
       "{'The Trees of the East': 71,\n",
       " 'Avengers: Infinity War': 149,\n",
       " 'Zodiac': 157,\n",
       " 'Top Gun: Maverick': 130,\n",
       " 'Space Jam: A New Legacy': 115,\n",
       " 'The Big Short': 130}"
      ]
     },
     "execution_count": 27,
     "metadata": {},
     "output_type": "execute_result"
    }
   ],
   "source": [
    "plot_movies_data"
   ]
  },
  {
   "cell_type": "code",
   "execution_count": 34,
   "id": "1c6c4ad1",
   "metadata": {
    "tags": []
   },
   "outputs": [
    {
     "data": {
      "text/plain": [
       "[('Avengers: Infinity War', 149),\n",
       " ('Space Jam: A New Legacy', 115),\n",
       " ('The Big Short', 130),\n",
       " ('The Trees of the East', 71),\n",
       " ('Top Gun: Maverick', 130),\n",
       " ('Zodiac', 157)]"
      ]
     },
     "execution_count": 34,
     "metadata": {},
     "output_type": "execute_result"
    }
   ],
   "source": [
    "# replace the ... with your code\n",
    "\n",
    "sorted_plot_movies_data = sorted(plot_movies_data.items())\n",
    "\n",
    "sorted_plot_movies_data"
   ]
  },
  {
   "cell_type": "code",
   "execution_count": 35,
   "id": "f8b30059",
   "metadata": {
    "deletable": false,
    "editable": false
   },
   "outputs": [
    {
     "data": {
      "text/html": [
       "<p><strong><pre style='display: inline;'>q5</pre></strong> passed!</p>"
      ],
      "text/plain": [
       "q5 results: All test cases passed!"
      ]
     },
     "execution_count": 35,
     "metadata": {},
     "output_type": "execute_result"
    }
   ],
   "source": [
    "grader.check(\"q5\")"
   ]
  },
  {
   "cell_type": "markdown",
   "id": "04ca8ef1",
   "metadata": {},
   "source": [
    "### Task 4.2: Sort `plot_movies_data` by `duration`\n",
    "\n",
    "Note that by default, the **tuples** were sorted by the value at index *0*, which was also the **key** of the **dictionary**. This time, let us try to **sort** the **dictionary** by its **values**. i.e. we want to sort the movies in **ascending order** of their `durations`.\n",
    "\n",
    "To **sort** by **values**, we need to use a **keyword argument** to identify a **function reference**."
   ]
  },
  {
   "cell_type": "markdown",
   "id": "242d284a",
   "metadata": {},
   "source": [
    "**Question 6**: Sort `plot_movies_data` by duration (from shortest to longest)"
   ]
  },
  {
   "cell_type": "code",
   "execution_count": 36,
   "id": "de582042",
   "metadata": {
    "scrolled": true,
    "tags": []
   },
   "outputs": [
    {
     "data": {
      "text/plain": [
       "[('The Trees of the East', 71),\n",
       " ('Space Jam: A New Legacy', 115),\n",
       " ('Top Gun: Maverick', 130),\n",
       " ('The Big Short', 130),\n",
       " ('Avengers: Infinity War', 149),\n",
       " ('Zodiac', 157)]"
      ]
     },
     "execution_count": 36,
     "metadata": {},
     "output_type": "execute_result"
    }
   ],
   "source": [
    "# we have done this for you\n",
    "\n",
    "def get_value(item):\n",
    "    '''get_value(item) takes in a tuple item = (key, value)\n",
    "    and returns the value which is at index 1 of the tuple'''\n",
    "    return item[1]\n",
    "\n",
    "# the elemtents of the list list(plot_movies_data.items()) are\n",
    "# sorted by the value returned by the function get_value\n",
    "sorted_plot_movies_data_duration = sorted(list(plot_movies_data.items()), key=get_value)\n",
    "\n",
    "sorted_plot_movies_data_duration"
   ]
  },
  {
   "cell_type": "code",
   "execution_count": 37,
   "id": "f6831043",
   "metadata": {
    "deletable": false,
    "editable": false
   },
   "outputs": [
    {
     "data": {
      "text/html": [
       "<p><strong><pre style='display: inline;'>q6</pre></strong> passed!</p>"
      ],
      "text/plain": [
       "q6 results: All test cases passed!"
      ]
     },
     "execution_count": 37,
     "metadata": {},
     "output_type": "execute_result"
    }
   ],
   "source": [
    "grader.check(\"q6\")"
   ]
  },
  {
   "cell_type": "markdown",
   "id": "2ebd5d00",
   "metadata": {},
   "source": [
    "**Question 7**: What is the `title` of the **shortest** movie in the dataset?\n",
    "\n",
    "You **must** use `sorted_plot_movies_data_duration` to answer this question.\n",
    "\n",
    "You are **allowed** to use the fact that `sorted_plot_movies_data_duration` is sorted in **increasing** order of the `duration`, and the fact that each entry of the **list** is a **tuple** of the format `(<title>, <duration>)` to **index** from `sorted_plot_movies_data_duration`."
   ]
  },
  {
   "cell_type": "code",
   "execution_count": 49,
   "id": "617e360e",
   "metadata": {
    "tags": []
   },
   "outputs": [
    {
     "data": {
      "text/plain": [
       "'The Trees of the East'"
      ]
     },
     "execution_count": 49,
     "metadata": {},
     "output_type": "execute_result"
    }
   ],
   "source": [
    "# compute and store the answer in the variable 'shortest_movie', then display it\n",
    "shortest_movie = sorted_plot_movies_data_duration[0][0] \n",
    "shortest_movie"
   ]
  },
  {
   "cell_type": "code",
   "execution_count": 50,
   "id": "0e648527",
   "metadata": {
    "deletable": false,
    "editable": false
   },
   "outputs": [
    {
     "data": {
      "text/html": [
       "<p><strong><pre style='display: inline;'>q7</pre></strong> passed!</p>"
      ],
      "text/plain": [
       "q7 results: All test cases passed!"
      ]
     },
     "execution_count": 50,
     "metadata": {},
     "output_type": "execute_result"
    }
   ],
   "source": [
    "grader.check(\"q7\")"
   ]
  },
  {
   "cell_type": "markdown",
   "id": "b1929505",
   "metadata": {},
   "source": [
    "## Segement 5: Sorting a List of Dictionaries by any Key\n",
    "\n",
    "In the past, you have already sorted **lists** made up of **integers**, **floats**, and **strings**. You were able to sort those **lists** because these data types (i.e. **integers**, **floats**, and **strings**) can be **compared** with each other. For example, the expressions: `3 > 1`, `2.5 < 6.1`, and `'a' > 'A'` are valid (and evaluate to `True`). However, an expression such as `dict_a > dict_b` would result in a **TypeError** since the `>` operation is **not** supported between two **dictionaries**.\n",
    "\n",
    "Therefore, if we want to **sort** a **list** of **dictionaries**, we will have to tell Python what to sort the **dictionaries** by. Given our `movies_data` **list** of **dictionaries**, over the next few questions, you will **sort** by the **values** attached to different **keys**.\n",
    "\n",
    "For example, you could sort `movies_data` by the `year` of release of the movies. In such an instance, you would want to define a function that takes in each element of the list `movies_data` (in this case, movie **dictionaries**) and returns the **value** of the `year` key. Then, if you **sort** `movies_data` by passing this function as a keyword argument to the `key` parameter, then you would **sort** the **list** of **dictionaries** `movies_data` by their `year` of release."
   ]
  },
  {
   "cell_type": "markdown",
   "id": "cec0a462",
   "metadata": {},
   "source": [
    "**Question 8**: Create a **list** of **dictionaries** that contains the movies in `movies_data` **sorted** based on the `year` of release of each movie, in **descending order**.\n",
    "\n",
    "You **must not** modify the original value of `movies_data` in any way.\n",
    "\n",
    "**Hint:** To sort the **list** in **descending order**, you can use the **keyword argument** `reverse=True`.\n",
    "\n",
    "You may also use a **lambda** function here as the argument to the `key` parameter, but this is **optional**. "
   ]
  },
  {
   "cell_type": "code",
   "execution_count": 58,
   "id": "237b7c28",
   "metadata": {},
   "outputs": [
    {
     "data": {
      "text/plain": [
       "2018"
      ]
     },
     "execution_count": 58,
     "metadata": {},
     "output_type": "execute_result"
    }
   ],
   "source": [
    "movies_data[0]['year']"
   ]
  },
  {
   "cell_type": "code",
   "execution_count": 63,
   "id": "b8d6f94b",
   "metadata": {
    "tags": []
   },
   "outputs": [
    {
     "data": {
      "text/plain": [
       "[{'title': 'Top Gun: Maverick',\n",
       "  'year': 2022,\n",
       "  'duration': 130,\n",
       "  'genres': ['Action', 'Drama'],\n",
       "  'rating': 8.4,\n",
       "  'directors': ['Joseph Kosinski'],\n",
       "  'cast': ['Tom Cruise', 'Jennifer Connelly', 'Miles Teller', 'Val Kilmer']},\n",
       " {'title': 'Space Jam: A New Legacy',\n",
       "  'year': 2021,\n",
       "  'duration': 115,\n",
       "  'genres': ['Adventure', 'Animation', 'Comedy'],\n",
       "  'rating': 4.5,\n",
       "  'directors': ['Malcolm D. Lee'],\n",
       "  'cast': ['LeBron James', 'Don Cheadle', 'Cedric Joe', 'Khris Davis']},\n",
       " {'title': 'The Trees of the East',\n",
       "  'year': 2018,\n",
       "  'duration': 71,\n",
       "  'genres': ['Thriller'],\n",
       "  'rating': 9.8,\n",
       "  'directors': ['Mike Ellwood'],\n",
       "  'cast': ['Pattyeffinmayo', 'Parlay Pass', 'Sia Poorak', 'Kandisha']},\n",
       " {'title': 'Avengers: Infinity War',\n",
       "  'year': 2018,\n",
       "  'duration': 149,\n",
       "  'genres': ['Action', 'Adventure', 'Sci-Fi'],\n",
       "  'rating': 8.4,\n",
       "  'directors': ['Anthony Russo', 'Joe Russo'],\n",
       "  'cast': ['Robert Downey Jr.',\n",
       "   'Chris Hemsworth',\n",
       "   'Mark Ruffalo',\n",
       "   'Chris Evans']},\n",
       " {'title': 'The Big Short',\n",
       "  'year': 2015,\n",
       "  'duration': 130,\n",
       "  'genres': ['Biography', 'Comedy', 'Drama'],\n",
       "  'rating': 7.8,\n",
       "  'directors': ['Adam McKay'],\n",
       "  'cast': ['Christian Bale', 'Steve Carell', 'Ryan Gosling', 'Brad Pitt']},\n",
       " {'title': 'Zodiac',\n",
       "  'year': 2007,\n",
       "  'duration': 157,\n",
       "  'genres': ['Crime', 'Drama', 'Mystery'],\n",
       "  'rating': 7.7,\n",
       "  'directors': ['David Fincher'],\n",
       "  'cast': ['Jake Gyllenhaal',\n",
       "   'Robert Downey Jr.',\n",
       "   'Mark Ruffalo',\n",
       "   'Anthony Edwards']}]"
      ]
     },
     "execution_count": 63,
     "metadata": {},
     "output_type": "execute_result"
    }
   ],
   "source": [
    "# compute and store the answer in the variable 'sorted_movies_data', then display it\n",
    "\n",
    "sorted_movies_data = sorted(movies_data, key= lambda movies: movies['year'], reverse = True)\n",
    "sorted_movies_data"
   ]
  },
  {
   "cell_type": "code",
   "execution_count": 64,
   "id": "c27ad902",
   "metadata": {
    "deletable": false,
    "editable": false
   },
   "outputs": [
    {
     "data": {
      "text/html": [
       "<p><strong><pre style='display: inline;'>q8</pre></strong> passed!</p>"
      ],
      "text/plain": [
       "q8 results: All test cases passed!"
      ]
     },
     "execution_count": 64,
     "metadata": {},
     "output_type": "execute_result"
    }
   ],
   "source": [
    "grader.check(\"q8\")"
   ]
  },
  {
   "cell_type": "markdown",
   "id": "641f3d90",
   "metadata": {},
   "source": [
    "**Question 9**: What is the `title` of the **second most recent** movie in the dataset?\n",
    "\n",
    "You **must** use `sorted_movies_data` to answer this question."
   ]
  },
  {
   "cell_type": "code",
   "execution_count": 67,
   "id": "46fe6bad",
   "metadata": {
    "tags": []
   },
   "outputs": [
    {
     "data": {
      "text/plain": [
       "'Space Jam: A New Legacy'"
      ]
     },
     "execution_count": 67,
     "metadata": {},
     "output_type": "execute_result"
    }
   ],
   "source": [
    "# compute and store the answer in the variable 'second_most_recent_movie', then display it\n",
    "second_most_recent_movie = sorted_movies_data[1]['title']\n",
    "second_most_recent_movie"
   ]
  },
  {
   "cell_type": "code",
   "execution_count": 68,
   "id": "517114da",
   "metadata": {
    "deletable": false,
    "editable": false
   },
   "outputs": [
    {
     "data": {
      "text/html": [
       "<p><strong><pre style='display: inline;'>q9</pre></strong> passed!</p>"
      ],
      "text/plain": [
       "q9 results: All test cases passed!"
      ]
     },
     "execution_count": 68,
     "metadata": {},
     "output_type": "execute_result"
    }
   ],
   "source": [
    "grader.check(\"q9\")"
   ]
  },
  {
   "cell_type": "markdown",
   "id": "6c434188",
   "metadata": {},
   "source": [
    "**Question 10**: How many `years` passed between the release of the **most recent** and the **oldest** movies in the dataset?\n",
    "\n",
    "You **must** use `sorted_movies_data` to answer this question."
   ]
  },
  {
   "cell_type": "code",
   "execution_count": 69,
   "id": "c6dfdbf0",
   "metadata": {
    "tags": []
   },
   "outputs": [
    {
     "data": {
      "text/plain": [
       "15"
      ]
     },
     "execution_count": 69,
     "metadata": {},
     "output_type": "execute_result"
    }
   ],
   "source": [
    "# compute and store the answer in the variable 'years_between', then display it\n",
    "years_between = sorted_movies_data[0]['year'] - sorted_movies_data[-1]['year']\n",
    "years_between"
   ]
  },
  {
   "cell_type": "code",
   "execution_count": 70,
   "id": "373e4152",
   "metadata": {
    "deletable": false,
    "editable": false
   },
   "outputs": [
    {
     "data": {
      "text/html": [
       "<p><strong><pre style='display: inline;'>q10</pre></strong> passed!</p>"
      ],
      "text/plain": [
       "q10 results: All test cases passed!"
      ]
     },
     "execution_count": 70,
     "metadata": {},
     "output_type": "execute_result"
    }
   ],
   "source": [
    "grader.check(\"q10\")"
   ]
  },
  {
   "cell_type": "markdown",
   "id": "d5d52147",
   "metadata": {},
   "source": [
    "## Segment 6: Bucketizing\n",
    "\n",
    "### Task 6.1: Bucketizing by `cast`"
   ]
  },
  {
   "cell_type": "markdown",
   "id": "7a701678",
   "metadata": {},
   "source": [
    "Let's make a bucketized dictionary `movies_by_cast` that has the name of each `cast` member mentioned in `movies_data` as a **key** and a **list** of movies they featured in as **values**. By list of movies, we mean a **list** of **dictionaries** - each **dictionary** represents a movie.\n",
    "\n",
    "Suggested Approach:\n",
    "1. Iterate over each **dictionary** in `movies_data`.\n",
    "2. Iterate over the **list** of `cast` members in each **dictionary**.\n",
    "3. For each `cast` member, check if they are already present in `movies_by_cast`. If they are **not** present, **initialize** their **value** as an **empty list**. The **key** will be the name of the `cast` member.\n",
    "4. For each `cast` member, **append** the current movie (as a **dictionary** with all the associated values) in `movies_data` to the corresponding **list** in `movies_by_cast`.\n",
    "\n",
    "Your output **must** look something like this:\n",
    "\n",
    "```python\n",
    "{\n",
    " 'Pattyeffinmayo': [{'title': 'The Trees of the East',\n",
    "   'year': 2018,\n",
    "   'duration': 71,\n",
    "   'genres': ['Thriller'],\n",
    "   'rating': 9.8,\n",
    "   'directors': ['Mike Ellwood'],\n",
    "   'cast': ['Pattyeffinmayo', 'Parlay Pass', 'Sia Poorak', 'Kandisha']}],\n",
    " 'Parlay Pass': [{'title': 'The Trees of the East',\n",
    "   'year': 2018,\n",
    "   'duration': 71,\n",
    "   'genres': ['Thriller'],\n",
    "   'rating': 9.8,\n",
    "   'directors': ['Mike Ellwood'],\n",
    "   'cast': ['Pattyeffinmayo', 'Parlay Pass', 'Sia Poorak', 'Kandisha']}],\n",
    " ...\n",
    "}\n",
    "```"
   ]
  },
  {
   "cell_type": "code",
   "execution_count": 79,
   "id": "1539df87",
   "metadata": {
    "tags": []
   },
   "outputs": [
    {
     "data": {
      "text/plain": [
       "{'Pattyeffinmayo': [{'title': 'The Trees of the East',\n",
       "   'year': 2018,\n",
       "   'duration': 71,\n",
       "   'genres': ['Thriller'],\n",
       "   'rating': 9.8,\n",
       "   'directors': ['Mike Ellwood'],\n",
       "   'cast': ['Pattyeffinmayo', 'Parlay Pass', 'Sia Poorak', 'Kandisha']}],\n",
       " 'Parlay Pass': [{'title': 'The Trees of the East',\n",
       "   'year': 2018,\n",
       "   'duration': 71,\n",
       "   'genres': ['Thriller'],\n",
       "   'rating': 9.8,\n",
       "   'directors': ['Mike Ellwood'],\n",
       "   'cast': ['Pattyeffinmayo', 'Parlay Pass', 'Sia Poorak', 'Kandisha']}],\n",
       " 'Sia Poorak': [{'title': 'The Trees of the East',\n",
       "   'year': 2018,\n",
       "   'duration': 71,\n",
       "   'genres': ['Thriller'],\n",
       "   'rating': 9.8,\n",
       "   'directors': ['Mike Ellwood'],\n",
       "   'cast': ['Pattyeffinmayo', 'Parlay Pass', 'Sia Poorak', 'Kandisha']}],\n",
       " 'Kandisha': [{'title': 'The Trees of the East',\n",
       "   'year': 2018,\n",
       "   'duration': 71,\n",
       "   'genres': ['Thriller'],\n",
       "   'rating': 9.8,\n",
       "   'directors': ['Mike Ellwood'],\n",
       "   'cast': ['Pattyeffinmayo', 'Parlay Pass', 'Sia Poorak', 'Kandisha']}],\n",
       " 'Robert Downey Jr.': [{'title': 'Avengers: Infinity War',\n",
       "   'year': 2018,\n",
       "   'duration': 149,\n",
       "   'genres': ['Action', 'Adventure', 'Sci-Fi'],\n",
       "   'rating': 8.4,\n",
       "   'directors': ['Anthony Russo', 'Joe Russo'],\n",
       "   'cast': ['Robert Downey Jr.',\n",
       "    'Chris Hemsworth',\n",
       "    'Mark Ruffalo',\n",
       "    'Chris Evans']},\n",
       "  {'title': 'Zodiac',\n",
       "   'year': 2007,\n",
       "   'duration': 157,\n",
       "   'genres': ['Crime', 'Drama', 'Mystery'],\n",
       "   'rating': 7.7,\n",
       "   'directors': ['David Fincher'],\n",
       "   'cast': ['Jake Gyllenhaal',\n",
       "    'Robert Downey Jr.',\n",
       "    'Mark Ruffalo',\n",
       "    'Anthony Edwards']}],\n",
       " 'Chris Hemsworth': [{'title': 'Avengers: Infinity War',\n",
       "   'year': 2018,\n",
       "   'duration': 149,\n",
       "   'genres': ['Action', 'Adventure', 'Sci-Fi'],\n",
       "   'rating': 8.4,\n",
       "   'directors': ['Anthony Russo', 'Joe Russo'],\n",
       "   'cast': ['Robert Downey Jr.',\n",
       "    'Chris Hemsworth',\n",
       "    'Mark Ruffalo',\n",
       "    'Chris Evans']}],\n",
       " 'Mark Ruffalo': [{'title': 'Avengers: Infinity War',\n",
       "   'year': 2018,\n",
       "   'duration': 149,\n",
       "   'genres': ['Action', 'Adventure', 'Sci-Fi'],\n",
       "   'rating': 8.4,\n",
       "   'directors': ['Anthony Russo', 'Joe Russo'],\n",
       "   'cast': ['Robert Downey Jr.',\n",
       "    'Chris Hemsworth',\n",
       "    'Mark Ruffalo',\n",
       "    'Chris Evans']},\n",
       "  {'title': 'Zodiac',\n",
       "   'year': 2007,\n",
       "   'duration': 157,\n",
       "   'genres': ['Crime', 'Drama', 'Mystery'],\n",
       "   'rating': 7.7,\n",
       "   'directors': ['David Fincher'],\n",
       "   'cast': ['Jake Gyllenhaal',\n",
       "    'Robert Downey Jr.',\n",
       "    'Mark Ruffalo',\n",
       "    'Anthony Edwards']}],\n",
       " 'Chris Evans': [{'title': 'Avengers: Infinity War',\n",
       "   'year': 2018,\n",
       "   'duration': 149,\n",
       "   'genres': ['Action', 'Adventure', 'Sci-Fi'],\n",
       "   'rating': 8.4,\n",
       "   'directors': ['Anthony Russo', 'Joe Russo'],\n",
       "   'cast': ['Robert Downey Jr.',\n",
       "    'Chris Hemsworth',\n",
       "    'Mark Ruffalo',\n",
       "    'Chris Evans']}],\n",
       " 'Jake Gyllenhaal': [{'title': 'Zodiac',\n",
       "   'year': 2007,\n",
       "   'duration': 157,\n",
       "   'genres': ['Crime', 'Drama', 'Mystery'],\n",
       "   'rating': 7.7,\n",
       "   'directors': ['David Fincher'],\n",
       "   'cast': ['Jake Gyllenhaal',\n",
       "    'Robert Downey Jr.',\n",
       "    'Mark Ruffalo',\n",
       "    'Anthony Edwards']}],\n",
       " 'Anthony Edwards': [{'title': 'Zodiac',\n",
       "   'year': 2007,\n",
       "   'duration': 157,\n",
       "   'genres': ['Crime', 'Drama', 'Mystery'],\n",
       "   'rating': 7.7,\n",
       "   'directors': ['David Fincher'],\n",
       "   'cast': ['Jake Gyllenhaal',\n",
       "    'Robert Downey Jr.',\n",
       "    'Mark Ruffalo',\n",
       "    'Anthony Edwards']}],\n",
       " 'Tom Cruise': [{'title': 'Top Gun: Maverick',\n",
       "   'year': 2022,\n",
       "   'duration': 130,\n",
       "   'genres': ['Action', 'Drama'],\n",
       "   'rating': 8.4,\n",
       "   'directors': ['Joseph Kosinski'],\n",
       "   'cast': ['Tom Cruise', 'Jennifer Connelly', 'Miles Teller', 'Val Kilmer']}],\n",
       " 'Jennifer Connelly': [{'title': 'Top Gun: Maverick',\n",
       "   'year': 2022,\n",
       "   'duration': 130,\n",
       "   'genres': ['Action', 'Drama'],\n",
       "   'rating': 8.4,\n",
       "   'directors': ['Joseph Kosinski'],\n",
       "   'cast': ['Tom Cruise', 'Jennifer Connelly', 'Miles Teller', 'Val Kilmer']}],\n",
       " 'Miles Teller': [{'title': 'Top Gun: Maverick',\n",
       "   'year': 2022,\n",
       "   'duration': 130,\n",
       "   'genres': ['Action', 'Drama'],\n",
       "   'rating': 8.4,\n",
       "   'directors': ['Joseph Kosinski'],\n",
       "   'cast': ['Tom Cruise', 'Jennifer Connelly', 'Miles Teller', 'Val Kilmer']}],\n",
       " 'Val Kilmer': [{'title': 'Top Gun: Maverick',\n",
       "   'year': 2022,\n",
       "   'duration': 130,\n",
       "   'genres': ['Action', 'Drama'],\n",
       "   'rating': 8.4,\n",
       "   'directors': ['Joseph Kosinski'],\n",
       "   'cast': ['Tom Cruise', 'Jennifer Connelly', 'Miles Teller', 'Val Kilmer']}],\n",
       " 'LeBron James': [{'title': 'Space Jam: A New Legacy',\n",
       "   'year': 2021,\n",
       "   'duration': 115,\n",
       "   'genres': ['Adventure', 'Animation', 'Comedy'],\n",
       "   'rating': 4.5,\n",
       "   'directors': ['Malcolm D. Lee'],\n",
       "   'cast': ['LeBron James', 'Don Cheadle', 'Cedric Joe', 'Khris Davis']}],\n",
       " 'Don Cheadle': [{'title': 'Space Jam: A New Legacy',\n",
       "   'year': 2021,\n",
       "   'duration': 115,\n",
       "   'genres': ['Adventure', 'Animation', 'Comedy'],\n",
       "   'rating': 4.5,\n",
       "   'directors': ['Malcolm D. Lee'],\n",
       "   'cast': ['LeBron James', 'Don Cheadle', 'Cedric Joe', 'Khris Davis']}],\n",
       " 'Cedric Joe': [{'title': 'Space Jam: A New Legacy',\n",
       "   'year': 2021,\n",
       "   'duration': 115,\n",
       "   'genres': ['Adventure', 'Animation', 'Comedy'],\n",
       "   'rating': 4.5,\n",
       "   'directors': ['Malcolm D. Lee'],\n",
       "   'cast': ['LeBron James', 'Don Cheadle', 'Cedric Joe', 'Khris Davis']}],\n",
       " 'Khris Davis': [{'title': 'Space Jam: A New Legacy',\n",
       "   'year': 2021,\n",
       "   'duration': 115,\n",
       "   'genres': ['Adventure', 'Animation', 'Comedy'],\n",
       "   'rating': 4.5,\n",
       "   'directors': ['Malcolm D. Lee'],\n",
       "   'cast': ['LeBron James', 'Don Cheadle', 'Cedric Joe', 'Khris Davis']}],\n",
       " 'Christian Bale': [{'title': 'The Big Short',\n",
       "   'year': 2015,\n",
       "   'duration': 130,\n",
       "   'genres': ['Biography', 'Comedy', 'Drama'],\n",
       "   'rating': 7.8,\n",
       "   'directors': ['Adam McKay'],\n",
       "   'cast': ['Christian Bale', 'Steve Carell', 'Ryan Gosling', 'Brad Pitt']}],\n",
       " 'Steve Carell': [{'title': 'The Big Short',\n",
       "   'year': 2015,\n",
       "   'duration': 130,\n",
       "   'genres': ['Biography', 'Comedy', 'Drama'],\n",
       "   'rating': 7.8,\n",
       "   'directors': ['Adam McKay'],\n",
       "   'cast': ['Christian Bale', 'Steve Carell', 'Ryan Gosling', 'Brad Pitt']}],\n",
       " 'Ryan Gosling': [{'title': 'The Big Short',\n",
       "   'year': 2015,\n",
       "   'duration': 130,\n",
       "   'genres': ['Biography', 'Comedy', 'Drama'],\n",
       "   'rating': 7.8,\n",
       "   'directors': ['Adam McKay'],\n",
       "   'cast': ['Christian Bale', 'Steve Carell', 'Ryan Gosling', 'Brad Pitt']}],\n",
       " 'Brad Pitt': [{'title': 'The Big Short',\n",
       "   'year': 2015,\n",
       "   'duration': 130,\n",
       "   'genres': ['Biography', 'Comedy', 'Drama'],\n",
       "   'rating': 7.8,\n",
       "   'directors': ['Adam McKay'],\n",
       "   'cast': ['Christian Bale', 'Steve Carell', 'Ryan Gosling', 'Brad Pitt']}]}"
      ]
     },
     "execution_count": 79,
     "metadata": {},
     "output_type": "execute_result"
    }
   ],
   "source": [
    "# replace the ... with your code\n",
    "\n",
    "movies_by_cast = {}\n",
    "for movie in movies_data:\n",
    "    for cast_member in movie['cast']:\n",
    "        if cast_member not in movies_by_cast:\n",
    "            movies_by_cast[cast_member] = []\n",
    "        movies_by_cast[cast_member].append(movie)\n",
    "\n",
    "movies_by_cast"
   ]
  },
  {
   "cell_type": "code",
   "execution_count": 80,
   "id": "3a3a9aef",
   "metadata": {
    "deletable": false,
    "editable": false
   },
   "outputs": [
    {
     "data": {
      "text/html": [
       "<p><strong><pre style='display: inline;'>movies-by-cast</pre></strong> passed!</p>"
      ],
      "text/plain": [
       "movies-by-cast results: All test cases passed!"
      ]
     },
     "execution_count": 80,
     "metadata": {},
     "output_type": "execute_result"
    }
   ],
   "source": [
    "grader.check(\"movies-by-cast\")"
   ]
  },
  {
   "cell_type": "markdown",
   "id": "77b8af3b",
   "metadata": {},
   "source": [
    "**Question 11**: How **many** movies from the dataset has *Mark Ruffalo* acted in?\n",
    "\n",
    "You **must** use `movies_by_cast` to answer this question."
   ]
  },
  {
   "cell_type": "code",
   "execution_count": 82,
   "id": "15e15292",
   "metadata": {
    "tags": []
   },
   "outputs": [
    {
     "data": {
      "text/plain": [
       "2"
      ]
     },
     "execution_count": 82,
     "metadata": {},
     "output_type": "execute_result"
    }
   ],
   "source": [
    "# compute and store the answer in the variable 'mark_ruffalo_movies', then display it\n",
    "mark_ruffalo_movies = len(movies_by_cast['Mark Ruffalo'])\n",
    "mark_ruffalo_movies"
   ]
  },
  {
   "cell_type": "code",
   "execution_count": 83,
   "id": "30051026",
   "metadata": {
    "deletable": false,
    "editable": false
   },
   "outputs": [
    {
     "data": {
      "text/html": [
       "<p><strong><pre style='display: inline;'>q11</pre></strong> passed!</p>"
      ],
      "text/plain": [
       "q11 results: All test cases passed!"
      ]
     },
     "execution_count": 83,
     "metadata": {},
     "output_type": "execute_result"
    }
   ],
   "source": [
    "grader.check(\"q11\")"
   ]
  },
  {
   "cell_type": "markdown",
   "id": "97324766",
   "metadata": {},
   "source": [
    "**Question 12**: How **many** movies from the dataset has *LeBron James* acted in?\n",
    "\n",
    "You **must** use `movies_by_cast` to answer this question."
   ]
  },
  {
   "cell_type": "code",
   "execution_count": 84,
   "id": "db805078",
   "metadata": {
    "tags": []
   },
   "outputs": [
    {
     "data": {
      "text/plain": [
       "1"
      ]
     },
     "execution_count": 84,
     "metadata": {},
     "output_type": "execute_result"
    }
   ],
   "source": [
    "# compute and store the answer in the variable 'lebron_james_movies', then display it\n",
    "lebron_james_movies = len(movies_by_cast['LeBron James'])\n",
    "lebron_james_movies"
   ]
  },
  {
   "cell_type": "code",
   "execution_count": 85,
   "id": "16bd6f90",
   "metadata": {
    "deletable": false,
    "editable": false
   },
   "outputs": [
    {
     "data": {
      "text/html": [
       "<p><strong><pre style='display: inline;'>q12</pre></strong> passed!</p>"
      ],
      "text/plain": [
       "q12 results: All test cases passed!"
      ]
     },
     "execution_count": 85,
     "metadata": {},
     "output_type": "execute_result"
    }
   ],
   "source": [
    "grader.check(\"q12\")"
   ]
  },
  {
   "cell_type": "markdown",
   "id": "a6d94e3c",
   "metadata": {},
   "source": [
    "**Question 13**: Which `cast` member has featured in the **most** number of movies?\n",
    "\n",
    "You **must** use `movies_by_cast` to answer this question. You **must** find the `cast` member whose **list** of movies has the **most** movies in it. If there is a **tie**, please choose the `cast` member whom you see **first** in the `movies_by_cast`."
   ]
  },
  {
   "cell_type": "code",
   "execution_count": 87,
   "id": "dacdcb98",
   "metadata": {
    "tags": []
   },
   "outputs": [
    {
     "data": {
      "text/plain": [
       "'Robert Downey Jr.'"
      ]
     },
     "execution_count": 87,
     "metadata": {},
     "output_type": "execute_result"
    }
   ],
   "source": [
    "# compute and store the answer in the variable 'most_movies_cast', then display it\n",
    "most_movies_cast = None\n",
    "for person in movies_by_cast:\n",
    "    if most_movies_cast == None:\n",
    "        most_movies_cast = person\n",
    "    elif len(movies_by_cast[person])> len(movies_by_cast[most_movies_cast]):\n",
    "        most_movies_cast =person\n",
    "most_movies_cast"
   ]
  },
  {
   "cell_type": "code",
   "execution_count": 88,
   "id": "753a99ab",
   "metadata": {
    "deletable": false,
    "editable": false
   },
   "outputs": [
    {
     "data": {
      "text/html": [
       "<p><strong><pre style='display: inline;'>q13</pre></strong> passed!</p>"
      ],
      "text/plain": [
       "q13 results: All test cases passed!"
      ]
     },
     "execution_count": 88,
     "metadata": {},
     "output_type": "execute_result"
    }
   ],
   "source": [
    "grader.check(\"q13\")"
   ]
  },
  {
   "cell_type": "markdown",
   "id": "72264674",
   "metadata": {},
   "source": [
    "## Segment 7: Comprehensions\n",
    "\n",
    "We can write comprehensions on dictionaries to form lists or to form new dictionaries. For example, let's compute the median ratings of the movies in `movies_data`."
   ]
  },
  {
   "cell_type": "markdown",
   "id": "83e2b46e",
   "metadata": {},
   "source": [
    "### Task 7.1: Write the `median` function\n",
    "\n",
    "Recall that you wrote a `median` function in lab-p6. You can copy/paste that function to your notebook here."
   ]
  },
  {
   "cell_type": "code",
   "execution_count": 89,
   "id": "4bd1b1ac",
   "metadata": {
    "tags": []
   },
   "outputs": [],
   "source": [
    "# copy/paste the median function you had defined in lab-p6\n",
    "def median(items):\n",
    "    \"\"\"\n",
    "    median(items) returns the median of the list `items`\n",
    "    \"\"\"\n",
    "    sorted_list = sorted(items)\n",
    "    \n",
    "    list_len = len(sorted_list)\n",
    "    if list_len%2==1: \n",
    "        return sorted_list[list_len//2]\n",
    "    else:\n",
    "        first_middle = sorted_list[list_len//2-1] \n",
    "        second_middle = sorted_list[list_len//2] \n",
    "        return (first_middle + second_middle) /2\n"
   ]
  },
  {
   "cell_type": "markdown",
   "id": "6f21cf97",
   "metadata": {},
   "source": [
    "### Task 7.2: Create a list of ratings using list comprehension"
   ]
  },
  {
   "cell_type": "markdown",
   "id": "ae39d59a",
   "metadata": {},
   "source": [
    "**Question 14**: Find the **median** `rating` of all the movies in `movies_data`."
   ]
  },
  {
   "cell_type": "code",
   "execution_count": 90,
   "id": "684ee05c",
   "metadata": {
    "tags": []
   },
   "outputs": [
    {
     "data": {
      "text/plain": [
       "8.1"
      ]
     },
     "execution_count": 90,
     "metadata": {},
     "output_type": "execute_result"
    }
   ],
   "source": [
    "# we have done this one for you\n",
    "\n",
    "# note the use of list comprehension here to create the list movie_ratings\n",
    "movie_ratings = [movie['rating'] for movie in movies_data]\n",
    "median_rating = median(movie_ratings)\n",
    "\n",
    "median_rating"
   ]
  },
  {
   "cell_type": "code",
   "execution_count": 91,
   "id": "844ea9f2",
   "metadata": {
    "deletable": false,
    "editable": false
   },
   "outputs": [
    {
     "data": {
      "text/html": [
       "<p><strong><pre style='display: inline;'>q14</pre></strong> passed!</p>"
      ],
      "text/plain": [
       "q14 results: All test cases passed!"
      ]
     },
     "execution_count": 91,
     "metadata": {},
     "output_type": "execute_result"
    }
   ],
   "source": [
    "grader.check(\"q14\")"
   ]
  },
  {
   "cell_type": "markdown",
   "id": "15f4f8fa",
   "metadata": {},
   "source": [
    "### Task 7.3: More list comprehension"
   ]
  },
  {
   "cell_type": "markdown",
   "id": "cc913d2c",
   "metadata": {},
   "source": [
    "**Question 15**: Create a **dictionary** with the **names** of the `cast` members as **keys** and a **list** of `ratings` of all their movies as the corresponding **values**. \n",
    "\n",
    "You **must** use **list comprehension** to create the **lists**.\n",
    "\n",
    "**Hint:** Loop through the **dictionary** `movies_by_cast`, and for each `cast` member, use **list comprehension** to create the **list** of `ratings` from the value in `movies_by_cast`."
   ]
  },
  {
   "cell_type": "code",
   "execution_count": 101,
   "id": "ed1a80be",
   "metadata": {
    "tags": []
   },
   "outputs": [
    {
     "data": {
      "text/plain": [
       "{'Pattyeffinmayo': [9.8],\n",
       " 'Parlay Pass': [9.8],\n",
       " 'Sia Poorak': [9.8],\n",
       " 'Kandisha': [9.8],\n",
       " 'Robert Downey Jr.': [8.4, 7.7],\n",
       " 'Chris Hemsworth': [8.4],\n",
       " 'Mark Ruffalo': [8.4, 7.7],\n",
       " 'Chris Evans': [8.4],\n",
       " 'Jake Gyllenhaal': [7.7],\n",
       " 'Anthony Edwards': [7.7],\n",
       " 'Tom Cruise': [8.4],\n",
       " 'Jennifer Connelly': [8.4],\n",
       " 'Miles Teller': [8.4],\n",
       " 'Val Kilmer': [8.4],\n",
       " 'LeBron James': [4.5],\n",
       " 'Don Cheadle': [4.5],\n",
       " 'Cedric Joe': [4.5],\n",
       " 'Khris Davis': [4.5],\n",
       " 'Christian Bale': [7.8],\n",
       " 'Steve Carell': [7.8],\n",
       " 'Ryan Gosling': [7.8],\n",
       " 'Brad Pitt': [7.8]}"
      ]
     },
     "execution_count": 101,
     "metadata": {},
     "output_type": "execute_result"
    }
   ],
   "source": [
    "# compute and store the answer in the variable 'ratings_by_cast', then display it\n",
    "ratings_by_cast = {}\n",
    "for cast in movies_by_cast:\n",
    "    ratings_by_cast[cast] = [movie['rating'] for movie in movies_by_cast[cast]]\n",
    "ratings_by_cast"
   ]
  },
  {
   "cell_type": "code",
   "execution_count": 102,
   "id": "e7b9238d",
   "metadata": {
    "deletable": false,
    "editable": false
   },
   "outputs": [
    {
     "data": {
      "text/html": [
       "<p><strong><pre style='display: inline;'>q15</pre></strong> passed!</p>"
      ],
      "text/plain": [
       "q15 results: All test cases passed!"
      ]
     },
     "execution_count": 102,
     "metadata": {},
     "output_type": "execute_result"
    }
   ],
   "source": [
    "grader.check(\"q15\")"
   ]
  },
  {
   "cell_type": "markdown",
   "id": "cb5760fd",
   "metadata": {},
   "source": [
    "**Question 16**: What is the **median** `rating` of movies starring *Robert Downey Jr.*?"
   ]
  },
  {
   "cell_type": "code",
   "execution_count": 105,
   "id": "08d22a5a",
   "metadata": {
    "tags": []
   },
   "outputs": [
    {
     "data": {
      "text/plain": [
       "8.05"
      ]
     },
     "execution_count": 105,
     "metadata": {},
     "output_type": "execute_result"
    }
   ],
   "source": [
    "# compute and store the answer in the variable 'robert_median_rating', then display it\n",
    "robert_median_rating = median(ratings_by_cast['Robert Downey Jr.'])\n",
    "robert_median_rating"
   ]
  },
  {
   "cell_type": "code",
   "execution_count": 106,
   "id": "b71db195",
   "metadata": {
    "deletable": false,
    "editable": false
   },
   "outputs": [
    {
     "data": {
      "text/html": [
       "<p><strong><pre style='display: inline;'>q16</pre></strong> passed!</p>"
      ],
      "text/plain": [
       "q16 results: All test cases passed!"
      ]
     },
     "execution_count": 106,
     "metadata": {},
     "output_type": "execute_result"
    }
   ],
   "source": [
    "grader.check(\"q16\")"
   ]
  },
  {
   "cell_type": "markdown",
   "id": "0a4dabd4",
   "metadata": {},
   "source": [
    "### Task 7.4: Create a dictionary of medians using dictionary comprehension"
   ]
  },
  {
   "cell_type": "markdown",
   "id": "d5d47b1f",
   "metadata": {},
   "source": [
    "**Question 17.1**: Create a new **dictionary** where the **key** is a `cast` member and the **value** is the **median** `rating` of their movies."
   ]
  },
  {
   "cell_type": "code",
   "execution_count": 107,
   "id": "17953980",
   "metadata": {
    "tags": []
   },
   "outputs": [
    {
     "data": {
      "text/plain": [
       "{'Pattyeffinmayo': 9.8,\n",
       " 'Parlay Pass': 9.8,\n",
       " 'Sia Poorak': 9.8,\n",
       " 'Kandisha': 9.8,\n",
       " 'Robert Downey Jr.': 8.05,\n",
       " 'Chris Hemsworth': 8.4,\n",
       " 'Mark Ruffalo': 8.05,\n",
       " 'Chris Evans': 8.4,\n",
       " 'Jake Gyllenhaal': 7.7,\n",
       " 'Anthony Edwards': 7.7,\n",
       " 'Tom Cruise': 8.4,\n",
       " 'Jennifer Connelly': 8.4,\n",
       " 'Miles Teller': 8.4,\n",
       " 'Val Kilmer': 8.4,\n",
       " 'LeBron James': 4.5,\n",
       " 'Don Cheadle': 4.5,\n",
       " 'Cedric Joe': 4.5,\n",
       " 'Khris Davis': 4.5,\n",
       " 'Christian Bale': 7.8,\n",
       " 'Steve Carell': 7.8,\n",
       " 'Ryan Gosling': 7.8,\n",
       " 'Brad Pitt': 7.8}"
      ]
     },
     "execution_count": 107,
     "metadata": {},
     "output_type": "execute_result"
    }
   ],
   "source": [
    "# we have done this one for you\n",
    "\n",
    "median_ratings_by_cast = {cast_member:median(ratings_by_cast[cast_member]) for cast_member in ratings_by_cast}\n",
    "\n",
    "median_ratings_by_cast"
   ]
  },
  {
   "cell_type": "code",
   "execution_count": 108,
   "id": "72c56834",
   "metadata": {
    "deletable": false,
    "editable": false
   },
   "outputs": [
    {
     "data": {
      "text/html": [
       "<p><strong><pre style='display: inline;'>q17-1</pre></strong> passed!</p>"
      ],
      "text/plain": [
       "q17-1 results: All test cases passed!"
      ]
     },
     "execution_count": 108,
     "metadata": {},
     "output_type": "execute_result"
    }
   ],
   "source": [
    "grader.check(\"q17-1\")"
   ]
  },
  {
   "attachments": {
    "median_rating.PNG": {
     "image/png": "[encoded data removed]"
    }
   },
   "cell_type": "markdown",
   "id": "0744797b",
   "metadata": {},
   "source": [
    "**Question 17.2**: **Plot** a bar graph of the **median** `rating` of each `cast` member.\n",
    "\n",
    "You **must** plot the **dictionary** `median_ratings_by_cast` to answer this question.\n",
    "\n",
    "**Important Warning:** `practice_test.py` and `p9_test.py` can check that the **dictionary** has the correct key/value pairs, but it **cannot** check if your plot appears on the screen, or whether the axes are correctly labelled. Your plots in p9 will be **manually graded**, and you will **lose points** if your plot is not visible, or if it is not properly labelled.\n",
    "\n",
    "Your plot should look like this:\n",
    "<div><img src=\"attachment:median_rating.PNG\" width=\"400\"/></div>"
   ]
  },
  {
   "cell_type": "code",
   "execution_count": 109,
   "id": "f8bb9258",
   "metadata": {
    "tags": []
   },
   "outputs": [
    {
     "data": {
      "image/png": "[encoded data removed]",
      "text/plain": [
       "<Figure size 432x288 with 1 Axes>"
      ]
     },
     "metadata": {
      "needs_background": "light"
     },
     "output_type": "display_data"
    }
   ],
   "source": [
    "# plot 'median_ratings_by_cast' with the y-axis labelled 'median rating'\n",
    "plot_dict(median_ratings_by_cast,'median rating')\n"
   ]
  },
  {
   "cell_type": "code",
   "execution_count": 110,
   "id": "621245d9",
   "metadata": {
    "deletable": false,
    "editable": false
   },
   "outputs": [
    {
     "data": {
      "text/html": [
       "<p><strong><pre style='display: inline;'>q17-2</pre></strong> passed!</p>"
      ],
      "text/plain": [
       "q17-2 results: All test cases passed!"
      ]
     },
     "execution_count": 110,
     "metadata": {},
     "output_type": "execute_result"
    }
   ],
   "source": [
    "grader.check(\"q17-2\")"
   ]
  },
  {
   "cell_type": "markdown",
   "id": "96ecab61",
   "metadata": {},
   "source": [
    "**Question 18.1**: Create a new **dictionary** where the **key** is a `cast` member and the **value** is the **maximum** `rating` among all of their movies.\n",
    "\n",
    "You **must** use **dictionary comprehension** to answer this question."
   ]
  },
  {
   "cell_type": "code",
   "execution_count": 112,
   "id": "bc847a9b",
   "metadata": {
    "tags": []
   },
   "outputs": [
    {
     "data": {
      "text/plain": [
       "{'Pattyeffinmayo': 9.8,\n",
       " 'Parlay Pass': 9.8,\n",
       " 'Sia Poorak': 9.8,\n",
       " 'Kandisha': 9.8,\n",
       " 'Robert Downey Jr.': 8.4,\n",
       " 'Chris Hemsworth': 8.4,\n",
       " 'Mark Ruffalo': 8.4,\n",
       " 'Chris Evans': 8.4,\n",
       " 'Jake Gyllenhaal': 7.7,\n",
       " 'Anthony Edwards': 7.7,\n",
       " 'Tom Cruise': 8.4,\n",
       " 'Jennifer Connelly': 8.4,\n",
       " 'Miles Teller': 8.4,\n",
       " 'Val Kilmer': 8.4,\n",
       " 'LeBron James': 4.5,\n",
       " 'Don Cheadle': 4.5,\n",
       " 'Cedric Joe': 4.5,\n",
       " 'Khris Davis': 4.5,\n",
       " 'Christian Bale': 7.8,\n",
       " 'Steve Carell': 7.8,\n",
       " 'Ryan Gosling': 7.8,\n",
       " 'Brad Pitt': 7.8}"
      ]
     },
     "execution_count": 112,
     "metadata": {},
     "output_type": "execute_result"
    }
   ],
   "source": [
    "# compute and store the answer in the variable 'max_ratings_by_cast', then display it\n",
    "max_ratings_by_cast = {cast: max(ratings_by_cast[cast]) for cast in ratings_by_cast}\n",
    "max_ratings_by_cast"
   ]
  },
  {
   "cell_type": "code",
   "execution_count": 113,
   "id": "ceea2b51",
   "metadata": {
    "deletable": false,
    "editable": false
   },
   "outputs": [
    {
     "data": {
      "text/html": [
       "<p><strong><pre style='display: inline;'>q18-1</pre></strong> passed!</p>"
      ],
      "text/plain": [
       "q18-1 results: All test cases passed!"
      ]
     },
     "execution_count": 113,
     "metadata": {},
     "output_type": "execute_result"
    }
   ],
   "source": [
    "grader.check(\"q18-1\")"
   ]
  },
  {
   "cell_type": "markdown",
   "id": "38800a79",
   "metadata": {},
   "source": [
    "**Question 18.2**: What is the **maximum** `rating` of any movie starring *Mark Ruffalo*?"
   ]
  },
  {
   "cell_type": "code",
   "execution_count": 114,
   "id": "d5431e25",
   "metadata": {
    "tags": []
   },
   "outputs": [
    {
     "data": {
      "text/plain": [
       "8.4"
      ]
     },
     "execution_count": 114,
     "metadata": {},
     "output_type": "execute_result"
    }
   ],
   "source": [
    "# compute and store the answer in the variable 'mark_ruffalo_max_rating', then display it\n",
    "mark_ruffalo_max_rating = max_ratings_by_cast['Mark Ruffalo']\n",
    "mark_ruffalo_max_rating"
   ]
  },
  {
   "cell_type": "code",
   "execution_count": 115,
   "id": "53e2dbfd",
   "metadata": {
    "deletable": false,
    "editable": false
   },
   "outputs": [
    {
     "data": {
      "text/html": [
       "<p><strong><pre style='display: inline;'>q18-2</pre></strong> passed!</p>"
      ],
      "text/plain": [
       "q18-2 results: All test cases passed!"
      ]
     },
     "execution_count": 115,
     "metadata": {},
     "output_type": "execute_result"
    }
   ],
   "source": [
    "grader.check(\"q18-2\")"
   ]
  },
  {
   "cell_type": "markdown",
   "id": "12332a06",
   "metadata": {},
   "source": [
    "**Question 19**: **Plot** a bar graph of the **maximum** `rating` of each `cast` member.\n",
    "\n",
    "You **must** plot the **dictionary** `max_ratings_by_cast` to answer this question.\n",
    "\n",
    "**Important Warning:** `practice_test.py` and `p9_test.py` can check that the **dictionary** has the correct key/value pairs, but it **cannot** check if your plot appears on the screen, or whether the axes are correctly labelled. Your plots in p9 will be **manually graded**, and you will **lose points** if your plot is not visible, or if it is not properly labelled.\n",
    "\n",
    "Your plot should look like this:\n",
    "<div><img src=\"attachment:max_rating.PNG\" width=\"400\"/></div>"
   ]
  },
  {
   "cell_type": "code",
   "execution_count": 116,
   "id": "c5901644",
   "metadata": {
    "tags": []
   },
   "outputs": [
    {
     "data": {
      "image/png": "[encoded data removed]",
      "text/plain": [
       "<Figure size 432x288 with 1 Axes>"
      ]
     },
     "metadata": {
      "needs_background": "light"
     },
     "output_type": "display_data"
    }
   ],
   "source": [
    "# plot 'max_ratings_by_cast' with the y-axis labelled 'maximum rating'\n",
    "plot_dict(max_ratings_by_cast,'maximum rating')"
   ]
  },
  {
   "cell_type": "code",
   "execution_count": 117,
   "id": "78886dad",
   "metadata": {
    "deletable": false,
    "editable": false
   },
   "outputs": [
    {
     "data": {
      "text/html": [
       "<p><strong><pre style='display: inline;'>q19</pre></strong> passed!</p>"
      ],
      "text/plain": [
       "q19 results: All test cases passed!"
      ]
     },
     "execution_count": 117,
     "metadata": {},
     "output_type": "execute_result"
    }
   ],
   "source": [
    "grader.check(\"q19\")"
   ]
  },
  {
   "cell_type": "markdown",
   "id": "2978449a",
   "metadata": {},
   "source": [
    "**Question 20**: Which `cast` member's **maximum** `rating` is the **lowest**?\n",
    "\n",
    "There will be **multiple** `cast` members having the **same** **lowest** `rating` so you will have to make a **list** containing **all** these names."
   ]
  },
  {
   "cell_type": "code",
   "execution_count": 119,
   "id": "0e5efdcf",
   "metadata": {
    "tags": []
   },
   "outputs": [
    {
     "data": {
      "text/plain": [
       "['LeBron James', 'Don Cheadle', 'Cedric Joe', 'Khris Davis']"
      ]
     },
     "execution_count": 119,
     "metadata": {},
     "output_type": "execute_result"
    }
   ],
   "source": [
    "# compute and store the answer in the variable 'lowest_max_rated_cast', then display it\n",
    "lowest_max_rated_cast = []\n",
    "min_value = 100\n",
    "for cast in max_ratings_by_cast:\n",
    "    if max_ratings_by_cast[cast]<min_value:\n",
    "        min_value = max_ratings_by_cast[cast]\n",
    "for cast in max_ratings_by_cast:\n",
    "    if max_ratings_by_cast[cast] == min_value:\n",
    "        lowest_max_rated_cast.append(cast)\n",
    "lowest_max_rated_cast"
   ]
  },
  {
   "cell_type": "code",
   "execution_count": 120,
   "id": "daa1617f",
   "metadata": {
    "deletable": false,
    "editable": false
   },
   "outputs": [
    {
     "data": {
      "text/html": [
       "<p><strong><pre style='display: inline;'>q20</pre></strong> passed!</p>"
      ],
      "text/plain": [
       "q20 results: All test cases passed!"
      ]
     },
     "execution_count": 120,
     "metadata": {},
     "output_type": "execute_result"
    }
   ],
   "source": [
    "grader.check(\"q20\")"
   ]
  },
  {
   "cell_type": "markdown",
   "id": "3388f531",
   "metadata": {},
   "source": [
    "## Great work! You are now ready to start p9."
   ]
  }
 ],
 "metadata": {
  "kernelspec": {
   "display_name": "Python 3 (ipykernel)",
   "language": "python",
   "name": "python3"
  },
  "language_info": {
   "codemirror_mode": {
    "name": "ipython",
    "version": 3
   },
   "file_extension": ".py",
   "mimetype": "text/x-python",
   "name": "python",
   "nbconvert_exporter": "python",
   "pygments_lexer": "ipython3",
   "version": "3.9.12"
  },
  "otter": {
   "OK_FORMAT": true,
   "tests": {
    "movies-by-cast": {
     "name": "movies-by-cast",
     "points": 0,
     "suites": [
      {
       "cases": [
        {
         "code": ">>> practice_test.check(\"qmovies-by-cast\", movies_by_cast)\nTrue",
         "hidden": false,
         "locked": false
        }
       ],
       "scored": true,
       "setup": "",
       "teardown": "",
       "type": "doctest"
      }
     ]
    },
    "q1": {
     "name": "q1",
     "points": 5,
     "suites": [
      {
       "cases": [
        {
         "code": ">>> practice_test.check(\"q1\", decade_2000)\nTrue",
         "hidden": false,
         "locked": false
        }
       ],
       "scored": true,
       "setup": "",
       "teardown": "",
       "type": "doctest"
      }
     ]
    },
    "q10": {
     "name": "q10",
     "points": 5,
     "suites": [
      {
       "cases": [
        {
         "code": ">>> practice_test.check(\"q10\", years_between)\nTrue",
         "hidden": false,
         "locked": false
        }
       ],
       "scored": true,
       "setup": "",
       "teardown": "",
       "type": "doctest"
      }
     ]
    },
    "q11": {
     "name": "q11",
     "points": 5,
     "suites": [
      {
       "cases": [
        {
         "code": ">>> practice_test.check(\"q11\", mark_ruffalo_movies)\nTrue",
         "hidden": false,
         "locked": false
        }
       ],
       "scored": true,
       "setup": "",
       "teardown": "",
       "type": "doctest"
      }
     ]
    },
    "q12": {
     "name": "q12",
     "points": 5,
     "suites": [
      {
       "cases": [
        {
         "code": ">>> practice_test.check(\"q12\", lebron_james_movies)\nTrue",
         "hidden": false,
         "locked": false
        }
       ],
       "scored": true,
       "setup": "",
       "teardown": "",
       "type": "doctest"
      }
     ]
    },
    "q13": {
     "name": "q13",
     "points": 5,
     "suites": [
      {
       "cases": [
        {
         "code": ">>> practice_test.check(\"q13\", most_movies_cast)\nTrue",
         "hidden": false,
         "locked": false
        }
       ],
       "scored": true,
       "setup": "",
       "teardown": "",
       "type": "doctest"
      }
     ]
    },
    "q14": {
     "name": "q14",
     "points": 5,
     "suites": [
      {
       "cases": [
        {
         "code": ">>> practice_test.check(\"q14\", median_rating)\nTrue",
         "hidden": false,
         "locked": false
        }
       ],
       "scored": true,
       "setup": "",
       "teardown": "",
       "type": "doctest"
      }
     ]
    },
    "q15": {
     "name": "q15",
     "points": 5,
     "suites": [
      {
       "cases": [
        {
         "code": ">>> practice_test.check(\"q15\", ratings_by_cast)\nTrue",
         "hidden": false,
         "locked": false
        }
       ],
       "scored": true,
       "setup": "",
       "teardown": "",
       "type": "doctest"
      }
     ]
    },
    "q16": {
     "name": "q16",
     "points": 5,
     "suites": [
      {
       "cases": [
        {
         "code": ">>> practice_test.check(\"q16\", robert_median_rating)\nTrue",
         "hidden": false,
         "locked": false
        }
       ],
       "scored": true,
       "setup": "",
       "teardown": "",
       "type": "doctest"
      }
     ]
    },
    "q17-1": {
     "name": "q17-1",
     "points": 3,
     "suites": [
      {
       "cases": [
        {
         "code": ">>> practice_test.check(\"q17-1\", median_ratings_by_cast)\nTrue",
         "hidden": false,
         "locked": false
        }
       ],
       "scored": true,
       "setup": "",
       "teardown": "",
       "type": "doctest"
      }
     ]
    },
    "q17-2": {
     "name": "q17-2",
     "points": 2,
     "suites": [
      {
       "cases": [
        {
         "code": ">>> practice_test.check(\"q17-2\", median_ratings_by_cast)\nTrue",
         "hidden": false,
         "locked": false
        }
       ],
       "scored": true,
       "setup": "",
       "teardown": "",
       "type": "doctest"
      }
     ]
    },
    "q18-1": {
     "name": "q18-1",
     "points": 3,
     "suites": [
      {
       "cases": [
        {
         "code": ">>> practice_test.check(\"q18-1\", max_ratings_by_cast)\nTrue",
         "hidden": false,
         "locked": false
        }
       ],
       "scored": true,
       "setup": "",
       "teardown": "",
       "type": "doctest"
      }
     ]
    },
    "q18-2": {
     "name": "q18-2",
     "points": 2,
     "suites": [
      {
       "cases": [
        {
         "code": ">>> practice_test.check(\"q18-2\", mark_ruffalo_max_rating)\nTrue",
         "hidden": false,
         "locked": false
        }
       ],
       "scored": true,
       "setup": "",
       "teardown": "",
       "type": "doctest"
      }
     ]
    },
    "q19": {
     "name": "q19",
     "points": 5,
     "suites": [
      {
       "cases": [
        {
         "code": ">>> practice_test.check(\"q19\", max_ratings_by_cast)\nTrue",
         "hidden": false,
         "locked": false
        }
       ],
       "scored": true,
       "setup": "",
       "teardown": "",
       "type": "doctest"
      }
     ]
    },
    "q2": {
     "name": "q2",
     "points": 5,
     "suites": [
      {
       "cases": [
        {
         "code": ">>> practice_test.check(\"q2\", decade_1843)\nTrue",
         "hidden": false,
         "locked": false
        }
       ],
       "scored": true,
       "setup": "",
       "teardown": "",
       "type": "doctest"
      }
     ]
    },
    "q20": {
     "name": "q20",
     "points": 5,
     "suites": [
      {
       "cases": [
        {
         "code": ">>> practice_test.check(\"q20\", lowest_max_rated_cast)\nTrue",
         "hidden": false,
         "locked": false
        }
       ],
       "scored": true,
       "setup": "",
       "teardown": "",
       "type": "doctest"
      }
     ]
    },
    "q3": {
     "name": "q3",
     "points": 5,
     "suites": [
      {
       "cases": [
        {
         "code": ">>> practice_test.check(\"q3\", movies_with_decade)\nTrue",
         "hidden": false,
         "locked": false
        }
       ],
       "scored": true,
       "setup": "",
       "teardown": "",
       "type": "doctest"
      }
     ]
    },
    "q4": {
     "name": "q4",
     "points": 5,
     "suites": [
      {
       "cases": [
        {
         "code": ">>> practice_test.check(\"q4\", avg_rating_2011_2020)\nTrue",
         "hidden": false,
         "locked": false
        }
       ],
       "scored": true,
       "setup": "",
       "teardown": "",
       "type": "doctest"
      }
     ]
    },
    "q5": {
     "name": "q5",
     "points": 5,
     "suites": [
      {
       "cases": [
        {
         "code": ">>> practice_test.check(\"q5\", sorted_plot_movies_data)\nTrue",
         "hidden": false,
         "locked": false
        }
       ],
       "scored": true,
       "setup": "",
       "teardown": "",
       "type": "doctest"
      }
     ]
    },
    "q6": {
     "name": "q6",
     "points": 5,
     "suites": [
      {
       "cases": [
        {
         "code": ">>> practice_test.check(\"q6\", sorted_plot_movies_data_duration)\nTrue",
         "hidden": false,
         "locked": false
        }
       ],
       "scored": true,
       "setup": "",
       "teardown": "",
       "type": "doctest"
      }
     ]
    },
    "q7": {
     "name": "q7",
     "points": 5,
     "suites": [
      {
       "cases": [
        {
         "code": ">>> practice_test.check(\"q7\", shortest_movie)\nTrue",
         "hidden": false,
         "locked": false
        }
       ],
       "scored": true,
       "setup": "",
       "teardown": "",
       "type": "doctest"
      }
     ]
    },
    "q8": {
     "name": "q8",
     "points": 5,
     "suites": [
      {
       "cases": [
        {
         "code": ">>> practice_test.check(\"q8\", sorted_movies_data)\nTrue",
         "hidden": false,
         "locked": false
        }
       ],
       "scored": true,
       "setup": "",
       "teardown": "",
       "type": "doctest"
      }
     ]
    },
    "q9": {
     "name": "q9",
     "points": 5,
     "suites": [
      {
       "cases": [
        {
         "code": ">>> practice_test.check(\"q9\", second_most_recent_movie)\nTrue",
         "hidden": false,
         "locked": false
        }
       ],
       "scored": true,
       "setup": "",
       "teardown": "",
       "type": "doctest"
      }
     ]
    }
   }
  }
 },
 "nbformat": 4,
 "nbformat_minor": 5
}
