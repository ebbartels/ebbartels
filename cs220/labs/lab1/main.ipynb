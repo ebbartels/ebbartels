{
 "cells": [
  {
   "cell_type": "code",
   "execution_count": 1,
   "id": "a8f0059c",
   "metadata": {},
   "outputs": [
    {
     "name": "stdout",
     "output_type": "stream",
     "text": [
      "Hello CS220 / CS319 students! Now you know how to download and run a notebook file.\n"
     ]
    }
   ],
   "source": [
    "print(\"Hello CS220 / CS319 students! Now you know how to download and run a notebook file.\")"
   ]
  },
  {
   "cell_type": "code",
   "execution_count": null,
   "id": "04501af3",
   "metadata": {},
   "outputs": [],
   "source": []
  }
 ],
 "metadata": {
  "kernelspec": {
   "display_name": "Python 3 (ipykernel)",
   "language": "python",
   "name": "python3"
  },
  "language_info": {
   "codemirror_mode": {
    "name": "ipython",
    "version": 3
   },
   "file_extension": ".py",
   "mimetype": "text/x-python",
   "name": "python",
   "nbconvert_exporter": "python",
   "pygments_lexer": "ipython3",
   "version": "3.9.12"
  }
 },
 "nbformat": 4,
 "nbformat_minor": 5
}
